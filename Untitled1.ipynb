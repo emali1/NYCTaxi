{
 "cells": [
  {
   "cell_type": "code",
   "execution_count": 4,
   "metadata": {},
   "outputs": [],
   "source": [
    "import numpy as np\n",
    "import sklearn.feature_selection as fs\n",
    "\n",
    "# We generate sample from multivariate normal distribution, using\n",
    "# transformation from initially uncorrelated variables. The zero\n",
    "# variables after transformation is selected as the target vector,\n",
    "# it has the strongest correlation with the variable 2, and\n",
    "# the weakest correlation with the variable 1.\n",
    "T = np.array([\n",
    "    [1, 0.5, 2, 1],\n",
    "    [0, 1, 0.1, 0.0],\n",
    "    [0, 0.1, 1, 0.1],\n",
    "    [0, 0.1, 0.1, 1]\n",
    "])\n",
    "cov = T.dot(T.T)\n",
    "mean = np.zeros(4)\n",
    "\n",
    "np.random.seed(0)\n",
    "Z = np.random.multivariate_normal(mean, cov, size=1000)\n",
    "X = Z[:, 1:]\n",
    "y = Z[:, 0]\n",
    "\n",
    "mi = fs.mutual_info_regression(X, y, random_state=0)\n",
    "np.testing.assert_array_equal(np.argsort(-mi), np.array([1, 2, 0]))"
   ]
  },
  {
   "cell_type": "code",
   "execution_count": 6,
   "metadata": {},
   "outputs": [
    {
     "data": {
      "text/plain": [
       "array([1, 2, 0], dtype=int64)"
      ]
     },
     "execution_count": 6,
     "metadata": {},
     "output_type": "execute_result"
    }
   ],
   "source": [
    "np.argsort(-mi)"
   ]
  },
  {
   "cell_type": "code",
   "execution_count": 7,
   "metadata": {},
   "outputs": [
    {
     "data": {
      "text/plain": [
       "array([[-4.7042528 , -0.30050171, -0.40399743, -1.51526725],\n",
       "       [-4.50559245, -1.68246717, -1.32332927, -1.55829286],\n",
       "       [ 0.01573168,  0.42915949,  0.64596013,  0.04146056],\n",
       "       ...,\n",
       "       [-0.3972642 , -0.58982047, -0.41891609,  1.4352278 ],\n",
       "       [-0.00822088, -0.83358978, -0.07838167, -0.24971391],\n",
       "       [-4.20160664, -0.9074199 , -1.25958826, -2.33352796]])"
      ]
     },
     "execution_count": 7,
     "metadata": {},
     "output_type": "execute_result"
    }
   ],
   "source": [
    "Z"
   ]
  },
  {
   "cell_type": "code",
   "execution_count": null,
   "metadata": {},
   "outputs": [],
   "source": []
  }
 ],
 "metadata": {
  "kernelspec": {
   "display_name": "Python 2",
   "language": "python",
   "name": "python2"
  },
  "language_info": {
   "codemirror_mode": {
    "name": "ipython",
    "version": 2
   },
   "file_extension": ".py",
   "mimetype": "text/x-python",
   "name": "python",
   "nbconvert_exporter": "python",
   "pygments_lexer": "ipython2",
   "version": "2.7.14"
  }
 },
 "nbformat": 4,
 "nbformat_minor": 2
}
