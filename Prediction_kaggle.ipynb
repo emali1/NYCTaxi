{
 "cells": [
  {
   "cell_type": "code",
   "execution_count": 35,
   "metadata": {},
   "outputs": [],
   "source": [
    "import pandas as pd\n",
    "import pickle\n",
    "from sklearn.neural_network import MLPRegressor\n",
    "import xgboost as xgb\n",
    "from sklearn.cluster import KMeans\n",
    "%matplotlib inline\n",
    "import matplotlib.pyplot as plt\n",
    "import numpy as np\n",
    "from scipy import stats"
   ]
  },
  {
   "cell_type": "code",
   "execution_count": 36,
   "metadata": {},
   "outputs": [],
   "source": [
    "nn_model = pickle.load(open('model_Kaggle', 'rb'))"
   ]
  },
  {
   "cell_type": "code",
   "execution_count": 47,
   "metadata": {},
   "outputs": [],
   "source": [
    "full_tripdata= pd.read_csv(\"data/test.csv\")"
   ]
  },
  {
   "cell_type": "code",
   "execution_count": 48,
   "metadata": {},
   "outputs": [
    {
     "data": {
      "text/plain": [
       "Index([u'id', u'vendor_id', u'pickup_datetime', u'passenger_count',\n",
       "       u'pickup_longitude', u'pickup_latitude', u'dropoff_longitude',\n",
       "       u'dropoff_latitude', u'store_and_fwd_flag'],\n",
       "      dtype='object')"
      ]
     },
     "execution_count": 48,
     "metadata": {},
     "output_type": "execute_result"
    }
   ],
   "source": [
    "full_tripdata.columns"
   ]
  },
  {
   "cell_type": "code",
   "execution_count": 49,
   "metadata": {},
   "outputs": [
    {
     "name": "stdout",
     "output_type": "stream",
     "text": [
      "Index([u'id', u'pickup_datetime', u'pickup_longitude', u'pickup_latitude',\n",
      "       u'dropoff_longitude', u'dropoff_latitude', u'weekday', u'hourofday'],\n",
      "      dtype='object')\n",
      "       pickup_longitude  pickup_latitude\n",
      "count     625134.000000    625134.000000\n",
      "mean         -73.973614        40.750927\n",
      "std            0.073389         0.029848\n",
      "min         -121.933128        37.389587\n",
      "25%          -73.991852        40.737392\n",
      "50%          -73.981743        40.754093\n",
      "75%          -73.967400        40.768394\n",
      "max          -69.248917        42.814938\n",
      "       dropoff_longitude  dropoff_latitude\n",
      "count      625134.000000     625134.000000\n",
      "mean          -73.973458         40.751816\n",
      "std             0.072565          0.035824\n",
      "min          -121.933327         36.601322\n",
      "25%           -73.991318         40.736000\n",
      "50%           -73.979774         40.754543\n",
      "75%           -73.963013         40.769852\n",
      "max           -67.496796         48.857597\n"
     ]
    }
   ],
   "source": [
    "#processing test data \n",
    "\n",
    "full_tripdata[\"pickup_datetime\"] = pd.to_datetime(full_tripdata[\"pickup_datetime\"])\n",
    "full_tripdata = full_tripdata.drop(columns=['vendor_id','store_and_fwd_flag','passenger_count'])\n",
    "full_tripdata[\"weekday\"] = full_tripdata[\"pickup_datetime\"].dt.dayofweek\n",
    "full_tripdata[\"hourofday\"] = full_tripdata[\"pickup_datetime\"].dt.hour\n",
    "#prepare location, use pre-trained k-mean model\n",
    "model = pickle.load(open('location_cluster_kmean', 'rb'))\n",
    "print full_tripdata.columns\n",
    "pickupLocations = full_tripdata.iloc[:,2:4]\n",
    "print pickupLocations.describe()\n",
    "full_tripdata[\"pickupLoc\"] = model.predict(pickupLocations.as_matrix())\n",
    "\n",
    "dropoffLocations = full_tripdata.iloc[:,4:6]\n",
    "full_tripdata[\"dropoffLoc\"] = model.predict(dropoffLocations.as_matrix())\n",
    "print dropoffLocations.describe()\n",
    "\n",
    "training = full_tripdata.drop(columns=['pickup_datetime',\n",
    "                                       'dropoff_longitude',\n",
    "                                       'dropoff_latitude',\n",
    "                                       'pickup_longitude',\n",
    "                                       'pickup_latitude',\n",
    "                                       'id'])\n",
    "\n",
    "training['weekday'] = training['weekday'].astype('category')\n",
    "training['hourofday'] = training['hourofday'].astype('category')\n",
    "training['pickupLoc'] = training['pickupLoc'].astype('category')\n",
    "training['dropoffLoc'] = training['dropoffLoc'].astype('category')\n",
    "\n",
    "X = pd.get_dummies(training)"
   ]
  },
  {
   "cell_type": "code",
   "execution_count": 50,
   "metadata": {},
   "outputs": [
    {
     "data": {
      "text/plain": [
       "Index([u'weekday_0', u'weekday_1', u'weekday_2', u'weekday_3', u'weekday_4',\n",
       "       u'weekday_5', u'weekday_6', u'hourofday_0', u'hourofday_1',\n",
       "       u'hourofday_2',\n",
       "       ...\n",
       "       u'dropoffLoc_40', u'dropoffLoc_41', u'dropoffLoc_42', u'dropoffLoc_43',\n",
       "       u'dropoffLoc_44', u'dropoffLoc_45', u'dropoffLoc_46', u'dropoffLoc_47',\n",
       "       u'dropoffLoc_48', u'dropoffLoc_49'],\n",
       "      dtype='object', length=131)"
      ]
     },
     "execution_count": 50,
     "metadata": {},
     "output_type": "execute_result"
    }
   ],
   "source": [
    "X.columns"
   ]
  },
  {
   "cell_type": "code",
   "execution_count": 51,
   "metadata": {},
   "outputs": [
    {
     "ename": "ValueError",
     "evalue": "feature_names mismatch: ['f0', 'f1', 'f2', 'f3', 'f4', 'f5', 'f6', 'f7', 'f8', 'f9', 'f10', 'f11', 'f12', 'f13', 'f14', 'f15', 'f16', 'f17', 'f18', 'f19', 'f20', 'f21', 'f22', 'f23', 'f24', 'f25', 'f26', 'f27', 'f28', 'f29', 'f30', 'f31', 'f32', 'f33', 'f34', 'f35', 'f36', 'f37', 'f38', 'f39', 'f40', 'f41', 'f42', 'f43', 'f44', 'f45', 'f46', 'f47', 'f48', 'f49', 'f50', 'f51', 'f52', 'f53', 'f54', 'f55', 'f56', 'f57', 'f58', 'f59', 'f60', 'f61', 'f62', 'f63', 'f64', 'f65', 'f66', 'f67', 'f68', 'f69', 'f70', 'f71', 'f72', 'f73', 'f74', 'f75', 'f76', 'f77', 'f78', 'f79', 'f80', 'f81', 'f82', 'f83', 'f84', 'f85', 'f86', 'f87', 'f88', 'f89', 'f90', 'f91', 'f92', 'f93', 'f94', 'f95', 'f96', 'f97', 'f98', 'f99', 'f100', 'f101', 'f102', 'f103', 'f104', 'f105', 'f106', 'f107', 'f108', 'f109', 'f110', 'f111', 'f112', 'f113', 'f114', 'f115', 'f116', 'f117', 'f118', 'f119', 'f120', 'f121', 'f122', 'f123', 'f124', 'f125', 'f126', 'f127', 'f128', 'f129', 'f130'] [u'weekday_0', u'weekday_1', u'weekday_2', u'weekday_3', u'weekday_4', u'weekday_5', u'weekday_6', u'hourofday_0', u'hourofday_1', u'hourofday_2', u'hourofday_3', u'hourofday_4', u'hourofday_5', u'hourofday_6', u'hourofday_7', u'hourofday_8', u'hourofday_9', u'hourofday_10', u'hourofday_11', u'hourofday_12', u'hourofday_13', u'hourofday_14', u'hourofday_15', u'hourofday_16', u'hourofday_17', u'hourofday_18', u'hourofday_19', u'hourofday_20', u'hourofday_21', u'hourofday_22', u'hourofday_23', u'pickupLoc_0', u'pickupLoc_1', u'pickupLoc_2', u'pickupLoc_3', u'pickupLoc_4', u'pickupLoc_5', u'pickupLoc_6', u'pickupLoc_7', u'pickupLoc_8', u'pickupLoc_9', u'pickupLoc_10', u'pickupLoc_11', u'pickupLoc_12', u'pickupLoc_13', u'pickupLoc_14', u'pickupLoc_15', u'pickupLoc_16', u'pickupLoc_17', u'pickupLoc_18', u'pickupLoc_19', u'pickupLoc_20', u'pickupLoc_21', u'pickupLoc_22', u'pickupLoc_23', u'pickupLoc_24', u'pickupLoc_25', u'pickupLoc_26', u'pickupLoc_27', u'pickupLoc_28', u'pickupLoc_29', u'pickupLoc_30', u'pickupLoc_31', u'pickupLoc_32', u'pickupLoc_33', u'pickupLoc_34', u'pickupLoc_35', u'pickupLoc_36', u'pickupLoc_37', u'pickupLoc_38', u'pickupLoc_39', u'pickupLoc_40', u'pickupLoc_41', u'pickupLoc_42', u'pickupLoc_43', u'pickupLoc_44', u'pickupLoc_45', u'pickupLoc_46', u'pickupLoc_47', u'pickupLoc_48', u'pickupLoc_49', u'dropoffLoc_0', u'dropoffLoc_1', u'dropoffLoc_2', u'dropoffLoc_3', u'dropoffLoc_4', u'dropoffLoc_5', u'dropoffLoc_6', u'dropoffLoc_7', u'dropoffLoc_8', u'dropoffLoc_9', u'dropoffLoc_10', u'dropoffLoc_11', u'dropoffLoc_12', u'dropoffLoc_13', u'dropoffLoc_14', u'dropoffLoc_15', u'dropoffLoc_16', u'dropoffLoc_17', u'dropoffLoc_18', u'dropoffLoc_19', u'dropoffLoc_20', u'dropoffLoc_21', u'dropoffLoc_22', u'dropoffLoc_23', u'dropoffLoc_24', u'dropoffLoc_25', u'dropoffLoc_26', u'dropoffLoc_27', u'dropoffLoc_28', u'dropoffLoc_29', u'dropoffLoc_30', u'dropoffLoc_31', u'dropoffLoc_32', u'dropoffLoc_33', u'dropoffLoc_34', u'dropoffLoc_35', u'dropoffLoc_36', u'dropoffLoc_37', u'dropoffLoc_38', u'dropoffLoc_39', u'dropoffLoc_40', u'dropoffLoc_41', u'dropoffLoc_42', u'dropoffLoc_43', u'dropoffLoc_44', u'dropoffLoc_45', u'dropoffLoc_46', u'dropoffLoc_47', u'dropoffLoc_48', u'dropoffLoc_49']\nexpected f41, f40, f43, f42, f45, f44, f47, f46, f49, f48, f118, f119, f114, f115, f116, f117, f110, f111, f112, f113, f56, f57, f54, f55, f52, f53, f50, f51, f58, f59, f109, f108, f107, f106, f105, f104, f103, f102, f101, f100, f23, f22, f21, f20, f27, f26, f25, f24, f29, f28, f130, f30, f31, f32, f33, f34, f35, f36, f37, f38, f39, f125, f124, f127, f126, f121, f120, f123, f122, f129, f128, f89, f88, f85, f84, f87, f86, f81, f80, f83, f82, f92, f93, f90, f91, f96, f97, f94, f95, f98, f99, f18, f19, f12, f13, f10, f11, f16, f17, f14, f15, f0, f1, f2, f3, f4, f5, f6, f7, f8, f9, f69, f68, f67, f66, f65, f64, f63, f62, f61, f60, f78, f79, f74, f75, f76, f77, f70, f71, f72, f73 in input data\ntraining data did not have the following fields: pickupLoc_29, pickupLoc_28, pickupLoc_23, pickupLoc_22, pickupLoc_21, pickupLoc_20, pickupLoc_27, pickupLoc_26, pickupLoc_25, pickupLoc_24, dropoffLoc_42, dropoffLoc_43, dropoffLoc_40, dropoffLoc_41, dropoffLoc_46, dropoffLoc_47, dropoffLoc_44, dropoffLoc_45, dropoffLoc_48, dropoffLoc_49, pickupLoc_16, pickupLoc_17, pickupLoc_14, pickupLoc_15, pickupLoc_12, pickupLoc_13, pickupLoc_10, pickupLoc_11, pickupLoc_18, pickupLoc_19, hourofday_13, hourofday_12, hourofday_11, hourofday_10, hourofday_17, hourofday_16, hourofday_15, hourofday_14, hourofday_19, hourofday_18, dropoffLoc_19, dropoffLoc_18, dropoffLoc_15, dropoffLoc_14, dropoffLoc_17, dropoffLoc_16, dropoffLoc_11, dropoffLoc_10, dropoffLoc_13, dropoffLoc_12, dropoffLoc_9, dropoffLoc_8, dropoffLoc_5, dropoffLoc_4, dropoffLoc_7, dropoffLoc_6, dropoffLoc_1, dropoffLoc_0, dropoffLoc_3, dropoffLoc_2, hourofday_22, hourofday_23, hourofday_20, hourofday_21, weekday_2, weekday_3, weekday_0, weekday_1, weekday_6, weekday_4, weekday_5, dropoffLoc_39, dropoffLoc_38, dropoffLoc_33, dropoffLoc_32, dropoffLoc_31, dropoffLoc_30, dropoffLoc_37, dropoffLoc_36, dropoffLoc_35, dropoffLoc_34, pickupLoc_4, pickupLoc_5, pickupLoc_6, pickupLoc_7, pickupLoc_0, pickupLoc_1, pickupLoc_2, pickupLoc_3, pickupLoc_8, pickupLoc_9, pickupLoc_49, pickupLoc_48, pickupLoc_45, pickupLoc_44, pickupLoc_47, pickupLoc_46, pickupLoc_41, pickupLoc_40, pickupLoc_43, pickupLoc_42, dropoffLoc_24, dropoffLoc_25, dropoffLoc_26, dropoffLoc_27, dropoffLoc_20, dropoffLoc_21, dropoffLoc_22, dropoffLoc_23, dropoffLoc_28, dropoffLoc_29, hourofday_9, hourofday_8, hourofday_7, hourofday_6, hourofday_5, hourofday_4, hourofday_3, hourofday_2, hourofday_1, hourofday_0, pickupLoc_38, pickupLoc_39, pickupLoc_30, pickupLoc_31, pickupLoc_32, pickupLoc_33, pickupLoc_34, pickupLoc_35, pickupLoc_36, pickupLoc_37",
     "output_type": "error",
     "traceback": [
      "\u001b[0;31m---------------------------------------------------------------------------\u001b[0m",
      "\u001b[0;31mValueError\u001b[0m                                Traceback (most recent call last)",
      "\u001b[0;32m<ipython-input-51-4e8fccded47a>\u001b[0m in \u001b[0;36m<module>\u001b[0;34m()\u001b[0m\n\u001b[1;32m      1\u001b[0m \u001b[0mdata_test\u001b[0m \u001b[0;34m=\u001b[0m \u001b[0mxgb\u001b[0m\u001b[0;34m.\u001b[0m\u001b[0mDMatrix\u001b[0m\u001b[0;34m(\u001b[0m\u001b[0mX\u001b[0m\u001b[0;34m)\u001b[0m\u001b[0;34m\u001b[0m\u001b[0m\n\u001b[0;32m----> 2\u001b[0;31m \u001b[0mresult\u001b[0m \u001b[0;34m=\u001b[0m \u001b[0mnn_model\u001b[0m\u001b[0;34m.\u001b[0m\u001b[0mpredict\u001b[0m\u001b[0;34m(\u001b[0m\u001b[0mdata_test\u001b[0m\u001b[0;34m)\u001b[0m\u001b[0;34m\u001b[0m\u001b[0m\n\u001b[0m\u001b[1;32m      3\u001b[0m \u001b[0;31m#nn_model.feature_types\u001b[0m\u001b[0;34m\u001b[0m\u001b[0;34m\u001b[0m\u001b[0m\n",
      "\u001b[0;32m/home/ma_emali/anaconda2/lib/python2.7/site-packages/xgboost/core.pyc\u001b[0m in \u001b[0;36mpredict\u001b[0;34m(self, data, output_margin, ntree_limit, pred_leaf, pred_contribs, approx_contribs)\u001b[0m\n\u001b[1;32m   1042\u001b[0m             \u001b[0moption_mask\u001b[0m \u001b[0;34m|=\u001b[0m \u001b[0;36m0x08\u001b[0m\u001b[0;34m\u001b[0m\u001b[0m\n\u001b[1;32m   1043\u001b[0m \u001b[0;34m\u001b[0m\u001b[0m\n\u001b[0;32m-> 1044\u001b[0;31m         \u001b[0mself\u001b[0m\u001b[0;34m.\u001b[0m\u001b[0m_validate_features\u001b[0m\u001b[0;34m(\u001b[0m\u001b[0mdata\u001b[0m\u001b[0;34m)\u001b[0m\u001b[0;34m\u001b[0m\u001b[0m\n\u001b[0m\u001b[1;32m   1045\u001b[0m \u001b[0;34m\u001b[0m\u001b[0m\n\u001b[1;32m   1046\u001b[0m         \u001b[0mlength\u001b[0m \u001b[0;34m=\u001b[0m \u001b[0mc_bst_ulong\u001b[0m\u001b[0;34m(\u001b[0m\u001b[0;34m)\u001b[0m\u001b[0;34m\u001b[0m\u001b[0m\n",
      "\u001b[0;32m/home/ma_emali/anaconda2/lib/python2.7/site-packages/xgboost/core.pyc\u001b[0m in \u001b[0;36m_validate_features\u001b[0;34m(self, data)\u001b[0m\n\u001b[1;32m   1286\u001b[0m \u001b[0;34m\u001b[0m\u001b[0m\n\u001b[1;32m   1287\u001b[0m                 raise ValueError(msg.format(self.feature_names,\n\u001b[0;32m-> 1288\u001b[0;31m                                             data.feature_names))\n\u001b[0m\u001b[1;32m   1289\u001b[0m \u001b[0;34m\u001b[0m\u001b[0m\n\u001b[1;32m   1290\u001b[0m     \u001b[0;32mdef\u001b[0m \u001b[0mget_split_value_histogram\u001b[0m\u001b[0;34m(\u001b[0m\u001b[0mself\u001b[0m\u001b[0;34m,\u001b[0m \u001b[0mfeature\u001b[0m\u001b[0;34m,\u001b[0m \u001b[0mfmap\u001b[0m\u001b[0;34m=\u001b[0m\u001b[0;34m''\u001b[0m\u001b[0;34m,\u001b[0m \u001b[0mbins\u001b[0m\u001b[0;34m=\u001b[0m\u001b[0mNone\u001b[0m\u001b[0;34m,\u001b[0m \u001b[0mas_pandas\u001b[0m\u001b[0;34m=\u001b[0m\u001b[0mTrue\u001b[0m\u001b[0;34m)\u001b[0m\u001b[0;34m:\u001b[0m\u001b[0;34m\u001b[0m\u001b[0m\n",
      "\u001b[0;31mValueError\u001b[0m: feature_names mismatch: ['f0', 'f1', 'f2', 'f3', 'f4', 'f5', 'f6', 'f7', 'f8', 'f9', 'f10', 'f11', 'f12', 'f13', 'f14', 'f15', 'f16', 'f17', 'f18', 'f19', 'f20', 'f21', 'f22', 'f23', 'f24', 'f25', 'f26', 'f27', 'f28', 'f29', 'f30', 'f31', 'f32', 'f33', 'f34', 'f35', 'f36', 'f37', 'f38', 'f39', 'f40', 'f41', 'f42', 'f43', 'f44', 'f45', 'f46', 'f47', 'f48', 'f49', 'f50', 'f51', 'f52', 'f53', 'f54', 'f55', 'f56', 'f57', 'f58', 'f59', 'f60', 'f61', 'f62', 'f63', 'f64', 'f65', 'f66', 'f67', 'f68', 'f69', 'f70', 'f71', 'f72', 'f73', 'f74', 'f75', 'f76', 'f77', 'f78', 'f79', 'f80', 'f81', 'f82', 'f83', 'f84', 'f85', 'f86', 'f87', 'f88', 'f89', 'f90', 'f91', 'f92', 'f93', 'f94', 'f95', 'f96', 'f97', 'f98', 'f99', 'f100', 'f101', 'f102', 'f103', 'f104', 'f105', 'f106', 'f107', 'f108', 'f109', 'f110', 'f111', 'f112', 'f113', 'f114', 'f115', 'f116', 'f117', 'f118', 'f119', 'f120', 'f121', 'f122', 'f123', 'f124', 'f125', 'f126', 'f127', 'f128', 'f129', 'f130'] [u'weekday_0', u'weekday_1', u'weekday_2', u'weekday_3', u'weekday_4', u'weekday_5', u'weekday_6', u'hourofday_0', u'hourofday_1', u'hourofday_2', u'hourofday_3', u'hourofday_4', u'hourofday_5', u'hourofday_6', u'hourofday_7', u'hourofday_8', u'hourofday_9', u'hourofday_10', u'hourofday_11', u'hourofday_12', u'hourofday_13', u'hourofday_14', u'hourofday_15', u'hourofday_16', u'hourofday_17', u'hourofday_18', u'hourofday_19', u'hourofday_20', u'hourofday_21', u'hourofday_22', u'hourofday_23', u'pickupLoc_0', u'pickupLoc_1', u'pickupLoc_2', u'pickupLoc_3', u'pickupLoc_4', u'pickupLoc_5', u'pickupLoc_6', u'pickupLoc_7', u'pickupLoc_8', u'pickupLoc_9', u'pickupLoc_10', u'pickupLoc_11', u'pickupLoc_12', u'pickupLoc_13', u'pickupLoc_14', u'pickupLoc_15', u'pickupLoc_16', u'pickupLoc_17', u'pickupLoc_18', u'pickupLoc_19', u'pickupLoc_20', u'pickupLoc_21', u'pickupLoc_22', u'pickupLoc_23', u'pickupLoc_24', u'pickupLoc_25', u'pickupLoc_26', u'pickupLoc_27', u'pickupLoc_28', u'pickupLoc_29', u'pickupLoc_30', u'pickupLoc_31', u'pickupLoc_32', u'pickupLoc_33', u'pickupLoc_34', u'pickupLoc_35', u'pickupLoc_36', u'pickupLoc_37', u'pickupLoc_38', u'pickupLoc_39', u'pickupLoc_40', u'pickupLoc_41', u'pickupLoc_42', u'pickupLoc_43', u'pickupLoc_44', u'pickupLoc_45', u'pickupLoc_46', u'pickupLoc_47', u'pickupLoc_48', u'pickupLoc_49', u'dropoffLoc_0', u'dropoffLoc_1', u'dropoffLoc_2', u'dropoffLoc_3', u'dropoffLoc_4', u'dropoffLoc_5', u'dropoffLoc_6', u'dropoffLoc_7', u'dropoffLoc_8', u'dropoffLoc_9', u'dropoffLoc_10', u'dropoffLoc_11', u'dropoffLoc_12', u'dropoffLoc_13', u'dropoffLoc_14', u'dropoffLoc_15', u'dropoffLoc_16', u'dropoffLoc_17', u'dropoffLoc_18', u'dropoffLoc_19', u'dropoffLoc_20', u'dropoffLoc_21', u'dropoffLoc_22', u'dropoffLoc_23', u'dropoffLoc_24', u'dropoffLoc_25', u'dropoffLoc_26', u'dropoffLoc_27', u'dropoffLoc_28', u'dropoffLoc_29', u'dropoffLoc_30', u'dropoffLoc_31', u'dropoffLoc_32', u'dropoffLoc_33', u'dropoffLoc_34', u'dropoffLoc_35', u'dropoffLoc_36', u'dropoffLoc_37', u'dropoffLoc_38', u'dropoffLoc_39', u'dropoffLoc_40', u'dropoffLoc_41', u'dropoffLoc_42', u'dropoffLoc_43', u'dropoffLoc_44', u'dropoffLoc_45', u'dropoffLoc_46', u'dropoffLoc_47', u'dropoffLoc_48', u'dropoffLoc_49']\nexpected f41, f40, f43, f42, f45, f44, f47, f46, f49, f48, f118, f119, f114, f115, f116, f117, f110, f111, f112, f113, f56, f57, f54, f55, f52, f53, f50, f51, f58, f59, f109, f108, f107, f106, f105, f104, f103, f102, f101, f100, f23, f22, f21, f20, f27, f26, f25, f24, f29, f28, f130, f30, f31, f32, f33, f34, f35, f36, f37, f38, f39, f125, f124, f127, f126, f121, f120, f123, f122, f129, f128, f89, f88, f85, f84, f87, f86, f81, f80, f83, f82, f92, f93, f90, f91, f96, f97, f94, f95, f98, f99, f18, f19, f12, f13, f10, f11, f16, f17, f14, f15, f0, f1, f2, f3, f4, f5, f6, f7, f8, f9, f69, f68, f67, f66, f65, f64, f63, f62, f61, f60, f78, f79, f74, f75, f76, f77, f70, f71, f72, f73 in input data\ntraining data did not have the following fields: pickupLoc_29, pickupLoc_28, pickupLoc_23, pickupLoc_22, pickupLoc_21, pickupLoc_20, pickupLoc_27, pickupLoc_26, pickupLoc_25, pickupLoc_24, dropoffLoc_42, dropoffLoc_43, dropoffLoc_40, dropoffLoc_41, dropoffLoc_46, dropoffLoc_47, dropoffLoc_44, dropoffLoc_45, dropoffLoc_48, dropoffLoc_49, pickupLoc_16, pickupLoc_17, pickupLoc_14, pickupLoc_15, pickupLoc_12, pickupLoc_13, pickupLoc_10, pickupLoc_11, pickupLoc_18, pickupLoc_19, hourofday_13, hourofday_12, hourofday_11, hourofday_10, hourofday_17, hourofday_16, hourofday_15, hourofday_14, hourofday_19, hourofday_18, dropoffLoc_19, dropoffLoc_18, dropoffLoc_15, dropoffLoc_14, dropoffLoc_17, dropoffLoc_16, dropoffLoc_11, dropoffLoc_10, dropoffLoc_13, dropoffLoc_12, dropoffLoc_9, dropoffLoc_8, dropoffLoc_5, dropoffLoc_4, dropoffLoc_7, dropoffLoc_6, dropoffLoc_1, dropoffLoc_0, dropoffLoc_3, dropoffLoc_2, hourofday_22, hourofday_23, hourofday_20, hourofday_21, weekday_2, weekday_3, weekday_0, weekday_1, weekday_6, weekday_4, weekday_5, dropoffLoc_39, dropoffLoc_38, dropoffLoc_33, dropoffLoc_32, dropoffLoc_31, dropoffLoc_30, dropoffLoc_37, dropoffLoc_36, dropoffLoc_35, dropoffLoc_34, pickupLoc_4, pickupLoc_5, pickupLoc_6, pickupLoc_7, pickupLoc_0, pickupLoc_1, pickupLoc_2, pickupLoc_3, pickupLoc_8, pickupLoc_9, pickupLoc_49, pickupLoc_48, pickupLoc_45, pickupLoc_44, pickupLoc_47, pickupLoc_46, pickupLoc_41, pickupLoc_40, pickupLoc_43, pickupLoc_42, dropoffLoc_24, dropoffLoc_25, dropoffLoc_26, dropoffLoc_27, dropoffLoc_20, dropoffLoc_21, dropoffLoc_22, dropoffLoc_23, dropoffLoc_28, dropoffLoc_29, hourofday_9, hourofday_8, hourofday_7, hourofday_6, hourofday_5, hourofday_4, hourofday_3, hourofday_2, hourofday_1, hourofday_0, pickupLoc_38, pickupLoc_39, pickupLoc_30, pickupLoc_31, pickupLoc_32, pickupLoc_33, pickupLoc_34, pickupLoc_35, pickupLoc_36, pickupLoc_37"
     ]
    }
   ],
   "source": [
    "data_test = xgb.DMatrix(X)\n",
    "result = nn_model.predict(data_test)\n",
    "#nn_model.feature_types"
   ]
  },
  {
   "cell_type": "code",
   "execution_count": 22,
   "metadata": {},
   "outputs": [],
   "source": [
    "ytest = np.exp(result)"
   ]
  },
  {
   "cell_type": "code",
   "execution_count": 23,
   "metadata": {},
   "outputs": [],
   "source": [
    "submission = pd.DataFrame({'id': test.id, 'trip_duration': ytest})"
   ]
  },
  {
   "cell_type": "code",
   "execution_count": 26,
   "metadata": {},
   "outputs": [],
   "source": [
    "submission.to_csv(\"submission.csv\",index=False)"
   ]
  },
  {
   "cell_type": "code",
   "execution_count": null,
   "metadata": {},
   "outputs": [],
   "source": []
  }
 ],
 "metadata": {
  "kernelspec": {
   "display_name": "Python 2",
   "language": "python",
   "name": "python2"
  },
  "language_info": {
   "codemirror_mode": {
    "name": "ipython",
    "version": 2
   },
   "file_extension": ".py",
   "mimetype": "text/x-python",
   "name": "python",
   "nbconvert_exporter": "python",
   "pygments_lexer": "ipython2",
   "version": "2.7.14"
  }
 },
 "nbformat": 4,
 "nbformat_minor": 2
}
