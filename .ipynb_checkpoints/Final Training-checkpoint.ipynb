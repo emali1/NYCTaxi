{
 "cells": [
  {
   "cell_type": "code",
   "execution_count": 1,
   "metadata": {},
   "outputs": [],
   "source": [
    "#load data \n",
    "\n",
    "import pandas as pd\n",
    "\n",
    "trip_data_file = \"data/trip_data_4.csv\"\n",
    "trip_fare_file = \"data/trip_fare_4.csv\"\n",
    "\n",
    "trips = pd.read_csv(trip_data_file, nrows=50000)\n",
    "fares = pd.read_csv(trip_fare_file, nrows=50000)\n",
    "\n",
    "full_tripdata = pd.merge(left=trips,right=fares, how='left', left_on=['medallion',' hack_license',' vendor_id',' pickup_datetime'], right_on=['medallion',' hack_license',' vendor_id',' pickup_datetime'])\n",
    "full_tripdata = full_tripdata.drop_duplicates()"
   ]
  },
  {
   "cell_type": "code",
   "execution_count": 2,
   "metadata": {},
   "outputs": [],
   "source": [
    "full_tripdata = full_tripdata.drop(columns=['medallion',' hack_license',' vendor_id',' rate_code',' store_and_fwd_flag'])"
   ]
  },
  {
   "cell_type": "code",
   "execution_count": 3,
   "metadata": {},
   "outputs": [],
   "source": [
    "full_tripdata[\" pickup_datetime\"] = pd.to_datetime(full_tripdata[\" pickup_datetime\"])\n",
    "full_tripdata[\" dropoff_datetime\"] = pd.to_datetime(full_tripdata[\" dropoff_datetime\"])\n",
    "\n",
    "full_tripdata[\"weekday\"] = full_tripdata[\" pickup_datetime\"].dt.dayofweek\n",
    "full_tripdata[\"hourofday\"] = full_tripdata[\" pickup_datetime\"].dt.hour"
   ]
  },
  {
   "cell_type": "code",
   "execution_count": 4,
   "metadata": {},
   "outputs": [],
   "source": [
    "full_tripdata = full_tripdata.loc[(full_tripdata[' pickup_longitude'] != 0) & (full_tripdata[' pickup_latitude'] != 0) & (full_tripdata[' dropoff_latitude'] != 0) & (full_tripdata[' dropoff_latitude'] != 0)]"
   ]
  },
  {
   "cell_type": "code",
   "execution_count": 5,
   "metadata": {},
   "outputs": [],
   "source": [
    "full_tripdata = full_tripdata.loc[(full_tripdata[' pickup_longitude'] != 0) & (full_tripdata[' pickup_latitude'] != 0) & (full_tripdata[' dropoff_latitude'] != 0) & (full_tripdata[' dropoff_latitude'] != 0)]\n",
    "\n",
    "full_tripdata = full_tripdata.loc[(full_tripdata[' trip_distance'] != 0) & (full_tripdata[' trip_time_in_secs'] != 0)]\n",
    "\n",
    "full_tripdata = full_tripdata.loc[(full_tripdata['weekday'] != 0) & (full_tripdata['hourofday'] != 0)]"
   ]
  },
  {
   "cell_type": "code",
   "execution_count": 6,
   "metadata": {},
   "outputs": [],
   "source": [
    "import pickle\n",
    "from sklearn.cluster import KMeans\n",
    "\n",
    "model = pickle.load(open('location_cluster_kmean', 'rb'))"
   ]
  },
  {
   "cell_type": "code",
   "execution_count": 7,
   "metadata": {},
   "outputs": [],
   "source": [
    "pickupLocations = full_tripdata.iloc[:,5:7]\n",
    "full_tripdata[\"pickupLoc\"] = model.predict(pickupLocations.as_matrix())\n",
    "\n",
    "dropoffLocations = full_tripdata.iloc[:,7:9]\n",
    "full_tripdata[\"dropoffLoc\"] = model.predict(dropoffLocations.as_matrix())"
   ]
  },
  {
   "cell_type": "code",
   "execution_count": 8,
   "metadata": {},
   "outputs": [],
   "source": [
    "training = full_tripdata.drop(columns=[' pickup_datetime',\n",
    "                                       ' dropoff_datetime',\n",
    "                                       ' trip_time_in_secs',\n",
    "                                       ' trip_distance',\n",
    "                                       ' dropoff_longitude',\n",
    "                                       ' dropoff_latitude',\n",
    "                                       ' surcharge',\n",
    "                                       ' mta_tax',\n",
    "                                       ' tolls_amount',\n",
    "                                       ' total_amount',\n",
    "                                       ' passenger_count',\n",
    "                                       ' payment_type',\n",
    "                                       ' pickup_longitude',\n",
    "                                       ' pickup_latitude'])"
   ]
  },
  {
   "cell_type": "code",
   "execution_count": 9,
   "metadata": {},
   "outputs": [],
   "source": [
    "training['weekday'] = training['weekday'].astype('category')\n",
    "training['hourofday'] = training['hourofday'].astype('category')\n",
    "training['pickupLoc'] = training['pickupLoc'].astype('category')\n",
    "training['dropoffLoc'] = training['dropoffLoc'].astype('category')"
   ]
  },
  {
   "cell_type": "code",
   "execution_count": 10,
   "metadata": {},
   "outputs": [],
   "source": [
    "X = training.iloc[:,2:]\n",
    "Y_fare = training.iloc[:,0]\n",
    "Y_tip = training.iloc[:,1]\n",
    "\n",
    "X = pd.get_dummies(X)\n"
   ]
  },
  {
   "cell_type": "code",
   "execution_count": 29,
   "metadata": {},
   "outputs": [],
   "source": [
    "recordNumber = 40000\n",
    "X_cv = X.as_matrix()[0:recordNumber,:]\n",
    "Y_fare_cv = Y_fare.tolist()[0:recordNumber]\n",
    "Y_tip_cv = Y_tip.tolist()[0:recordNumber]"
   ]
  },
  {
   "cell_type": "code",
   "execution_count": null,
   "metadata": {},
   "outputs": [],
   "source": [
    "from sklearn.neural_network import MLPRegressor\n",
    "from sklearn.model_selection import GridSearchCV\n",
    "from sklearn.svm import SVR\n",
    "from sklearn.model_selection import cross_val_score\n",
    "\n",
    "model = MLPRegressor()\n",
    "#scores4 = cross_val_score(model, X2, y, cv=4,scoring='neg_mean_squared_error',n_jobs=-1)\n",
    "\n",
    "param_grid = [\n",
    " # {'C': [1, 10, 100, 1000], 'kernel': ['linear']},\n",
    " # {'C': [1, 10, 100, 1000], 'gamma': [0.001, 0.0001], 'kernel': ['rbf']},\n",
    "  {'hidden_layer_sizes': [(20,20),(10,10),(20,30)]},\n",
    " ]\n",
    "\n",
    "clf = GridSearchCV(model, param_grid, cv=4,\n",
    "                       n_jobs=-1)\n",
    "\n",
    "clf.fit(X_cv,Y_fare_cv)\n",
    "\n",
    "clf.cv_results_"
   ]
  },
  {
   "cell_type": "code",
   "execution_count": null,
   "metadata": {},
   "outputs": [],
   "source": [
    "clf.best_score_"
   ]
  },
  {
   "cell_type": "code",
   "execution_count": null,
   "metadata": {},
   "outputs": [],
   "source": [
    "clf.best_params_\n"
   ]
  },
  {
   "cell_type": "code",
   "execution_count": null,
   "metadata": {},
   "outputs": [],
   "source": [
    "model = MLPRegressor(hidden_layer_sizes=(10,10))\n",
    "\n",
    "param_grid = [\n",
    "  {'activation ': [ 'logistic', 'tanh', 'relu']},\n",
    " ]"
   ]
  }
 ],
 "metadata": {
  "kernelspec": {
   "display_name": "Python 2",
   "language": "python",
   "name": "python2"
  },
  "language_info": {
   "codemirror_mode": {
    "name": "ipython",
    "version": 2
   },
   "file_extension": ".py",
   "mimetype": "text/x-python",
   "name": "python",
   "nbconvert_exporter": "python",
   "pygments_lexer": "ipython2",
   "version": "2.7.14"
  }
 },
 "nbformat": 4,
 "nbformat_minor": 2
}
