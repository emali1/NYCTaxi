{
 "cells": [
  {
   "cell_type": "markdown",
   "metadata": {},
   "source": [
    "# Preprocessing data from Kaggle New York Taxi Trip Duration competition "
   ]
  },
  {
   "cell_type": "code",
   "execution_count": 1,
   "metadata": {},
   "outputs": [],
   "source": [
    "#load data \n",
    "\n",
    "import pandas as pd\n",
    "import pickle\n",
    "from sklearn.cluster import KMeans\n",
    "%matplotlib inline\n",
    "import matplotlib.pyplot as plt\n",
    "import numpy as np\n",
    "from scipy import stats\n",
    "\n",
    "trip_data_file = \"data/train.csv\"\n",
    "\n",
    "full_tripdata = pd.read_csv(trip_data_file, nrows=100000)"
   ]
  },
  {
   "cell_type": "code",
   "execution_count": 2,
   "metadata": {},
   "outputs": [
    {
     "name": "stdout",
     "output_type": "stream",
     "text": [
      "Index([u'id', u'vendor_id', u'pickup_datetime', u'dropoff_datetime',\n",
      "       u'passenger_count', u'pickup_longitude', u'pickup_latitude',\n",
      "       u'dropoff_longitude', u'dropoff_latitude', u'store_and_fwd_flag',\n",
      "       u'trip_duration'],\n",
      "      dtype='object')\n",
      "Index([u'pickup_datetime', u'dropoff_datetime', u'pickup_longitude',\n",
      "       u'pickup_latitude', u'dropoff_longitude', u'dropoff_latitude',\n",
      "       u'trip_duration'],\n",
      "      dtype='object')\n"
     ]
    }
   ],
   "source": [
    "# Drop some un-wanted columns\n",
    "print full_tripdata.columns\n",
    "full_tripdata = full_tripdata.drop(columns=['id','vendor_id','store_and_fwd_flag','passenger_count'])\n",
    "print full_tripdata.columns"
   ]
  },
  {
   "cell_type": "code",
   "execution_count": 3,
   "metadata": {},
   "outputs": [],
   "source": [
    "#prepare time related column , weekday and hourofday\n",
    "full_tripdata[\"pickup_datetime\"] = pd.to_datetime(full_tripdata[\"pickup_datetime\"])\n",
    "full_tripdata[\"dropoff_datetime\"] = pd.to_datetime(full_tripdata[\"dropoff_datetime\"])\n",
    "\n",
    "full_tripdata[\"weekday\"] = full_tripdata[\"pickup_datetime\"].dt.dayofweek\n",
    "full_tripdata[\"hourofday\"] = full_tripdata[\"pickup_datetime\"].dt.hour\n"
   ]
  },
  {
   "cell_type": "code",
   "execution_count": 4,
   "metadata": {},
   "outputs": [
    {
     "data": {
      "text/plain": [
       "Index([u'pickup_datetime', u'dropoff_datetime', u'pickup_longitude',\n",
       "       u'pickup_latitude', u'dropoff_longitude', u'dropoff_latitude',\n",
       "       u'trip_duration', u'weekday', u'hourofday'],\n",
       "      dtype='object')"
      ]
     },
     "execution_count": 4,
     "metadata": {},
     "output_type": "execute_result"
    }
   ],
   "source": [
    "full_tripdata.describe()\n",
    "full_tripdata.columns"
   ]
  },
  {
   "cell_type": "code",
   "execution_count": 5,
   "metadata": {},
   "outputs": [],
   "source": [
    "#prepare location, use pre-trained k-mean model\n",
    "model = pickle.load(open('location_cluster_kmean', 'rb'))\n",
    "pickupLocations = full_tripdata.iloc[:,2:4]\n",
    "#print pickupLocations.describe()\n",
    "full_tripdata[\"pickupLoc\"] = model.predict(pickupLocations.as_matrix())\n",
    "\n",
    "dropoffLocations = full_tripdata.iloc[:,4:6]\n",
    "full_tripdata[\"dropoffLoc\"] = model.predict(dropoffLocations.as_matrix())\n",
    "#print dropoffLocations.describe()"
   ]
  },
  {
   "cell_type": "code",
   "execution_count": 6,
   "metadata": {},
   "outputs": [],
   "source": [
    "#drop all un-wanted columns\n",
    "training = full_tripdata.drop(columns=['pickup_datetime',\n",
    "                                       'dropoff_datetime',\n",
    "                                       'dropoff_longitude',\n",
    "                                       'dropoff_latitude',\n",
    "                                       'pickup_longitude',\n",
    "                                       'pickup_latitude'])"
   ]
  },
  {
   "cell_type": "code",
   "execution_count": 7,
   "metadata": {},
   "outputs": [],
   "source": [
    "#column data type change \n",
    "training['weekday'] = training['weekday'].astype('category')\n",
    "training['hourofday'] = training['hourofday'].astype('category')\n",
    "training['pickupLoc'] = training['pickupLoc'].astype('category')\n",
    "training['dropoffLoc'] = training['dropoffLoc'].astype('category')"
   ]
  },
  {
   "cell_type": "code",
   "execution_count": 8,
   "metadata": {},
   "outputs": [
    {
     "data": {
      "text/plain": [
       "Index([u'trip_duration', u'weekday', u'hourofday', u'pickupLoc',\n",
       "       u'dropoffLoc'],\n",
       "      dtype='object')"
      ]
     },
     "execution_count": 8,
     "metadata": {},
     "output_type": "execute_result"
    }
   ],
   "source": [
    "training.columns"
   ]
  },
  {
   "cell_type": "code",
   "execution_count": 9,
   "metadata": {},
   "outputs": [],
   "source": [
    "#training and result data split\n",
    "X = training.iloc[:,1:]\n",
    "Y_triptime = training.iloc[:,0]\n"
   ]
  },
  {
   "cell_type": "code",
   "execution_count": 10,
   "metadata": {},
   "outputs": [],
   "source": [
    "#convert category data to one-hot embedding\n",
    "X = pd.get_dummies(X)"
   ]
  },
  {
   "cell_type": "code",
   "execution_count": 11,
   "metadata": {},
   "outputs": [],
   "source": [
    "#dump the prepaired data\n",
    "\n",
    "pickle.dump(X,open(\"X_Kaggle\",\"wb\"))\n",
    "pickle.dump(Y_triptime,open(\"Y_Kaggle_triptime\",\"wb\"))"
   ]
  },
  {
   "cell_type": "code",
   "execution_count": null,
   "metadata": {},
   "outputs": [],
   "source": []
  }
 ],
 "metadata": {
  "kernelspec": {
   "display_name": "Python 2",
   "language": "python",
   "name": "python2"
  },
  "language_info": {
   "codemirror_mode": {
    "name": "ipython",
    "version": 2
   },
   "file_extension": ".py",
   "mimetype": "text/x-python",
   "name": "python",
   "nbconvert_exporter": "python",
   "pygments_lexer": "ipython2",
   "version": "2.7.14"
  }
 },
 "nbformat": 4,
 "nbformat_minor": 2
}
