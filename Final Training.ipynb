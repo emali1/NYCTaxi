{
 "cells": [
  {
   "cell_type": "code",
   "execution_count": 2,
   "metadata": {},
   "outputs": [],
   "source": [
    "#load data \n",
    "\n",
    "import pandas as pd\n",
    "\n",
    "trip_data_file = \"data/trip_data_4.csv\"\n",
    "trip_fare_file = \"data/trip_fare_4.csv\"\n",
    "\n",
    "trips = pd.read_csv(trip_data_file, nrows=100000)\n",
    "fares = pd.read_csv(trip_fare_file, nrows=100000)\n",
    "\n",
    "full_tripdata = pd.merge(left=trips,right=fares, how='left', left_on=['medallion',' hack_license',' vendor_id',' pickup_datetime'], right_on=['medallion',' hack_license',' vendor_id',' pickup_datetime'])\n",
    "full_tripdata = full_tripdata.drop_duplicates()"
   ]
  },
  {
   "cell_type": "code",
   "execution_count": 3,
   "metadata": {},
   "outputs": [],
   "source": [
    "full_tripdata = full_tripdata.drop(columns=['medallion',' hack_license',' vendor_id',' rate_code',' store_and_fwd_flag'])"
   ]
  },
  {
   "cell_type": "code",
   "execution_count": 4,
   "metadata": {},
   "outputs": [],
   "source": [
    "full_tripdata[\" pickup_datetime\"] = pd.to_datetime(full_tripdata[\" pickup_datetime\"])\n",
    "full_tripdata[\" dropoff_datetime\"] = pd.to_datetime(full_tripdata[\" dropoff_datetime\"])\n",
    "\n",
    "full_tripdata[\"weekday\"] = full_tripdata[\" pickup_datetime\"].dt.dayofweek\n",
    "full_tripdata[\"hourofday\"] = full_tripdata[\" pickup_datetime\"].dt.hour"
   ]
  },
  {
   "cell_type": "code",
   "execution_count": 5,
   "metadata": {},
   "outputs": [],
   "source": [
    "full_tripdata = full_tripdata.loc[(full_tripdata[' pickup_longitude'] != 0) & (full_tripdata[' pickup_latitude'] != 0) & (full_tripdata[' dropoff_latitude'] != 0) & (full_tripdata[' dropoff_latitude'] != 0)]\n",
    "\n",
    "full_tripdata = full_tripdata.loc[(full_tripdata[' trip_distance'] != 0) & (full_tripdata[' trip_time_in_secs'] != 0)]\n",
    "\n",
    "full_tripdata = full_tripdata.loc[(full_tripdata['weekday'] != 0) & (full_tripdata['hourofday'] != 0)]"
   ]
  },
  {
   "cell_type": "code",
   "execution_count": 6,
   "metadata": {},
   "outputs": [],
   "source": [
    "import pickle\n",
    "from sklearn.cluster import KMeans\n",
    "\n",
    "model = pickle.load(open('location_cluster_kmean', 'rb'))"
   ]
  },
  {
   "cell_type": "code",
   "execution_count": 7,
   "metadata": {},
   "outputs": [],
   "source": [
    "pickupLocations = full_tripdata.iloc[:,5:7]\n",
    "full_tripdata[\"pickupLoc\"] = model.predict(pickupLocations.as_matrix())\n",
    "\n",
    "dropoffLocations = full_tripdata.iloc[:,7:9]\n",
    "full_tripdata[\"dropoffLoc\"] = model.predict(dropoffLocations.as_matrix())"
   ]
  },
  {
   "cell_type": "code",
   "execution_count": 8,
   "metadata": {},
   "outputs": [],
   "source": [
    "training = full_tripdata.drop(columns=[' pickup_datetime',\n",
    "                                       ' dropoff_datetime',\n",
    "                                       ' trip_time_in_secs',\n",
    "                                       ' trip_distance',\n",
    "                                       ' dropoff_longitude',\n",
    "                                       ' dropoff_latitude',\n",
    "                                       ' surcharge',\n",
    "                                       ' mta_tax',\n",
    "                                       ' tolls_amount',\n",
    "                                       ' total_amount',\n",
    "                                       ' passenger_count',\n",
    "                                       ' payment_type',\n",
    "                                       ' pickup_longitude',\n",
    "                                       ' pickup_latitude'])"
   ]
  },
  {
   "cell_type": "code",
   "execution_count": 9,
   "metadata": {},
   "outputs": [],
   "source": [
    "training['weekday'] = training['weekday'].astype('category')\n",
    "training['hourofday'] = training['hourofday'].astype('category')\n",
    "training['pickupLoc'] = training['pickupLoc'].astype('category')\n",
    "training['dropoffLoc'] = training['dropoffLoc'].astype('category')"
   ]
  },
  {
   "cell_type": "code",
   "execution_count": 10,
   "metadata": {},
   "outputs": [],
   "source": [
    "X = training.iloc[:,2:]\n",
    "Y_fare = training.iloc[:,0]\n",
    "Y_tip = training.iloc[:,1]\n",
    "\n",
    "X = pd.get_dummies(X)\n"
   ]
  },
  {
   "cell_type": "code",
   "execution_count": 11,
   "metadata": {},
   "outputs": [],
   "source": [
    "recordNumber = 60000\n",
    "X_cv = X.as_matrix()[0:recordNumber,:]\n",
    "Y_fare_cv = Y_fare.tolist()[0:recordNumber]\n",
    "Y_tip_cv = Y_tip.tolist()[0:recordNumber]"
   ]
  },
  {
   "cell_type": "code",
   "execution_count": 1,
   "metadata": {},
   "outputs": [
    {
     "ename": "SyntaxError",
     "evalue": "invalid syntax (<ipython-input-1-0f322e4206b1>, line 16)",
     "output_type": "error",
     "traceback": [
      "\u001b[1;36m  File \u001b[1;32m\"<ipython-input-1-0f322e4206b1>\"\u001b[1;36m, line \u001b[1;32m16\u001b[0m\n\u001b[1;33m    n_jobs=-1)\u001b[0m\n\u001b[1;37m         ^\u001b[0m\n\u001b[1;31mSyntaxError\u001b[0m\u001b[1;31m:\u001b[0m invalid syntax\n"
     ]
    }
   ],
   "source": [
    "from sklearn.neural_network import MLPRegressor\n",
    "from sklearn.model_selection import GridSearchCV\n",
    "from sklearn.svm import SVR\n",
    "from sklearn.model_selection import cross_val_score\n",
    "\n",
    "model = MLPRegressor()\n",
    "#scores4 = cross_val_score(model, X2, y, cv=4,scoring='neg_mean_squared_error',n_jobs=-1)\n",
    "\n",
    "param_grid = [\n",
    " # {'C': [1, 10, 100, 1000], 'kernel': ['linear']},\n",
    " # {'C': [1, 10, 100, 1000], 'gamma': [0.001, 0.0001], 'kernel': ['rbf']},\n",
    "  {'hidden_layer_sizes': [(20,20),(10,10),(20,30)]},\n",
    " ]\n",
    "\n",
    "clf = GridSearchCV(model, param_grid, cv=2, scoring = 'r2'\n",
    "                       n_jobs=-1)\n",
    "\n",
    "clf.fit(X_cv,Y_fare_cv)\n",
    "\n",
    "clf.cv_results_"
   ]
  },
  {
   "cell_type": "code",
   "execution_count": 13,
   "metadata": {},
   "outputs": [
    {
     "data": {
      "text/plain": [
       "0.7783934211604822"
      ]
     },
     "execution_count": 13,
     "metadata": {},
     "output_type": "execute_result"
    }
   ],
   "source": [
    "clf.best_score_"
   ]
  },
  {
   "cell_type": "code",
   "execution_count": 14,
   "metadata": {},
   "outputs": [
    {
     "data": {
      "text/plain": [
       "{'hidden_layer_sizes': (10, 10)}"
      ]
     },
     "execution_count": 14,
     "metadata": {},
     "output_type": "execute_result"
    }
   ],
   "source": [
    "clf.best_params_\n"
   ]
  },
  {
   "cell_type": "code",
   "execution_count": 15,
   "metadata": {},
   "outputs": [
    {
     "name": "stdout",
     "output_type": "stream",
     "text": [
      "{'std_train_score': array([0.02004691, 0.00251646, 0.01033075, 0.0140637 , 0.00633304,\n",
      "       0.00716063, 0.02428988, 0.00717665, 0.01830945, 0.02306614,\n",
      "       0.00394223, 0.00296378, 0.0120112 , 0.00257769, 0.00722974,\n",
      "       0.03629763, 0.01123809, 0.00336738, 0.03506524, 0.00476358,\n",
      "       0.00435693, 0.01227738, 0.00471875, 0.00615899, 0.00733193,\n",
      "       0.01146674, 0.00935586]), 'rank_test_score': array([20, 18,  6, 24, 14, 11, 21,  5,  9, 22,  7,  3, 27, 13,  2, 26, 10,\n",
      "       16, 25, 19,  1, 23, 12,  4, 17, 15,  8]), 'split1_train_score': array([0.761364  , 0.78851196, 0.83046579, 0.78518241, 0.7907525 ,\n",
      "       0.82058044, 0.80862586, 0.80247439, 0.83879362, 0.70501607,\n",
      "       0.87907781, 0.87925709, 0.68570992, 0.89098057, 0.8782573 ,\n",
      "       0.67407026, 0.88833072, 0.88122797, 0.80032324, 0.90254965,\n",
      "       0.85647425, 0.74212461, 0.89290637, 0.86553122, 0.82193522,\n",
      "       0.89640433, 0.83628235]), 'std_score_time': array([0.02099991, 0.00699997, 0.00549996, 0.0250001 , 0.0029999 ,\n",
      "       0.00500011, 0.05700004, 0.05149996, 0.00450003, 0.        ,\n",
      "       0.00300014, 0.01350009, 0.00149989, 0.00100005, 0.00599992,\n",
      "       0.03250003, 0.09250009, 0.02999997, 0.00700009, 0.00549996,\n",
      "       0.00600004, 0.01050007, 0.01200008, 0.00950003, 0.0029999 ,\n",
      "       0.01100004, 0.03149998]), 'param_solver': masked_array(data=['lbfgs', 'sgd', 'adam', 'lbfgs', 'sgd', 'adam',\n",
      "                   'lbfgs', 'sgd', 'adam', 'lbfgs', 'sgd', 'adam',\n",
      "                   'lbfgs', 'sgd', 'adam', 'lbfgs', 'sgd', 'adam',\n",
      "                   'lbfgs', 'sgd', 'adam', 'lbfgs', 'sgd', 'adam',\n",
      "                   'lbfgs', 'sgd', 'adam'],\n",
      "             mask=[False, False, False, False, False, False, False, False,\n",
      "                   False, False, False, False, False, False, False, False,\n",
      "                   False, False, False, False, False, False, False, False,\n",
      "                   False, False, False],\n",
      "       fill_value='?',\n",
      "            dtype=object), 'mean_fit_time': array([ 70.69650006, 284.51400006, 120.1085    ,  66.10099995,\n",
      "       171.75999987, 129.71599996,  94.25349998, 168.28549993,\n",
      "       135.03900015, 127.19649994,  79.66650009, 278.33099997,\n",
      "        62.73549998, 117.43650007, 126.24450004,  94.33800006,\n",
      "       362.6220001 , 244.08049989,  89.33399999,  67.33349991,\n",
      "       202.08950007,  76.41250002,  86.02100003,  98.75399995,\n",
      "       104.63300002,  71.67599988,  56.14699996]), 'split0_train_score': array([0.80145782, 0.79354488, 0.8098043 , 0.81330981, 0.80341859,\n",
      "       0.80625919, 0.7600461 , 0.81682768, 0.80217472, 0.75114835,\n",
      "       0.88696227, 0.87332954, 0.70973231, 0.88582518, 0.86379781,\n",
      "       0.74666553, 0.86585454, 0.87449321, 0.73019275, 0.91207681,\n",
      "       0.8651881 , 0.76667937, 0.90234388, 0.87784921, 0.80727136,\n",
      "       0.91933782, 0.85499406]), 'mean_score_time': array([0.15100002, 0.15199995, 0.12650001, 0.15700006, 0.13200009,\n",
      "       0.12599993, 0.18100011, 0.19750011, 0.12749994, 0.15400004,\n",
      "       0.14300001, 0.13950002, 0.14750004, 0.13600004, 0.14099991,\n",
      "       0.18350005, 0.22949994, 0.16100001, 0.13200009, 0.11950004,\n",
      "       0.12899995, 0.13749993, 0.13199997, 0.14050007, 0.13500011,\n",
      "       0.11200011, 0.11950004]), 'std_test_score': array([0.03571968, 0.00458138, 0.00165376, 0.06451046, 0.01647022,\n",
      "       0.00417535, 0.01364357, 0.01287969, 0.00473649, 0.00817586,\n",
      "       0.01430444, 0.00222952, 0.00365402, 0.00874436, 0.00626064,\n",
      "       0.01467786, 0.01430873, 0.01171662, 0.01405912, 0.00721881,\n",
      "       0.01217206, 0.00218579, 0.00637812, 0.00262701, 0.0167001 ,\n",
      "       0.01808546, 0.00307966]), 'mean_train_score': array([0.78141091, 0.79102842, 0.82013504, 0.79924611, 0.79708554,\n",
      "       0.81341982, 0.78433598, 0.80965103, 0.82048417, 0.72808221,\n",
      "       0.88302004, 0.87629331, 0.69772111, 0.88840287, 0.87102755,\n",
      "       0.71036789, 0.87709263, 0.87786059, 0.76525799, 0.90731323,\n",
      "       0.86083117, 0.75440199, 0.89762512, 0.87169021, 0.81460329,\n",
      "       0.90787108, 0.84563821]), 'split0_test_score': array([0.73041659, 0.730351  , 0.76813399, 0.73340953, 0.76218525,\n",
      "       0.76145669, 0.68916938, 0.78072102, 0.75732216, 0.68216104,\n",
      "       0.77851846, 0.77667955, 0.59522472, 0.75550542, 0.78527491,\n",
      "       0.639569  , 0.77449082, 0.72955535, 0.61734966, 0.72421893,\n",
      "       0.79567107, 0.67569923, 0.76009553, 0.76952137, 0.72365672,\n",
      "       0.76122061, 0.75920158]), 'mean_test_score': array([0.69469692, 0.73493238, 0.76648023, 0.66889907, 0.74571503,\n",
      "       0.75728134, 0.6755258 , 0.76784133, 0.76205865, 0.67398518,\n",
      "       0.76421402, 0.77445004, 0.59887875, 0.74676105, 0.77901427,\n",
      "       0.62489115, 0.76018209, 0.74127197, 0.63140878, 0.73143774,\n",
      "       0.78349901, 0.67351344, 0.75371741, 0.77214838, 0.74035682,\n",
      "       0.74313515, 0.76228124]), 'param_activation': masked_array(data=['logistic', 'logistic', 'logistic', 'logistic',\n",
      "                   'logistic', 'logistic', 'logistic', 'logistic',\n",
      "                   'logistic', 'tanh', 'tanh', 'tanh', 'tanh', 'tanh',\n",
      "                   'tanh', 'tanh', 'tanh', 'tanh', 'relu', 'relu', 'relu',\n",
      "                   'relu', 'relu', 'relu', 'relu', 'relu', 'relu'],\n",
      "             mask=[False, False, False, False, False, False, False, False,\n",
      "                   False, False, False, False, False, False, False, False,\n",
      "                   False, False, False, False, False, False, False, False,\n",
      "                   False, False, False],\n",
      "       fill_value='?',\n",
      "            dtype=object), 'params': [{'alpha': 0.0001, 'activation': 'logistic', 'solver': 'lbfgs'}, {'alpha': 0.0001, 'activation': 'logistic', 'solver': 'sgd'}, {'alpha': 0.0001, 'activation': 'logistic', 'solver': 'adam'}, {'alpha': 0.001, 'activation': 'logistic', 'solver': 'lbfgs'}, {'alpha': 0.001, 'activation': 'logistic', 'solver': 'sgd'}, {'alpha': 0.001, 'activation': 'logistic', 'solver': 'adam'}, {'alpha': 0.01, 'activation': 'logistic', 'solver': 'lbfgs'}, {'alpha': 0.01, 'activation': 'logistic', 'solver': 'sgd'}, {'alpha': 0.01, 'activation': 'logistic', 'solver': 'adam'}, {'alpha': 0.0001, 'activation': 'tanh', 'solver': 'lbfgs'}, {'alpha': 0.0001, 'activation': 'tanh', 'solver': 'sgd'}, {'alpha': 0.0001, 'activation': 'tanh', 'solver': 'adam'}, {'alpha': 0.001, 'activation': 'tanh', 'solver': 'lbfgs'}, {'alpha': 0.001, 'activation': 'tanh', 'solver': 'sgd'}, {'alpha': 0.001, 'activation': 'tanh', 'solver': 'adam'}, {'alpha': 0.01, 'activation': 'tanh', 'solver': 'lbfgs'}, {'alpha': 0.01, 'activation': 'tanh', 'solver': 'sgd'}, {'alpha': 0.01, 'activation': 'tanh', 'solver': 'adam'}, {'alpha': 0.0001, 'activation': 'relu', 'solver': 'lbfgs'}, {'alpha': 0.0001, 'activation': 'relu', 'solver': 'sgd'}, {'alpha': 0.0001, 'activation': 'relu', 'solver': 'adam'}, {'alpha': 0.001, 'activation': 'relu', 'solver': 'lbfgs'}, {'alpha': 0.001, 'activation': 'relu', 'solver': 'sgd'}, {'alpha': 0.001, 'activation': 'relu', 'solver': 'adam'}, {'alpha': 0.01, 'activation': 'relu', 'solver': 'lbfgs'}, {'alpha': 0.01, 'activation': 'relu', 'solver': 'sgd'}, {'alpha': 0.01, 'activation': 'relu', 'solver': 'adam'}], 'std_fit_time': array([  9.83249998, 128.55499995,  41.7895    ,  13.85600007,\n",
      "        51.83700001,  17.59799993,  17.33249998,  62.78950012,\n",
      "        60.25199997,  19.30149996,  13.7184999 ,  79.00899994,\n",
      "         4.23150003,   1.66549993,  64.07449996,  25.3039999 ,\n",
      "       262.66999996,  36.52950001,   1.10300004,   5.55250001,\n",
      "        23.18649995,   5.90450013,  50.88099992,  21.28999996,\n",
      "         3.67400014,  46.35100007,   0.43299997]), 'param_alpha': masked_array(data=[0.0001, 0.0001, 0.0001, 0.001, 0.001, 0.001, 0.01,\n",
      "                   0.01, 0.01, 0.0001, 0.0001, 0.0001, 0.001, 0.001,\n",
      "                   0.001, 0.01, 0.01, 0.01, 0.0001, 0.0001, 0.0001, 0.001,\n",
      "                   0.001, 0.001, 0.01, 0.01, 0.01],\n",
      "             mask=[False, False, False, False, False, False, False, False,\n",
      "                   False, False, False, False, False, False, False, False,\n",
      "                   False, False, False, False, False, False, False, False,\n",
      "                   False, False, False],\n",
      "       fill_value='?',\n",
      "            dtype=object), 'split1_test_score': array([0.65897724, 0.73951376, 0.76482648, 0.6043886 , 0.72924481,\n",
      "       0.75310598, 0.66188223, 0.75496164, 0.76679515, 0.66580933,\n",
      "       0.74990958, 0.77222052, 0.60253277, 0.73801669, 0.77275363,\n",
      "       0.61021329, 0.74587336, 0.75298859, 0.64546789, 0.73865656,\n",
      "       0.77132696, 0.67132765, 0.74733929, 0.77477539, 0.75705692,\n",
      "       0.72504969, 0.7653609 ])}\n"
     ]
    }
   ],
   "source": [
    "#further choosing hyperparameters after decide on nn layer\n",
    "model = MLPRegressor(hidden_layer_sizes=(10,10))\n",
    "\n",
    "param_grid = [\n",
    "  {'activation': [ 'logistic', 'tanh', 'relu'],'solver': [ 'lbfgs','sgd', 'adam'],'alpha': [ 0.0001, 0.001, 0.01]}\n",
    " ]\n",
    "\n",
    "clf = GridSearchCV(model, param_grid, cv=2,\n",
    "                       n_jobs=-1)\n",
    "\n",
    "clf.fit(X_cv,Y_fare_cv)\n",
    "\n",
    "print clf.cv_results_\n",
    "#print clf.best_score_\n",
    "#print clf.best_params_"
   ]
  },
  {
   "cell_type": "code",
   "execution_count": 16,
   "metadata": {},
   "outputs": [
    {
     "name": "stdout",
     "output_type": "stream",
     "text": [
      "{'alpha': 0.0001, 'activation': 'relu', 'solver': 'adam'}\n",
      "0.7834990148618959\n"
     ]
    }
   ],
   "source": [
    "print clf.best_params_\n",
    "print clf.best_score_"
   ]
  },
  {
   "cell_type": "code",
   "execution_count": 17,
   "metadata": {},
   "outputs": [
    {
     "data": {
      "text/plain": [
       "MLPRegressor(activation='relu', alpha=0.0001, batch_size='auto', beta_1=0.9,\n",
       "       beta_2=0.999, early_stopping=False, epsilon=1e-08,\n",
       "       hidden_layer_sizes=(10, 10), learning_rate='constant',\n",
       "       learning_rate_init=0.001, max_iter=200, momentum=0.9,\n",
       "       nesterovs_momentum=True, power_t=0.5, random_state=None,\n",
       "       shuffle=True, solver='adam', tol=0.0001, validation_fraction=0.1,\n",
       "       verbose=False, warm_start=False)"
      ]
     },
     "execution_count": 17,
     "metadata": {},
     "output_type": "execute_result"
    }
   ],
   "source": [
    "model"
   ]
  },
  {
   "cell_type": "code",
   "execution_count": null,
   "metadata": {},
   "outputs": [],
   "source": []
  }
 ],
 "metadata": {
  "kernelspec": {
   "display_name": "Python 2",
   "language": "python",
   "name": "python2"
  },
  "language_info": {
   "codemirror_mode": {
    "name": "ipython",
    "version": 2
   },
   "file_extension": ".py",
   "mimetype": "text/x-python",
   "name": "python",
   "nbconvert_exporter": "python",
   "pygments_lexer": "ipython2",
   "version": "2.7.14"
  }
 },
 "nbformat": 4,
 "nbformat_minor": 2
}
