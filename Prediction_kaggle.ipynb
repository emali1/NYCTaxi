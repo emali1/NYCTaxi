{
 "cells": [
  {
   "cell_type": "code",
   "execution_count": 35,
   "metadata": {},
   "outputs": [],
   "source": [
    "import pandas as pd\n",
    "import pickle\n",
    "from sklearn.neural_network import MLPRegressor\n",
    "import xgboost as xgb\n",
    "from sklearn.cluster import KMeans\n",
    "%matplotlib inline\n",
    "import matplotlib.pyplot as plt\n",
    "import numpy as np\n",
    "from scipy import stats"
   ]
  },
  {
   "cell_type": "code",
   "execution_count": 36,
   "metadata": {},
   "outputs": [],
   "source": [
    "#nn_model = pickle.load(open('model_Kaggle', 'rb'))\n"
   ]
  },
  {
   "cell_type": "code",
   "execution_count": 53,
   "metadata": {},
   "outputs": [],
   "source": [
    "parms = {'max_depth':16, #maximum depth of a tree\n",
    "         'objective':'reg:linear',\n",
    "         'eta'      :0.1,\n",
    "         'subsample':0.8,#SGD will use this percentage of data\n",
    "         'lambda '  :1, #L2 regularization term,>1 more conservative \n",
    "         'colsample_bytree ':0.9,\n",
    "         'colsample_bylevel':1,\n",
    "         'min_child_weight': 10} \n",
    "\n",
    "xgb_model = xgb.Booster(parms)\n",
    "xgb_model.load_model('model_Kaggle')"
   ]
  },
  {
   "cell_type": "code",
   "execution_count": 47,
   "metadata": {},
   "outputs": [],
   "source": [
    "full_tripdata= pd.read_csv(\"data/test.csv\")"
   ]
  },
  {
   "cell_type": "code",
   "execution_count": 48,
   "metadata": {},
   "outputs": [
    {
     "data": {
      "text/plain": [
       "Index([u'id', u'vendor_id', u'pickup_datetime', u'passenger_count',\n",
       "       u'pickup_longitude', u'pickup_latitude', u'dropoff_longitude',\n",
       "       u'dropoff_latitude', u'store_and_fwd_flag'],\n",
       "      dtype='object')"
      ]
     },
     "execution_count": 48,
     "metadata": {},
     "output_type": "execute_result"
    }
   ],
   "source": [
    "full_tripdata.columns"
   ]
  },
  {
   "cell_type": "code",
   "execution_count": 49,
   "metadata": {},
   "outputs": [
    {
     "name": "stdout",
     "output_type": "stream",
     "text": [
      "Index([u'id', u'pickup_datetime', u'pickup_longitude', u'pickup_latitude',\n",
      "       u'dropoff_longitude', u'dropoff_latitude', u'weekday', u'hourofday'],\n",
      "      dtype='object')\n",
      "       pickup_longitude  pickup_latitude\n",
      "count     625134.000000    625134.000000\n",
      "mean         -73.973614        40.750927\n",
      "std            0.073389         0.029848\n",
      "min         -121.933128        37.389587\n",
      "25%          -73.991852        40.737392\n",
      "50%          -73.981743        40.754093\n",
      "75%          -73.967400        40.768394\n",
      "max          -69.248917        42.814938\n",
      "       dropoff_longitude  dropoff_latitude\n",
      "count      625134.000000     625134.000000\n",
      "mean          -73.973458         40.751816\n",
      "std             0.072565          0.035824\n",
      "min          -121.933327         36.601322\n",
      "25%           -73.991318         40.736000\n",
      "50%           -73.979774         40.754543\n",
      "75%           -73.963013         40.769852\n",
      "max           -67.496796         48.857597\n"
     ]
    }
   ],
   "source": [
    "#processing test data \n",
    "\n",
    "full_tripdata[\"pickup_datetime\"] = pd.to_datetime(full_tripdata[\"pickup_datetime\"])\n",
    "full_tripdata = full_tripdata.drop(columns=['vendor_id','store_and_fwd_flag','passenger_count'])\n",
    "full_tripdata[\"weekday\"] = full_tripdata[\"pickup_datetime\"].dt.dayofweek\n",
    "full_tripdata[\"hourofday\"] = full_tripdata[\"pickup_datetime\"].dt.hour\n",
    "#prepare location, use pre-trained k-mean model\n",
    "model = pickle.load(open('location_cluster_kmean', 'rb'))\n",
    "print full_tripdata.columns\n",
    "pickupLocations = full_tripdata.iloc[:,2:4]\n",
    "print pickupLocations.describe()\n",
    "full_tripdata[\"pickupLoc\"] = model.predict(pickupLocations.as_matrix())\n",
    "\n",
    "dropoffLocations = full_tripdata.iloc[:,4:6]\n",
    "full_tripdata[\"dropoffLoc\"] = model.predict(dropoffLocations.as_matrix())\n",
    "print dropoffLocations.describe()\n",
    "\n",
    "training = full_tripdata.drop(columns=['pickup_datetime',\n",
    "                                       'dropoff_longitude',\n",
    "                                       'dropoff_latitude',\n",
    "                                       'pickup_longitude',\n",
    "                                       'pickup_latitude',\n",
    "                                       'id'])\n",
    "\n",
    "training['weekday'] = training['weekday'].astype('category')\n",
    "training['hourofday'] = training['hourofday'].astype('category')\n",
    "training['pickupLoc'] = training['pickupLoc'].astype('category')\n",
    "training['dropoffLoc'] = training['dropoffLoc'].astype('category')\n",
    "\n",
    "X = pd.get_dummies(training)"
   ]
  },
  {
   "cell_type": "code",
   "execution_count": 50,
   "metadata": {},
   "outputs": [
    {
     "data": {
      "text/plain": [
       "Index([u'weekday_0', u'weekday_1', u'weekday_2', u'weekday_3', u'weekday_4',\n",
       "       u'weekday_5', u'weekday_6', u'hourofday_0', u'hourofday_1',\n",
       "       u'hourofday_2',\n",
       "       ...\n",
       "       u'dropoffLoc_40', u'dropoffLoc_41', u'dropoffLoc_42', u'dropoffLoc_43',\n",
       "       u'dropoffLoc_44', u'dropoffLoc_45', u'dropoffLoc_46', u'dropoffLoc_47',\n",
       "       u'dropoffLoc_48', u'dropoffLoc_49'],\n",
       "      dtype='object', length=131)"
      ]
     },
     "execution_count": 50,
     "metadata": {},
     "output_type": "execute_result"
    }
   ],
   "source": [
    "X.columns"
   ]
  },
  {
   "cell_type": "code",
   "execution_count": 58,
   "metadata": {},
   "outputs": [],
   "source": [
    "data_test = xgb.DMatrix(X)\n",
    "result = xgb_model.predict(data_test)\n",
    "#nn_model.feature_types"
   ]
  },
  {
   "cell_type": "code",
   "execution_count": 59,
   "metadata": {},
   "outputs": [],
   "source": [
    "ytest = np.exp(result)+1"
   ]
  },
  {
   "cell_type": "code",
   "execution_count": 60,
   "metadata": {},
   "outputs": [],
   "source": [
    "submission = pd.DataFrame({'id': test.id, 'trip_duration': ytest})"
   ]
  },
  {
   "cell_type": "code",
   "execution_count": 61,
   "metadata": {},
   "outputs": [],
   "source": [
    "submission.to_csv(\"submission.csv\",index=False)"
   ]
  },
  {
   "cell_type": "code",
   "execution_count": null,
   "metadata": {},
   "outputs": [],
   "source": []
  }
 ],
 "metadata": {
  "kernelspec": {
   "display_name": "Python 2",
   "language": "python",
   "name": "python2"
  },
  "language_info": {
   "codemirror_mode": {
    "name": "ipython",
    "version": 2
   },
   "file_extension": ".py",
   "mimetype": "text/x-python",
   "name": "python",
   "nbconvert_exporter": "python",
   "pygments_lexer": "ipython2",
   "version": "2.7.14"
  }
 },
 "nbformat": 4,
 "nbformat_minor": 2
}
