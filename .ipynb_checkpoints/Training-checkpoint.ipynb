{
 "cells": [
  {
   "cell_type": "code",
   "execution_count": 1,
   "metadata": {},
   "outputs": [],
   "source": [
    "#load data \n",
    "\n",
    "import pandas as pd\n",
    "\n",
    "trip_data_file = \"data/trip_data_4.csv\"\n",
    "trip_fare_file = \"data/trip_fare_4.csv\"\n",
    "\n",
    "trips = pd.read_csv(trip_data_file, nrows=10000)\n",
    "fares = pd.read_csv(trip_fare_file, nrows=10000)\n",
    "\n",
    "full_tripdata = pd.merge(left=trips,right=fares, how='left', left_on=['medallion',' hack_license',' vendor_id',' pickup_datetime'], right_on=['medallion',' hack_license',' vendor_id',' pickup_datetime'])\n",
    "full_tripdata = full_tripdata.drop_duplicates()\n"
   ]
  },
  {
   "cell_type": "code",
   "execution_count": 2,
   "metadata": {},
   "outputs": [
    {
     "data": {
      "text/plain": [
       "Index([u'medallion', u' hack_license', u' vendor_id', u' rate_code',\n",
       "       u' store_and_fwd_flag', u' pickup_datetime', u' dropoff_datetime',\n",
       "       u' passenger_count', u' trip_time_in_secs', u' trip_distance',\n",
       "       u' pickup_longitude', u' pickup_latitude', u' dropoff_longitude',\n",
       "       u' dropoff_latitude', u' payment_type', u' fare_amount', u' surcharge',\n",
       "       u' mta_tax', u' tip_amount', u' tolls_amount', u' total_amount'],\n",
       "      dtype='object')"
      ]
     },
     "execution_count": 2,
     "metadata": {},
     "output_type": "execute_result"
    }
   ],
   "source": [
    "full_tripdata.columns"
   ]
  },
  {
   "cell_type": "code",
   "execution_count": 3,
   "metadata": {},
   "outputs": [],
   "source": [
    "full_tripdata = full_tripdata.drop(columns=['medallion',' hack_license',' vendor_id',' rate_code',' store_and_fwd_flag',' payment_type'])"
   ]
  },
  {
   "cell_type": "code",
   "execution_count": 4,
   "metadata": {},
   "outputs": [
    {
     "data": {
      "text/plain": [
       "Index([u' pickup_datetime', u' dropoff_datetime', u' passenger_count',\n",
       "       u' trip_time_in_secs', u' trip_distance', u' pickup_longitude',\n",
       "       u' pickup_latitude', u' dropoff_longitude', u' dropoff_latitude',\n",
       "       u' fare_amount', u' surcharge', u' mta_tax', u' tip_amount',\n",
       "       u' tolls_amount', u' total_amount'],\n",
       "      dtype='object')"
      ]
     },
     "execution_count": 4,
     "metadata": {},
     "output_type": "execute_result"
    }
   ],
   "source": [
    "full_tripdata.columns"
   ]
  },
  {
   "cell_type": "markdown",
   "metadata": {},
   "source": [
    "# Prepare time"
   ]
  },
  {
   "cell_type": "code",
   "execution_count": 5,
   "metadata": {},
   "outputs": [],
   "source": [
    "full_tripdata[\" pickup_datetime\"] = pd.to_datetime(full_tripdata[\" pickup_datetime\"])\n",
    "full_tripdata[\" dropoff_datetime\"] = pd.to_datetime(full_tripdata[\" dropoff_datetime\"])\n",
    "\n",
    "full_tripdata[\"weekday\"] = full_tripdata[\" pickup_datetime\"].dt.dayofweek\n",
    "full_tripdata[\"hourofday\"] = full_tripdata[\" pickup_datetime\"].dt.hour"
   ]
  },
  {
   "cell_type": "code",
   "execution_count": 6,
   "metadata": {},
   "outputs": [
    {
     "data": {
      "text/plain": [
       "Index([u' pickup_datetime', u' dropoff_datetime', u' passenger_count',\n",
       "       u' trip_time_in_secs', u' trip_distance', u' pickup_longitude',\n",
       "       u' pickup_latitude', u' dropoff_longitude', u' dropoff_latitude',\n",
       "       u' fare_amount', u' surcharge', u' mta_tax', u' tip_amount',\n",
       "       u' tolls_amount', u' total_amount', u'weekday', u'hourofday'],\n",
       "      dtype='object')"
      ]
     },
     "execution_count": 6,
     "metadata": {},
     "output_type": "execute_result"
    }
   ],
   "source": [
    "full_tripdata.columns"
   ]
  },
  {
   "cell_type": "markdown",
   "metadata": {},
   "source": [
    "# Remove trips without coordinates "
   ]
  },
  {
   "cell_type": "code",
   "execution_count": 7,
   "metadata": {},
   "outputs": [],
   "source": [
    "full_tripdata = full_tripdata.loc[(full_tripdata[' pickup_longitude'] != 0) & (full_tripdata[' pickup_latitude'] != 0) & (full_tripdata[' dropoff_latitude'] != 0) & (full_tripdata[' dropoff_latitude'] != 0)]"
   ]
  },
  {
   "cell_type": "code",
   "execution_count": 8,
   "metadata": {},
   "outputs": [
    {
     "data": {
      "text/plain": [
       " pickup_datetime      datetime64[ns]\n",
       " dropoff_datetime     datetime64[ns]\n",
       " passenger_count               int64\n",
       " trip_time_in_secs             int64\n",
       " trip_distance               float64\n",
       " pickup_longitude            float64\n",
       " pickup_latitude             float64\n",
       " dropoff_longitude           float64\n",
       " dropoff_latitude            float64\n",
       " fare_amount                 float64\n",
       " surcharge                   float64\n",
       " mta_tax                     float64\n",
       " tip_amount                  float64\n",
       " tolls_amount                float64\n",
       " total_amount                float64\n",
       "weekday                        int64\n",
       "hourofday                      int64\n",
       "dtype: object"
      ]
     },
     "execution_count": 8,
     "metadata": {},
     "output_type": "execute_result"
    }
   ],
   "source": [
    "full_tripdata.dtypes"
   ]
  },
  {
   "cell_type": "code",
   "execution_count": 9,
   "metadata": {},
   "outputs": [
    {
     "name": "stdout",
     "output_type": "stream",
     "text": [
      "[[ 1.0000000e+00  7.5900000e+02  2.5000000e+00 ... -7.3976273e+01\n",
      "   4.0785648e+01  1.1000000e+01]\n",
      " [ 1.0000000e+00  1.3180000e+03  3.6000000e+00 ... -7.4009186e+01\n",
      "   4.0715374e+01  1.6500000e+01]\n",
      " [ 1.0000000e+00  7.9900000e+02  1.9000000e+00 ... -7.3955666e+01\n",
      "   4.0776642e+01  1.0000000e+01]\n",
      " ...\n",
      " [ 5.0000000e+00  4.2000000e+02  1.6800000e+00 ... -7.3973167e+01\n",
      "   4.0762814e+01  7.5000000e+00]\n",
      " [ 1.0000000e+00  4.8000000e+02  1.3100000e+00 ... -7.3960587e+01\n",
      "   4.0773949e+01  7.5000000e+00]\n",
      " [ 1.0000000e+00  4.8000000e+02  1.2800000e+00 ... -7.3999023e+01\n",
      "   4.0734047e+01  8.0000000e+00]]\n"
     ]
    }
   ],
   "source": [
    "X = full_tripdata.iloc[:,2:10]\n",
    "X = X.as_matrix()\n",
    "\n",
    "\n",
    "print X\n",
    "\n",
    "y = full_tripdata.iloc[:,12]"
   ]
  },
  {
   "cell_type": "markdown",
   "metadata": {},
   "source": [
    "# Training"
   ]
  },
  {
   "cell_type": "code",
   "execution_count": null,
   "metadata": {},
   "outputs": [],
   "source": [
    "import numpy as np\n",
    "from sklearn.svm import SVR\n",
    "from sklearn.model_selection import cross_val_score"
   ]
  },
  {
   "cell_type": "code",
   "execution_count": null,
   "metadata": {},
   "outputs": [],
   "source": [
    "\n",
    "svr_rbf = SVR(kernel='rbf', C=1e3, gamma=0.1)\n",
    "#svr_rbf.fit(X, y)\n",
    "scores = cross_val_score(svr_rbf, X, y, cv=5)"
   ]
  },
  {
   "cell_type": "code",
   "execution_count": null,
   "metadata": {},
   "outputs": [],
   "source": [
    "scores"
   ]
  },
  {
   "cell_type": "code",
   "execution_count": null,
   "metadata": {},
   "outputs": [],
   "source": []
  }
 ],
 "metadata": {
  "kernelspec": {
   "display_name": "Python 2",
   "language": "python",
   "name": "python2"
  },
  "language_info": {
   "codemirror_mode": {
    "name": "ipython",
    "version": 2
   },
   "file_extension": ".py",
   "mimetype": "text/x-python",
   "name": "python",
   "nbconvert_exporter": "python",
   "pygments_lexer": "ipython2",
   "version": "2.7.14"
  }
 },
 "nbformat": 4,
 "nbformat_minor": 2
}
