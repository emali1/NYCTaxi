{
 "cells": [
  {
   "cell_type": "code",
   "execution_count": 4,
   "metadata": {},
   "outputs": [],
   "source": [
    "#load data \n",
    "\n",
    "import pandas as pd\n",
    "import pickle\n",
    "import numpy as np\n",
    "from sklearn.svm import SVR\n",
    "from sklearn.model_selection import cross_val_score\n",
    "from sklearn.neural_network import MLPRegressor\n",
    "from sklearn.model_selection import GridSearchCV\n",
    "\n",
    "X_total = pickle.load(open('X', 'rb'))\n",
    "Y_fare_total = pickle.load(open('Y_fare', 'rb'))\n",
    "Y_tip_total = pickle.load(open('Y_tip', 'rb'))\n",
    "Y_triptime = pickle.load(open('Y_triptime', 'rb'))"
   ]
  },
  {
   "cell_type": "code",
   "execution_count": 5,
   "metadata": {},
   "outputs": [],
   "source": [
    "traingRecordNumber = 10000\n",
    "X = X_total.as_matrix()[0:traingRecordNumber,:]\n",
    "\n",
    "\n",
    "y = Y_triptime.tolist()[0:traingRecordNumber]"
   ]
  },
  {
   "cell_type": "markdown",
   "metadata": {},
   "source": [
    "# Training"
   ]
  },
  {
   "cell_type": "code",
   "execution_count": 3,
   "metadata": {},
   "outputs": [
    {
     "name": "stderr",
     "output_type": "stream",
     "text": [
      "/home/ma_emali/anaconda2/lib/python2.7/site-packages/sklearn/utils/deprecation.py:122: FutureWarning: You are accessing a training score ('mean_train_score'), which will not be available by default any more in 0.21. If you need training scores, please set return_train_score=True\n",
      "  warnings.warn(*warn_args, **warn_kwargs)\n",
      "/home/ma_emali/anaconda2/lib/python2.7/site-packages/sklearn/utils/deprecation.py:122: FutureWarning: You are accessing a training score ('split0_train_score'), which will not be available by default any more in 0.21. If you need training scores, please set return_train_score=True\n",
      "  warnings.warn(*warn_args, **warn_kwargs)\n",
      "/home/ma_emali/anaconda2/lib/python2.7/site-packages/sklearn/utils/deprecation.py:122: FutureWarning: You are accessing a training score ('split1_train_score'), which will not be available by default any more in 0.21. If you need training scores, please set return_train_score=True\n",
      "  warnings.warn(*warn_args, **warn_kwargs)\n",
      "/home/ma_emali/anaconda2/lib/python2.7/site-packages/sklearn/utils/deprecation.py:122: FutureWarning: You are accessing a training score ('split2_train_score'), which will not be available by default any more in 0.21. If you need training scores, please set return_train_score=True\n",
      "  warnings.warn(*warn_args, **warn_kwargs)\n",
      "/home/ma_emali/anaconda2/lib/python2.7/site-packages/sklearn/utils/deprecation.py:122: FutureWarning: You are accessing a training score ('split3_train_score'), which will not be available by default any more in 0.21. If you need training scores, please set return_train_score=True\n",
      "  warnings.warn(*warn_args, **warn_kwargs)\n",
      "/home/ma_emali/anaconda2/lib/python2.7/site-packages/sklearn/utils/deprecation.py:122: FutureWarning: You are accessing a training score ('std_train_score'), which will not be available by default any more in 0.21. If you need training scores, please set return_train_score=True\n",
      "  warnings.warn(*warn_args, **warn_kwargs)\n"
     ]
    },
    {
     "data": {
      "text/plain": [
       "{'mean_fit_time': array([21.57238781, 21.84944034, 21.95526326, 21.19757998, 20.83655953,\n",
       "        20.88816547, 22.41335875, 20.82805187, 20.91286528, 37.30264956,\n",
       "        21.36953074, 21.5643782 , 19.82283324, 18.48276001, 22.57965577,\n",
       "        21.52264553, 19.52096021, 18.45122129, 22.75904626, 21.82527375,\n",
       "        19.5390892 , 18.66411108, 20.19534993, 22.10143125, 21.2356357 ,\n",
       "        19.74906427, 20.55900747, 22.68916476, 21.12798172, 20.10539049,\n",
       "        19.59317172, 24.71577597, 20.97830671, 19.96041626, 20.10420519,\n",
       "        25.27109271, 20.74287784, 18.80895507, 21.44675827, 21.58840501,\n",
       "        24.62877059, 19.15925395, 20.20049727, 23.59080976, 24.24982858,\n",
       "        18.64398676, 20.04737747, 23.9717623 , 22.47842336, 19.93555915,\n",
       "        20.35693622, 24.13877958, 21.34556323, 19.48133177, 18.67775524,\n",
       "        25.62933499, 20.76485848, 19.55690855, 18.73641253, 21.92257529]),\n",
       " 'mean_score_time': array([8.02942395, 8.53136992, 8.68753654, 8.67754495, 7.491552  ,\n",
       "        8.33611697, 8.61825699, 8.67488724, 6.66633695, 7.99044925,\n",
       "        7.41695499, 7.28949624, 6.64724523, 7.85437799, 7.9780035 ,\n",
       "        8.12114698, 6.77243251, 7.51498842, 8.09311777, 7.81780374,\n",
       "        6.87336147, 7.50730598, 8.42008597, 8.13162202, 6.47803426,\n",
       "        7.59674668, 8.24623728, 8.13142502, 6.77788806, 7.75265551,\n",
       "        7.99431252, 8.42526406, 7.2942571 , 7.41515172, 7.90468007,\n",
       "        8.27829677, 7.5314157 , 7.29715991, 8.06113219, 8.60829425,\n",
       "        6.91180766, 7.07996893, 8.04138523, 8.3882575 , 6.63554066,\n",
       "        7.25914824, 8.13618934, 8.07800788, 6.40822297, 7.42948258,\n",
       "        8.26212549, 7.56485295, 6.37685955, 7.66163224, 8.18501526,\n",
       "        7.249066  , 6.68650824, 7.36115324, 7.71572417, 6.39811045]),\n",
       " 'mean_test_score': array([ 0.01763694, -0.04792334, -0.0573107 ,  0.10427311,  0.01918725,\n",
       "        -0.0478692 ,  0.15587855,  0.10040633,  0.01939392,  0.35952582,\n",
       "         0.10601381,  0.10011131, -0.05770953, -0.05773641, -0.05773644,\n",
       "        -0.0577364 , -0.05773644, -0.05773644, -0.05773644, -0.05773644,\n",
       "        -0.05773644, -0.05773644, -0.05773644, -0.05773644, -0.05746945,\n",
       "        -0.05773617, -0.05773644, -0.0577361 , -0.05773644, -0.05773644,\n",
       "        -0.05773644, -0.05773644, -0.05773644, -0.05773644, -0.05773644,\n",
       "        -0.05773644, -0.05465375, -0.05773374, -0.05773643, -0.05773306,\n",
       "        -0.05773644, -0.05773644, -0.05773643, -0.05773644, -0.05773644,\n",
       "        -0.05773644, -0.05773644, -0.05773644, -0.01508895, -0.05770953,\n",
       "        -0.05773641, -0.05770269, -0.05773644, -0.05773644, -0.05773639,\n",
       "        -0.05773644, -0.05773644, -0.05773644, -0.05773644, -0.05773644]),\n",
       " 'mean_train_score': array([ 0.0437503 , -0.03895386, -0.05457913,  0.21424794,  0.0454759 ,\n",
       "        -0.0388988 ,  0.32145853,  0.20905492,  0.04568029,  0.57353882,\n",
       "         0.25666384,  0.20847334, -0.05664446, -0.05672615, -0.05672624,\n",
       "        -0.05672615, -0.05672624, -0.05672624, -0.05672624, -0.05672624,\n",
       "        -0.05672624, -0.05672624, -0.05672624, -0.05672624, -0.0559109 ,\n",
       "        -0.05672542, -0.05672623, -0.05672535, -0.05672624, -0.05672624,\n",
       "        -0.05672623, -0.05672624, -0.05672624, -0.05672624, -0.05672624,\n",
       "        -0.05672624, -0.0483932 , -0.05671806, -0.05672623, -0.05671738,\n",
       "        -0.05672624, -0.05672624, -0.05672622, -0.05672624, -0.05672624,\n",
       "        -0.05672624, -0.05672624, -0.05672624,  0.01796112, -0.05664446,\n",
       "        -0.05672615, -0.05663769, -0.05672623, -0.05672624, -0.05672612,\n",
       "        -0.05672624, -0.05672624, -0.05672624, -0.05672624, -0.05672624]),\n",
       " 'param_C': masked_array(data=[1, 1, 1, 10, 10, 10, 100, 100, 100, 1000, 1000, 1000,\n",
       "                    1, 1, 1, 1, 1, 1, 1, 1, 1, 1, 1, 1, 10, 10, 10, 10, 10,\n",
       "                    10, 10, 10, 10, 10, 10, 10, 100, 100, 100, 100, 100,\n",
       "                    100, 100, 100, 100, 100, 100, 100, 1000, 1000, 1000,\n",
       "                    1000, 1000, 1000, 1000, 1000, 1000, 1000, 1000, 1000],\n",
       "              mask=[False, False, False, False, False, False, False, False,\n",
       "                    False, False, False, False, False, False, False, False,\n",
       "                    False, False, False, False, False, False, False, False,\n",
       "                    False, False, False, False, False, False, False, False,\n",
       "                    False, False, False, False, False, False, False, False,\n",
       "                    False, False, False, False, False, False, False, False,\n",
       "                    False, False, False, False, False, False, False, False,\n",
       "                    False, False, False, False],\n",
       "        fill_value='?',\n",
       "             dtype=object),\n",
       " 'param_degree': masked_array(data=[--, --, --, --, --, --, --, --, --, --, --, --, 3, 3,\n",
       "                    3, 5, 5, 5, 7, 7, 7, 9, 9, 9, 3, 3, 3, 5, 5, 5, 7, 7,\n",
       "                    7, 9, 9, 9, 3, 3, 3, 5, 5, 5, 7, 7, 7, 9, 9, 9, 3, 3,\n",
       "                    3, 5, 5, 5, 7, 7, 7, 9, 9, 9],\n",
       "              mask=[ True,  True,  True,  True,  True,  True,  True,  True,\n",
       "                     True,  True,  True,  True, False, False, False, False,\n",
       "                    False, False, False, False, False, False, False, False,\n",
       "                    False, False, False, False, False, False, False, False,\n",
       "                    False, False, False, False, False, False, False, False,\n",
       "                    False, False, False, False, False, False, False, False,\n",
       "                    False, False, False, False, False, False, False, False,\n",
       "                    False, False, False, False],\n",
       "        fill_value='?',\n",
       "             dtype=object),\n",
       " 'param_gamma': masked_array(data=[0.01, 0.001, 0.0001, 0.01, 0.001, 0.0001, 0.01, 0.001,\n",
       "                    0.0001, 0.01, 0.001, 0.0001, 0.01, 0.001, 0.0001, 0.01,\n",
       "                    0.001, 0.0001, 0.01, 0.001, 0.0001, 0.01, 0.001,\n",
       "                    0.0001, 0.01, 0.001, 0.0001, 0.01, 0.001, 0.0001, 0.01,\n",
       "                    0.001, 0.0001, 0.01, 0.001, 0.0001, 0.01, 0.001,\n",
       "                    0.0001, 0.01, 0.001, 0.0001, 0.01, 0.001, 0.0001, 0.01,\n",
       "                    0.001, 0.0001, 0.01, 0.001, 0.0001, 0.01, 0.001,\n",
       "                    0.0001, 0.01, 0.001, 0.0001, 0.01, 0.001, 0.0001],\n",
       "              mask=[False, False, False, False, False, False, False, False,\n",
       "                    False, False, False, False, False, False, False, False,\n",
       "                    False, False, False, False, False, False, False, False,\n",
       "                    False, False, False, False, False, False, False, False,\n",
       "                    False, False, False, False, False, False, False, False,\n",
       "                    False, False, False, False, False, False, False, False,\n",
       "                    False, False, False, False, False, False, False, False,\n",
       "                    False, False, False, False],\n",
       "        fill_value='?',\n",
       "             dtype=object),\n",
       " 'param_kernel': masked_array(data=['rbf', 'rbf', 'rbf', 'rbf', 'rbf', 'rbf', 'rbf', 'rbf',\n",
       "                    'rbf', 'rbf', 'rbf', 'rbf', 'poly', 'poly', 'poly',\n",
       "                    'poly', 'poly', 'poly', 'poly', 'poly', 'poly', 'poly',\n",
       "                    'poly', 'poly', 'poly', 'poly', 'poly', 'poly', 'poly',\n",
       "                    'poly', 'poly', 'poly', 'poly', 'poly', 'poly', 'poly',\n",
       "                    'poly', 'poly', 'poly', 'poly', 'poly', 'poly', 'poly',\n",
       "                    'poly', 'poly', 'poly', 'poly', 'poly', 'poly', 'poly',\n",
       "                    'poly', 'poly', 'poly', 'poly', 'poly', 'poly', 'poly',\n",
       "                    'poly', 'poly', 'poly'],\n",
       "              mask=[False, False, False, False, False, False, False, False,\n",
       "                    False, False, False, False, False, False, False, False,\n",
       "                    False, False, False, False, False, False, False, False,\n",
       "                    False, False, False, False, False, False, False, False,\n",
       "                    False, False, False, False, False, False, False, False,\n",
       "                    False, False, False, False, False, False, False, False,\n",
       "                    False, False, False, False, False, False, False, False,\n",
       "                    False, False, False, False],\n",
       "        fill_value='?',\n",
       "             dtype=object),\n",
       " 'params': [{'C': 1, 'gamma': 0.01, 'kernel': 'rbf'},\n",
       "  {'C': 1, 'gamma': 0.001, 'kernel': 'rbf'},\n",
       "  {'C': 1, 'gamma': 0.0001, 'kernel': 'rbf'},\n",
       "  {'C': 10, 'gamma': 0.01, 'kernel': 'rbf'},\n",
       "  {'C': 10, 'gamma': 0.001, 'kernel': 'rbf'},\n",
       "  {'C': 10, 'gamma': 0.0001, 'kernel': 'rbf'},\n",
       "  {'C': 100, 'gamma': 0.01, 'kernel': 'rbf'},\n",
       "  {'C': 100, 'gamma': 0.001, 'kernel': 'rbf'},\n",
       "  {'C': 100, 'gamma': 0.0001, 'kernel': 'rbf'},\n",
       "  {'C': 1000, 'gamma': 0.01, 'kernel': 'rbf'},\n",
       "  {'C': 1000, 'gamma': 0.001, 'kernel': 'rbf'},\n",
       "  {'C': 1000, 'gamma': 0.0001, 'kernel': 'rbf'},\n",
       "  {'C': 1, 'degree': 3, 'gamma': 0.01, 'kernel': 'poly'},\n",
       "  {'C': 1, 'degree': 3, 'gamma': 0.001, 'kernel': 'poly'},\n",
       "  {'C': 1, 'degree': 3, 'gamma': 0.0001, 'kernel': 'poly'},\n",
       "  {'C': 1, 'degree': 5, 'gamma': 0.01, 'kernel': 'poly'},\n",
       "  {'C': 1, 'degree': 5, 'gamma': 0.001, 'kernel': 'poly'},\n",
       "  {'C': 1, 'degree': 5, 'gamma': 0.0001, 'kernel': 'poly'},\n",
       "  {'C': 1, 'degree': 7, 'gamma': 0.01, 'kernel': 'poly'},\n",
       "  {'C': 1, 'degree': 7, 'gamma': 0.001, 'kernel': 'poly'},\n",
       "  {'C': 1, 'degree': 7, 'gamma': 0.0001, 'kernel': 'poly'},\n",
       "  {'C': 1, 'degree': 9, 'gamma': 0.01, 'kernel': 'poly'},\n",
       "  {'C': 1, 'degree': 9, 'gamma': 0.001, 'kernel': 'poly'},\n",
       "  {'C': 1, 'degree': 9, 'gamma': 0.0001, 'kernel': 'poly'},\n",
       "  {'C': 10, 'degree': 3, 'gamma': 0.01, 'kernel': 'poly'},\n",
       "  {'C': 10, 'degree': 3, 'gamma': 0.001, 'kernel': 'poly'},\n",
       "  {'C': 10, 'degree': 3, 'gamma': 0.0001, 'kernel': 'poly'},\n",
       "  {'C': 10, 'degree': 5, 'gamma': 0.01, 'kernel': 'poly'},\n",
       "  {'C': 10, 'degree': 5, 'gamma': 0.001, 'kernel': 'poly'},\n",
       "  {'C': 10, 'degree': 5, 'gamma': 0.0001, 'kernel': 'poly'},\n",
       "  {'C': 10, 'degree': 7, 'gamma': 0.01, 'kernel': 'poly'},\n",
       "  {'C': 10, 'degree': 7, 'gamma': 0.001, 'kernel': 'poly'},\n",
       "  {'C': 10, 'degree': 7, 'gamma': 0.0001, 'kernel': 'poly'},\n",
       "  {'C': 10, 'degree': 9, 'gamma': 0.01, 'kernel': 'poly'},\n",
       "  {'C': 10, 'degree': 9, 'gamma': 0.001, 'kernel': 'poly'},\n",
       "  {'C': 10, 'degree': 9, 'gamma': 0.0001, 'kernel': 'poly'},\n",
       "  {'C': 100, 'degree': 3, 'gamma': 0.01, 'kernel': 'poly'},\n",
       "  {'C': 100, 'degree': 3, 'gamma': 0.001, 'kernel': 'poly'},\n",
       "  {'C': 100, 'degree': 3, 'gamma': 0.0001, 'kernel': 'poly'},\n",
       "  {'C': 100, 'degree': 5, 'gamma': 0.01, 'kernel': 'poly'},\n",
       "  {'C': 100, 'degree': 5, 'gamma': 0.001, 'kernel': 'poly'},\n",
       "  {'C': 100, 'degree': 5, 'gamma': 0.0001, 'kernel': 'poly'},\n",
       "  {'C': 100, 'degree': 7, 'gamma': 0.01, 'kernel': 'poly'},\n",
       "  {'C': 100, 'degree': 7, 'gamma': 0.001, 'kernel': 'poly'},\n",
       "  {'C': 100, 'degree': 7, 'gamma': 0.0001, 'kernel': 'poly'},\n",
       "  {'C': 100, 'degree': 9, 'gamma': 0.01, 'kernel': 'poly'},\n",
       "  {'C': 100, 'degree': 9, 'gamma': 0.001, 'kernel': 'poly'},\n",
       "  {'C': 100, 'degree': 9, 'gamma': 0.0001, 'kernel': 'poly'},\n",
       "  {'C': 1000, 'degree': 3, 'gamma': 0.01, 'kernel': 'poly'},\n",
       "  {'C': 1000, 'degree': 3, 'gamma': 0.001, 'kernel': 'poly'},\n",
       "  {'C': 1000, 'degree': 3, 'gamma': 0.0001, 'kernel': 'poly'},\n",
       "  {'C': 1000, 'degree': 5, 'gamma': 0.01, 'kernel': 'poly'},\n",
       "  {'C': 1000, 'degree': 5, 'gamma': 0.001, 'kernel': 'poly'},\n",
       "  {'C': 1000, 'degree': 5, 'gamma': 0.0001, 'kernel': 'poly'},\n",
       "  {'C': 1000, 'degree': 7, 'gamma': 0.01, 'kernel': 'poly'},\n",
       "  {'C': 1000, 'degree': 7, 'gamma': 0.001, 'kernel': 'poly'},\n",
       "  {'C': 1000, 'degree': 7, 'gamma': 0.0001, 'kernel': 'poly'},\n",
       "  {'C': 1000, 'degree': 9, 'gamma': 0.01, 'kernel': 'poly'},\n",
       "  {'C': 1000, 'degree': 9, 'gamma': 0.001, 'kernel': 'poly'},\n",
       "  {'C': 1000, 'degree': 9, 'gamma': 0.0001, 'kernel': 'poly'}],\n",
       " 'rank_test_score': array([ 9, 12, 14,  4,  8, 11,  2,  5,  7,  1,  3,  6, 17, 25, 35, 24, 39,\n",
       "        45, 33, 45, 45, 40, 45, 45, 15, 22, 31, 21, 37, 45, 29, 45, 45, 38,\n",
       "        45, 45, 13, 20, 28, 19, 34, 43, 27, 43, 45, 36, 45, 45, 10, 18, 26,\n",
       "        16, 30, 42, 23, 41, 45, 32, 45, 45], dtype=int32),\n",
       " 'split0_test_score': array([ 0.06274394, -0.03785578, -0.0603934 , -0.0239666 ,  0.06439198,\n",
       "        -0.03769826, -0.00089958, -0.03205059,  0.06458901,  0.18444268,\n",
       "        -0.07132126, -0.03230171, -0.06359944, -0.06367151, -0.06367158,\n",
       "        -0.06367153, -0.06367158, -0.06367158, -0.06367158, -0.06367158,\n",
       "        -0.06367158, -0.06367158, -0.06367158, -0.06367158, -0.06295129,\n",
       "        -0.06367086, -0.06367158, -0.06367111, -0.06367158, -0.06367158,\n",
       "        -0.06367158, -0.06367158, -0.06367158, -0.06367158, -0.06367158,\n",
       "        -0.06367158, -0.05653297, -0.06366435, -0.06367157, -0.06366685,\n",
       "        -0.06367158, -0.06367158, -0.06367158, -0.06367158, -0.06367158,\n",
       "        -0.06367158, -0.06367158, -0.06367158,  0.01295222, -0.06359944,\n",
       "        -0.06367151, -0.06362425, -0.06367158, -0.06367158, -0.06367154,\n",
       "        -0.06367158, -0.06367158, -0.06367158, -0.06367158, -0.06367158]),\n",
       " 'split0_train_score': array([ 0.0462867 , -0.03501111, -0.04775236,  0.21125057,  0.04847669,\n",
       "        -0.03491332,  0.31971998,  0.20511046,  0.04865954,  0.57171234,\n",
       "         0.25569037,  0.20448711, -0.04966012, -0.04972696, -0.04972703,\n",
       "        -0.04972695, -0.04972703, -0.04972703, -0.04972703, -0.04972703,\n",
       "        -0.04972703, -0.04972703, -0.04972703, -0.04972703, -0.04906018,\n",
       "        -0.04972636, -0.04972702, -0.04972625, -0.04972703, -0.04972703,\n",
       "        -0.04972702, -0.04972703, -0.04972703, -0.04972703, -0.04972703,\n",
       "        -0.04972703, -0.04325305, -0.04972033, -0.04972702, -0.04971932,\n",
       "        -0.04972703, -0.04972703, -0.04972702, -0.04972703, -0.04972703,\n",
       "        -0.04972703, -0.04972703, -0.04972703,  0.02146048, -0.04966012,\n",
       "        -0.04972696, -0.04965002, -0.04972702, -0.04972703, -0.04972692,\n",
       "        -0.04972703, -0.04972703, -0.04972702, -0.04972703, -0.04972703]),\n",
       " 'split1_test_score': array([ 0.0414867 , -0.03389133, -0.05183484,  0.16945867,  0.04352089,\n",
       "        -0.0338356 ,  0.18070798,  0.16605043,  0.04378294,  0.38617819,\n",
       "         0.14459281,  0.16562677, -0.05451152, -0.05456115, -0.0545612 ,\n",
       "        -0.05456117, -0.0545612 , -0.0545612 , -0.0545612 , -0.0545612 ,\n",
       "        -0.0545612 , -0.0545612 , -0.0545612 , -0.0545612 , -0.0540649 ,\n",
       "        -0.0545607 , -0.0545612 , -0.05456086, -0.0545612 , -0.0545612 ,\n",
       "        -0.0545612 , -0.0545612 , -0.0545612 , -0.0545612 , -0.0545612 ,\n",
       "        -0.0545612 , -0.04964362, -0.05455623, -0.0545612 , -0.05455781,\n",
       "        -0.0545612 , -0.0545612 , -0.0545612 , -0.0545612 , -0.0545612 ,\n",
       "        -0.0545612 , -0.0545612 , -0.0545612 , -0.00358999, -0.05451152,\n",
       "        -0.05456115, -0.05452731, -0.0545612 , -0.0545612 , -0.05456117,\n",
       "        -0.0545612 , -0.0545612 , -0.0545612 , -0.0545612 , -0.0545612 ]),\n",
       " 'split1_train_score': array([ 0.03150296, -0.04255995, -0.05128582,  0.21261043,  0.03318239,\n",
       "        -0.04252227,  0.32353605,  0.20815778,  0.03340736,  0.57509942,\n",
       "         0.26123817,  0.20775286, -0.0525831 , -0.05264253, -0.05264259,\n",
       "        -0.05264252, -0.05264259, -0.05264259, -0.05264259, -0.05264259,\n",
       "        -0.05264259, -0.05264259, -0.05264259, -0.05264259, -0.05204902,\n",
       "        -0.052642  , -0.05264259, -0.05264187, -0.05264259, -0.05264259,\n",
       "        -0.05264259, -0.05264259, -0.05264259, -0.05264259, -0.05264259,\n",
       "        -0.05264259, -0.04681989, -0.05263664, -0.05264259, -0.05263532,\n",
       "        -0.05264259, -0.05264259, -0.05264258, -0.05264259, -0.05264259,\n",
       "        -0.05264259, -0.05264259, -0.05264259,  0.01332117, -0.0525831 ,\n",
       "        -0.05264253, -0.05256992, -0.05264259, -0.05264259, -0.0526425 ,\n",
       "        -0.05264259, -0.05264259, -0.05264259, -0.05264259, -0.05264259]),\n",
       " 'split2_test_score': array([-0.01842171, -0.03847979, -0.03209873,  0.10373315, -0.01846417,\n",
       "        -0.03850621,  0.17652208,  0.10077422, -0.01834389,  0.39411069,\n",
       "         0.12635579,  0.10034991, -0.03206881, -0.03207475, -0.03207476,\n",
       "        -0.03207473, -0.03207476, -0.03207476, -0.03207476, -0.03207476,\n",
       "        -0.03207476, -0.03207476, -0.03207476, -0.03207476, -0.03201838,\n",
       "        -0.0320747 , -0.03207476, -0.03207451, -0.03207476, -0.03207476,\n",
       "        -0.03207476, -0.03207476, -0.03207476, -0.03207476, -0.03207476,\n",
       "        -0.03207476, -0.03182771, -0.03207416, -0.03207476, -0.03207223,\n",
       "        -0.03207476, -0.03207476, -0.03207476, -0.03207476, -0.03207476,\n",
       "        -0.03207476, -0.03207476, -0.03207476, -0.01954679, -0.03206881,\n",
       "        -0.03207475, -0.03204949, -0.03207476, -0.03207476, -0.03207472,\n",
       "        -0.03207476, -0.03207476, -0.03207476, -0.03207476, -0.03207476]),\n",
       " 'split2_train_score': array([ 0.05835094, -0.03686219, -0.05646236,  0.23619513,  0.06007838,\n",
       "        -0.03682238,  0.33838432,  0.2313128 ,  0.06031903,  0.58588632,\n",
       "         0.27436171,  0.23073059, -0.06074444, -0.06085526, -0.06085537,\n",
       "        -0.06085527, -0.06085537, -0.06085537, -0.06085537, -0.06085537,\n",
       "        -0.06085537, -0.06085537, -0.06085537, -0.06085537, -0.0597484 ,\n",
       "        -0.06085426, -0.06085537, -0.06085437, -0.06085537, -0.06085537,\n",
       "        -0.06085537, -0.06085537, -0.06085537, -0.06085537, -0.06085537,\n",
       "        -0.06085537, -0.05000593, -0.06084428, -0.06085536, -0.0608453 ,\n",
       "        -0.06085537, -0.06085537, -0.06085536, -0.06085537, -0.06085537,\n",
       "        -0.06085537, -0.06085537, -0.06085537,  0.02288495, -0.06074444,\n",
       "        -0.06085526, -0.06075465, -0.06085537, -0.06085537, -0.06085526,\n",
       "        -0.06085537, -0.06085537, -0.06085537, -0.06085537, -0.06085537]),\n",
       " 'split3_test_score': array([-0.01526118, -0.08146648, -0.08491584,  0.1678672 , -0.01269969,\n",
       "        -0.08143674,  0.26718373,  0.16685126, -0.01245238,  0.47337172,\n",
       "         0.22442789,  0.16677028, -0.08065836, -0.08063822, -0.0806382 ,\n",
       "        -0.08063817, -0.0806382 , -0.0806382 , -0.0806382 , -0.0806382 ,\n",
       "        -0.0806382 , -0.0806382 , -0.0806382 , -0.0806382 , -0.08084325,\n",
       "        -0.0806384 , -0.0806382 , -0.08063792, -0.0806382 , -0.0806382 ,\n",
       "        -0.0806382 , -0.0806382 , -0.0806382 , -0.0806382 , -0.0806382 ,\n",
       "        -0.0806382 , -0.08061071, -0.08064022, -0.0806382 , -0.08063535,\n",
       "        -0.0806382 , -0.0806382 , -0.0806382 , -0.0806382 , -0.0806382 ,\n",
       "        -0.0806382 , -0.0806382 , -0.0806382 , -0.05017123, -0.08065836,\n",
       "        -0.08063822, -0.08060971, -0.0806382 , -0.0806382 , -0.08063813,\n",
       "        -0.0806382 , -0.0806382 , -0.0806382 , -0.0806382 , -0.0806382 ]),\n",
       " 'split3_train_score': array([ 0.03886061, -0.0413822 , -0.06281597,  0.19693562,  0.04016615,\n",
       "        -0.04133725,  0.30419378,  0.19163865,  0.04033524,  0.56145721,\n",
       "         0.23536513,  0.1909228 , -0.0635902 , -0.06367986, -0.06367995,\n",
       "        -0.06367985, -0.06367995, -0.06367995, -0.06367995, -0.06367995,\n",
       "        -0.06367995, -0.06367995, -0.06367995, -0.06367995, -0.06278601,\n",
       "        -0.06367905, -0.06367995, -0.06367891, -0.06367995, -0.06367995,\n",
       "        -0.06367995, -0.06367995, -0.06367995, -0.06367995, -0.06367995,\n",
       "        -0.06367995, -0.05349391, -0.06367097, -0.06367994, -0.06366957,\n",
       "        -0.06367995, -0.06367995, -0.06367994, -0.06367995, -0.06367995,\n",
       "        -0.06367995, -0.06367995, -0.06367995,  0.01417786, -0.0635902 ,\n",
       "        -0.06367986, -0.06357618, -0.06367995, -0.06367995, -0.0636798 ,\n",
       "        -0.06367995, -0.06367995, -0.06367995, -0.06367995, -0.06367995]),\n",
       " 'std_fit_time': array([0.52242617, 0.27038308, 0.12589818, 0.33256005, 0.83339633,\n",
       "        0.88119034, 0.9157641 , 0.58846452, 1.20601964, 1.39099999,\n",
       "        0.61176249, 0.90284535, 2.04271521, 0.36260734, 0.40360064,\n",
       "        4.23713102, 2.44293222, 0.43893752, 0.70062452, 4.36740655,\n",
       "        2.38051851, 0.37972875, 2.14355888, 2.72398468, 4.34198099,\n",
       "        1.61180582, 2.47432482, 3.10288065, 4.00688257, 1.83858867,\n",
       "        2.45367643, 1.93479613, 3.45540447, 1.6007798 , 2.50413222,\n",
       "        2.4605943 , 3.11529103, 0.21842776, 3.02607743, 2.51854068,\n",
       "        3.86548158, 0.13406468, 1.80954761, 2.92685767, 3.78170857,\n",
       "        0.36862553, 1.96071404, 3.27664155, 4.55798776, 1.90949367,\n",
       "        2.39292945, 3.37392366, 4.04468612, 2.03179572, 0.27291235,\n",
       "        1.6409274 , 3.72634683, 1.60418061, 0.30014129, 3.10479537]),\n",
       " 'std_score_time': array([0.19674356, 0.13185396, 0.14507775, 0.07295942, 0.39599896,\n",
       "        0.07215852, 0.06144426, 0.07003819, 0.19792521, 0.16723691,\n",
       "        0.08110196, 0.19508802, 0.15267219, 0.16666594, 0.10299303,\n",
       "        0.10632287, 0.34610514, 0.11065144, 0.15351098, 0.37432113,\n",
       "        0.73730915, 0.45767994, 0.1591726 , 0.18296525, 0.40674671,\n",
       "        0.45979313, 0.19641204, 0.16805468, 0.29721183, 0.36481539,\n",
       "        0.29203013, 0.11912636, 0.59284351, 0.23690318, 0.39286776,\n",
       "        0.52095502, 0.94718278, 0.41018954, 0.52620524, 0.23680554,\n",
       "        0.60842476, 0.57882243, 0.40122936, 0.24182431, 0.36459003,\n",
       "        0.55203665, 0.24678056, 0.46908449, 0.25800626, 0.53375882,\n",
       "        0.37437642, 0.63872819, 0.20097762, 0.61241581, 0.28312846,\n",
       "        0.56361867, 0.27955449, 0.48890595, 0.20473535, 0.80214827]),\n",
       " 'std_test_score': array([0.03530568, 0.01944592, 0.01895505, 0.07864331, 0.03560197,\n",
       "        0.01946044, 0.0974819 , 0.08103864, 0.03562215, 0.10667879,\n",
       "        0.10882527, 0.08103851, 0.01752865, 0.01752371, 0.0175237 ,\n",
       "        0.0175237 , 0.0175237 , 0.0175237 , 0.0175237 , 0.0175237 ,\n",
       "        0.0175237 , 0.0175237 , 0.0175237 , 0.0175237 , 0.0175765 ,\n",
       "        0.01752375, 0.0175237 , 0.01752368, 0.0175237 , 0.0175237 ,\n",
       "        0.0175237 , 0.0175237 , 0.0175237 , 0.0175237 , 0.0175237 ,\n",
       "        0.0175237 , 0.01748874, 0.01752419, 0.0175237 , 0.01752345,\n",
       "        0.0175237 , 0.0175237 , 0.0175237 , 0.0175237 , 0.0175237 ,\n",
       "        0.0175237 , 0.0175237 , 0.0175237 , 0.02328718, 0.01752865,\n",
       "        0.01752371, 0.01752117, 0.0175237 , 0.0175237 , 0.01752369,\n",
       "        0.0175237 , 0.0175237 , 0.0175237 , 0.0175237 , 0.0175237 ]),\n",
       " 'std_train_score': array([0.00991865, 0.00311533, 0.00567545, 0.01408067, 0.01001949,\n",
       "        0.00313333, 0.01216442, 0.014275  , 0.01002949, 0.00872063,\n",
       "        0.0140421 , 0.01431621, 0.00570808, 0.00572425, 0.00572427,\n",
       "        0.00572426, 0.00572427, 0.00572427, 0.00572427, 0.00572427,\n",
       "        0.00572427, 0.00572427, 0.00572427, 0.00572427, 0.00556417,\n",
       "        0.00572411, 0.00572427, 0.00572414, 0.00572427, 0.00572427,\n",
       "        0.00572427, 0.00572427, 0.00572427, 0.00572427, 0.00572427,\n",
       "        0.00572427, 0.00379192, 0.00572265, 0.00572427, 0.00572295,\n",
       "        0.00572427, 0.00572427, 0.00572427, 0.00572427, 0.00572427,\n",
       "        0.00572427, 0.00572427, 0.00572427, 0.0042524 , 0.00570808,\n",
       "        0.00572425, 0.00571109, 0.00572427, 0.00572427, 0.00572425,\n",
       "        0.00572427, 0.00572427, 0.00572427, 0.00572427, 0.00572427])}"
      ]
     },
     "execution_count": 3,
     "metadata": {},
     "output_type": "execute_result"
    }
   ],
   "source": [
    "model = SVR()\n",
    "#scores4 = cross_val_score(model, X2, y, cv=4,scoring='neg_mean_squared_error',n_jobs=-1)\n",
    "\n",
    "param_grid = [\n",
    " #{'C': [1, 10, 100, 1000], 'gamma': [0.01,0.001, 0.0001], 'kernel': ['linear']},\n",
    " {'C': [1, 10, 100, 1000], 'gamma': [0.01,0.001, 0.0001], 'kernel': ['rbf']},\n",
    " {'C': [1, 10, 100, 1000], 'gamma': [0.01,0.001, 0.0001], 'degree':[3,5,7,9] ,'kernel': ['poly']}\n",
    " # {'hidden_layer_sizes': [(20,20),(10,10),(20,30)]},\n",
    " ]\n",
    "\n",
    "clf = GridSearchCV(model, param_grid, cv=4,scoring='neg_mean_squared_log_error',\n",
    "                       n_jobs=-1)\n",
    "\n",
    "clf.fit(X,y)\n",
    "\n",
    "clf.cv_results_"
   ]
  },
  {
   "cell_type": "code",
   "execution_count": 9,
   "metadata": {},
   "outputs": [
    {
     "data": {
      "text/plain": [
       "0.35952582028748986"
      ]
     },
     "execution_count": 9,
     "metadata": {},
     "output_type": "execute_result"
    }
   ],
   "source": [
    "clf.best_score_"
   ]
  },
  {
   "cell_type": "code",
   "execution_count": 4,
   "metadata": {},
   "outputs": [
    {
     "data": {
      "text/plain": [
       "{'C': 1000, 'gamma': 0.01, 'kernel': 'rbf'}"
      ]
     },
     "execution_count": 4,
     "metadata": {},
     "output_type": "execute_result"
    }
   ],
   "source": [
    "clf.best_params_"
   ]
  },
  {
   "cell_type": "code",
   "execution_count": null,
   "metadata": {},
   "outputs": [],
   "source": [
    "scores2 = cross_val_score(svr_rbf, X2, y, cv=4,scoring='neg_mean_squared_error',n_jobs=-1)"
   ]
  },
  {
   "cell_type": "code",
   "execution_count": null,
   "metadata": {},
   "outputs": [],
   "source": [
    "scores2"
   ]
  },
  {
   "cell_type": "code",
   "execution_count": null,
   "metadata": {},
   "outputs": [],
   "source": [
    "from sklearn.neighbors import KNeighborsRegressor\n",
    "model = KNeighborsRegressor()\n",
    "scores3 = cross_val_score(model, X2, y, cv=4,scoring='neg_mean_squared_error',n_jobs=-1)"
   ]
  },
  {
   "cell_type": "code",
   "execution_count": null,
   "metadata": {},
   "outputs": [],
   "source": [
    "scores3"
   ]
  },
  {
   "cell_type": "code",
   "execution_count": null,
   "metadata": {},
   "outputs": [],
   "source": []
  },
  {
   "cell_type": "code",
   "execution_count": null,
   "metadata": {},
   "outputs": [],
   "source": [
    "from sklearn import linear_model\n",
    "model = linear_model.SGDRegressor()\n",
    "scores3 = cross_val_score(model, X2, y, cv=4,scoring='neg_mean_squared_error',n_jobs=-1)"
   ]
  },
  {
   "cell_type": "code",
   "execution_count": null,
   "metadata": {},
   "outputs": [],
   "source": [
    "scores3"
   ]
  },
  {
   "cell_type": "code",
   "execution_count": 7,
   "metadata": {},
   "outputs": [],
   "source": [
    "from sklearn.neural_network import MLPRegressor\n",
    "\n",
    "model = MLPRegressor(hidden_layer_sizes=(100,30))\n",
    "scores4 = cross_val_score(model, X, y, cv=4,n_jobs=-1)"
   ]
  },
  {
   "cell_type": "code",
   "execution_count": 8,
   "metadata": {},
   "outputs": [
    {
     "data": {
      "text/plain": [
       "array([0.51934489, 0.62366297, 0.65821017, 0.70395743])"
      ]
     },
     "execution_count": 8,
     "metadata": {},
     "output_type": "execute_result"
    }
   ],
   "source": [
    "scores4"
   ]
  },
  {
   "cell_type": "code",
   "execution_count": 6,
   "metadata": {
    "scrolled": true
   },
   "outputs": [
    {
     "name": "stderr",
     "output_type": "stream",
     "text": [
      "C:\\Users\\IBM_ADMIN\\Anaconda2\\lib\\site-packages\\sklearn\\neural_network\\multilayer_perceptron.py:564: ConvergenceWarning: Stochastic Optimizer: Maximum iterations (200) reached and the optimization hasn't converged yet.\n",
      "  % self.max_iter, ConvergenceWarning)\n",
      "C:\\Users\\IBM_ADMIN\\Anaconda2\\lib\\site-packages\\sklearn\\utils\\deprecation.py:122: FutureWarning: You are accessing a training score ('mean_train_score'), which will not be available by default any more in 0.21. If you need training scores, please set return_train_score=True\n",
      "  warnings.warn(*warn_args, **warn_kwargs)\n",
      "C:\\Users\\IBM_ADMIN\\Anaconda2\\lib\\site-packages\\sklearn\\utils\\deprecation.py:122: FutureWarning: You are accessing a training score ('split0_train_score'), which will not be available by default any more in 0.21. If you need training scores, please set return_train_score=True\n",
      "  warnings.warn(*warn_args, **warn_kwargs)\n",
      "C:\\Users\\IBM_ADMIN\\Anaconda2\\lib\\site-packages\\sklearn\\utils\\deprecation.py:122: FutureWarning: You are accessing a training score ('split1_train_score'), which will not be available by default any more in 0.21. If you need training scores, please set return_train_score=True\n",
      "  warnings.warn(*warn_args, **warn_kwargs)\n",
      "C:\\Users\\IBM_ADMIN\\Anaconda2\\lib\\site-packages\\sklearn\\utils\\deprecation.py:122: FutureWarning: You are accessing a training score ('std_train_score'), which will not be available by default any more in 0.21. If you need training scores, please set return_train_score=True\n",
      "  warnings.warn(*warn_args, **warn_kwargs)\n"
     ]
    },
    {
     "data": {
      "text/plain": [
       "{'mean_fit_time': array([ 4.59549987, 19.17550004, 18.98150015, 15.84949994,  4.65450001]),\n",
       " 'mean_score_time': array([0.0545001 , 0.        , 0.01499987, 0.01999998, 0.02400005]),\n",
       " 'mean_test_score': array([-0.3682953 , -0.37801385, -0.3366585 , -0.38703152, -0.40258327]),\n",
       " 'mean_train_score': array([-0.32471025, -0.34305472, -0.25656068, -0.33916487, -0.28816286]),\n",
       " 'param_hidden_layer_sizes': masked_array(data=[(30, 20), (10, 10, 10), (100, 30), (100, 100),\n",
       "                    (10, 10, 100)],\n",
       "              mask=[False, False, False, False, False],\n",
       "        fill_value='?',\n",
       "             dtype=object),\n",
       " 'params': [{'hidden_layer_sizes': (30, 20)},\n",
       "  {'hidden_layer_sizes': (10, 10, 10)},\n",
       "  {'hidden_layer_sizes': (100, 30)},\n",
       "  {'hidden_layer_sizes': (100, 100)},\n",
       "  {'hidden_layer_sizes': (10, 10, 100)}],\n",
       " 'rank_test_score': array([2, 3, 1, 4, 5]),\n",
       " 'split0_test_score': array([-0.36607657, -0.38673946, -0.30898846, -0.40773079, -0.44011316]),\n",
       " 'split0_train_score': array([-0.30766562, -0.35133424, -0.18717787, -0.34705756, -0.2458693 ]),\n",
       " 'split1_test_score': array([-0.37051403, -0.36928824, -0.36432854, -0.36633226, -0.36505337]),\n",
       " 'split1_train_score': array([-0.34175488, -0.33477521, -0.32594349, -0.33127217, -0.33045643]),\n",
       " 'std_fit_time': array([ 2.02249992, 11.4885    , 12.68350005,  4.84850001,  2.39549994]),\n",
       " 'std_score_time': array([0.03850007, 0.        , 0.        , 0.00500011, 0.00800002]),\n",
       " 'std_test_score': array([0.00221873, 0.00872561, 0.02767004, 0.02069926, 0.03752989]),\n",
       " 'std_train_score': array([0.01704463, 0.00827952, 0.06938281, 0.00789269, 0.04229357])}"
      ]
     },
     "execution_count": 6,
     "metadata": {},
     "output_type": "execute_result"
    }
   ],
   "source": [
    "model = MLPRegressor(early_stopping=True,alpha=0.1)\n",
    "#scores4 = cross_val_score(model, X2, y, cv=4,scoring='neg_mean_squared_error',n_jobs=-1)\n",
    "\n",
    "param_grid = [\n",
    " {'hidden_layer_sizes': [(30,20),(10,10,10),(100,30),(100,100),(10,10,100)]},\n",
    " ]\n",
    "\n",
    "clf2 = GridSearchCV(model, param_grid, cv=2,scoring='neg_mean_squared_log_error',\n",
    "                       n_jobs=-1)\n",
    "\n",
    "clf2.fit(X,y)\n",
    "\n",
    "clf2.cv_results_"
   ]
  },
  {
   "cell_type": "code",
   "execution_count": 11,
   "metadata": {},
   "outputs": [
    {
     "data": {
      "text/plain": [
       "MLPRegressor(activation='relu', alpha=0.0001, batch_size='auto', beta_1=0.9,\n",
       "       beta_2=0.999, early_stopping=False, epsilon=1e-08,\n",
       "       hidden_layer_sizes=(100,), learning_rate='constant',\n",
       "       learning_rate_init=0.001, max_iter=200, momentum=0.9,\n",
       "       nesterovs_momentum=True, power_t=0.5, random_state=None,\n",
       "       shuffle=True, solver='adam', tol=0.0001, validation_fraction=0.1,\n",
       "       verbose=False, warm_start=False)"
      ]
     },
     "execution_count": 11,
     "metadata": {},
     "output_type": "execute_result"
    }
   ],
   "source": [
    "model"
   ]
  },
  {
   "cell_type": "code",
   "execution_count": 34,
   "metadata": {},
   "outputs": [
    {
     "data": {
      "text/plain": [
       "{'hidden_layer_sizes': (100, 30)}"
      ]
     },
     "execution_count": 34,
     "metadata": {},
     "output_type": "execute_result"
    }
   ],
   "source": [
    "clf2.best_params_"
   ]
  },
  {
   "cell_type": "code",
   "execution_count": 33,
   "metadata": {},
   "outputs": [
    {
     "data": {
      "text/plain": [
       "0.7652096725988836"
      ]
     },
     "execution_count": 33,
     "metadata": {},
     "output_type": "execute_result"
    }
   ],
   "source": [
    "clf2.best_score_"
   ]
  },
  {
   "cell_type": "code",
   "execution_count": 5,
   "metadata": {},
   "outputs": [],
   "source": [
    "from sklearn.tree import DecisionTreeRegressor \n",
    "\n",
    "model = DecisionTreeRegressor()\n",
    "\n",
    "scores5 = cross_val_score(model, X, y, cv=2,n_jobs=-1)"
   ]
  },
  {
   "cell_type": "code",
   "execution_count": 6,
   "metadata": {},
   "outputs": [
    {
     "data": {
      "text/plain": [
       "array([0.41034614, 0.36752934])"
      ]
     },
     "execution_count": 6,
     "metadata": {},
     "output_type": "execute_result"
    }
   ],
   "source": [
    "scores5"
   ]
  },
  {
   "cell_type": "code",
   "execution_count": 3,
   "metadata": {},
   "outputs": [
    {
     "name": "stderr",
     "output_type": "stream",
     "text": [
      "/home/ma_emali/anaconda2/lib/python2.7/site-packages/sklearn/model_selection/_search.py:761: DeprecationWarning: The grid_scores_ attribute was deprecated in version 0.18 in favor of the more elaborate cv_results_ attribute. The grid_scores_ attribute will not be available from 0.20\n",
      "  DeprecationWarning)\n"
     ]
    },
    {
     "data": {
      "text/plain": [
       "[mean: -0.06042, std: 0.00964, params: {'n_estimators': 40},\n",
       " mean: -0.06044, std: 0.00974, params: {'n_estimators': 50},\n",
       " mean: -0.06032, std: 0.00970, params: {'n_estimators': 70},\n",
       " mean: -0.06024, std: 0.00976, params: {'n_estimators': 90},\n",
       " mean: -0.06019, std: 0.00972, params: {'n_estimators': 100}]"
      ]
     },
     "execution_count": 3,
     "metadata": {},
     "output_type": "execute_result"
    }
   ],
   "source": [
    "from sklearn.ensemble import RandomForestRegressor\n",
    "\n",
    "model = RandomForestRegressor()\n",
    "#scores4 = cross_val_score(model, X2, y, cv=4,scoring='neg_mean_squared_error',n_jobs=-1)\n",
    "\n",
    "param_grid = [\n",
    " {'n_estimators': [40,50,70,90,100]},\n",
    " ]\n",
    "\n",
    "clf3 = GridSearchCV(model, param_grid, cv=2,scoring='neg_mean_squared_log_error',\n",
    "                       n_jobs=-1)\n",
    "\n",
    "clf3.fit(X,y)\n",
    "\n",
    "clf3.grid_scores_"
   ]
  },
  {
   "cell_type": "code",
   "execution_count": 4,
   "metadata": {},
   "outputs": [
    {
     "data": {
      "text/plain": [
       "-0.06019398714100908"
      ]
     },
     "execution_count": 4,
     "metadata": {},
     "output_type": "execute_result"
    }
   ],
   "source": [
    "clf3.best_score_"
   ]
  },
  {
   "cell_type": "code",
   "execution_count": 10,
   "metadata": {},
   "outputs": [
    {
     "name": "stderr",
     "output_type": "stream",
     "text": [
      "/home/ma_emali/anaconda2/lib/python2.7/site-packages/sklearn/model_selection/_search.py:761: DeprecationWarning: The grid_scores_ attribute was deprecated in version 0.18 in favor of the more elaborate cv_results_ attribute. The grid_scores_ attribute will not be available from 0.20\n",
      "  DeprecationWarning)\n"
     ]
    },
    {
     "data": {
      "text/plain": [
       "[mean: 0.32991, std: 0.06035, params: {'n_estimators': 1},\n",
       " mean: 0.42838, std: 0.06358, params: {'n_estimators': 2},\n",
       " mean: 0.45766, std: 0.05827, params: {'n_estimators': 3},\n",
       " mean: 0.50714, std: 0.05840, params: {'n_estimators': 5},\n",
       " mean: 0.52913, std: 0.05613, params: {'n_estimators': 8},\n",
       " mean: 0.53066, std: 0.06186, params: {'n_estimators': 13},\n",
       " mean: 0.53539, std: 0.05560, params: {'n_estimators': 21}]"
      ]
     },
     "execution_count": 10,
     "metadata": {},
     "output_type": "execute_result"
    }
   ],
   "source": [
    "clf3.grid_scores_"
   ]
  },
  {
   "cell_type": "code",
   "execution_count": 14,
   "metadata": {},
   "outputs": [
    {
     "name": "stderr",
     "output_type": "stream",
     "text": [
      "/home/ma_emali/anaconda2/lib/python2.7/site-packages/sklearn/model_selection/_search.py:761: DeprecationWarning: The grid_scores_ attribute was deprecated in version 0.18 in favor of the more elaborate cv_results_ attribute. The grid_scores_ attribute will not be available from 0.20\n",
      "  DeprecationWarning)\n"
     ]
    },
    {
     "data": {
      "text/plain": [
       "[mean: 0.51329, std: 0.05373, params: {'n_estimators': 10},\n",
       " mean: 0.52514, std: 0.05248, params: {'n_estimators': 20},\n",
       " mean: 0.52391, std: 0.05316, params: {'n_estimators': 21},\n",
       " mean: 0.52801, std: 0.05558, params: {'n_estimators': 25},\n",
       " mean: 0.52800, std: 0.05455, params: {'n_estimators': 30},\n",
       " mean: 0.53099, std: 0.05468, params: {'n_estimators': 40},\n",
       " mean: 0.53247, std: 0.05679, params: {'n_estimators': 50}]"
      ]
     },
     "execution_count": 14,
     "metadata": {},
     "output_type": "execute_result"
    }
   ],
   "source": [
    "#5,000 training record\n",
    "clf3.grid_scores_"
   ]
  },
  {
   "cell_type": "code",
   "execution_count": 18,
   "metadata": {},
   "outputs": [
    {
     "name": "stderr",
     "output_type": "stream",
     "text": [
      "/home/ma_emali/anaconda2/lib/python2.7/site-packages/sklearn/model_selection/_search.py:761: DeprecationWarning: The grid_scores_ attribute was deprecated in version 0.18 in favor of the more elaborate cv_results_ attribute. The grid_scores_ attribute will not be available from 0.20\n",
      "  DeprecationWarning)\n"
     ]
    },
    {
     "data": {
      "text/plain": [
       "[mean: 0.64380, std: 0.00536, params: {'n_estimators': 10},\n",
       " mean: 0.65528, std: 0.00533, params: {'n_estimators': 20},\n",
       " mean: 0.65537, std: 0.00596, params: {'n_estimators': 21},\n",
       " mean: 0.65716, std: 0.00737, params: {'n_estimators': 25},\n",
       " mean: 0.65722, std: 0.00688, params: {'n_estimators': 30},\n",
       " mean: 0.65992, std: 0.00756, params: {'n_estimators': 40},\n",
       " mean: 0.66120, std: 0.00861, params: {'n_estimators': 50}]"
      ]
     },
     "execution_count": 18,
     "metadata": {},
     "output_type": "execute_result"
    }
   ],
   "source": [
    "#10,000 training records \n",
    "clf3.grid_scores_"
   ]
  },
  {
   "cell_type": "code",
   "execution_count": 22,
   "metadata": {},
   "outputs": [
    {
     "name": "stderr",
     "output_type": "stream",
     "text": [
      "/home/ma_emali/anaconda2/lib/python2.7/site-packages/sklearn/utils/deprecation.py:122: FutureWarning: You are accessing a training score ('mean_train_score'), which will not be available by default any more in 0.21. If you need training scores, please set return_train_score=True\n",
      "  warnings.warn(*warn_args, **warn_kwargs)\n",
      "/home/ma_emali/anaconda2/lib/python2.7/site-packages/sklearn/utils/deprecation.py:122: FutureWarning: You are accessing a training score ('split0_train_score'), which will not be available by default any more in 0.21. If you need training scores, please set return_train_score=True\n",
      "  warnings.warn(*warn_args, **warn_kwargs)\n",
      "/home/ma_emali/anaconda2/lib/python2.7/site-packages/sklearn/utils/deprecation.py:122: FutureWarning: You are accessing a training score ('split1_train_score'), which will not be available by default any more in 0.21. If you need training scores, please set return_train_score=True\n",
      "  warnings.warn(*warn_args, **warn_kwargs)\n",
      "/home/ma_emali/anaconda2/lib/python2.7/site-packages/sklearn/utils/deprecation.py:122: FutureWarning: You are accessing a training score ('std_train_score'), which will not be available by default any more in 0.21. If you need training scores, please set return_train_score=True\n",
      "  warnings.warn(*warn_args, **warn_kwargs)\n"
     ]
    },
    {
     "data": {
      "text/plain": [
       "{'mean_fit_time': array([37.10210252, 45.66356099, 47.67764902, 57.14844954, 71.60533106,\n",
       "        71.45125592, 83.15435445]),\n",
       " 'mean_score_time': array([0.37322199, 0.38710749, 0.31660593, 0.37683642, 0.45772552,\n",
       "        0.60212946, 0.65768898]),\n",
       " 'mean_test_score': array([0.73886527, 0.73957106, 0.74058233, 0.74108138, 0.74130634,\n",
       "        0.74132676, 0.74168197]),\n",
       " 'mean_train_score': array([0.89268877, 0.8933535 , 0.89412065, 0.89439995, 0.89481608,\n",
       "        0.89496105, 0.89503387]),\n",
       " 'param_n_estimators': masked_array(data=[25, 30, 40, 50, 70, 90, 100],\n",
       "              mask=[False, False, False, False, False, False, False],\n",
       "        fill_value='?',\n",
       "             dtype=object),\n",
       " 'params': [{'n_estimators': 25},\n",
       "  {'n_estimators': 30},\n",
       "  {'n_estimators': 40},\n",
       "  {'n_estimators': 50},\n",
       "  {'n_estimators': 70},\n",
       "  {'n_estimators': 90},\n",
       "  {'n_estimators': 100}],\n",
       " 'rank_test_score': array([7, 6, 5, 4, 3, 2, 1], dtype=int32),\n",
       " 'split0_test_score': array([0.72764111, 0.72866445, 0.72939577, 0.72969061, 0.72951868,\n",
       "        0.72909367, 0.72915275]),\n",
       " 'split0_train_score': array([0.89643591, 0.89681937, 0.89762571, 0.89788366, 0.8981148 ,\n",
       "        0.89826617, 0.89831043]),\n",
       " 'split1_test_score': array([0.75008943, 0.75047767, 0.75176889, 0.75247215, 0.75309401,\n",
       "        0.75355985, 0.7542112 ]),\n",
       " 'split1_train_score': array([0.88894162, 0.88988762, 0.89061558, 0.89091623, 0.89151735,\n",
       "        0.89165593, 0.89175731]),\n",
       " 'std_fit_time': array([1.36893749, 0.48919094, 9.45271111, 1.96589267, 3.25296199,\n",
       "        6.00357306, 0.02491057]),\n",
       " 'std_score_time': array([0.00079596, 0.03479946, 0.01641905, 0.02515161, 0.01008344,\n",
       "        0.02053356, 0.02216303]),\n",
       " 'std_test_score': array([0.01122416, 0.01090661, 0.01118656, 0.01139077, 0.01178767,\n",
       "        0.01223309, 0.01252923]),\n",
       " 'std_train_score': array([0.00374715, 0.00346588, 0.00350507, 0.00348371, 0.00329873,\n",
       "        0.00330512, 0.00327656])}"
      ]
     },
     "execution_count": 22,
     "metadata": {},
     "output_type": "execute_result"
    }
   ],
   "source": [
    "#20,000 \n",
    "clf3.cv_results_"
   ]
  },
  {
   "cell_type": "code",
   "execution_count": 25,
   "metadata": {},
   "outputs": [
    {
     "data": {
      "text/plain": [
       "{'mean_fit_time': array([100.59290159, 130.75815189, 144.47923303, 176.01671815,\n",
       "        214.50431168]),\n",
       " 'mean_score_time': array([0.69378245, 0.76790452, 1.02121747, 1.24964488, 1.33111739]),\n",
       " 'mean_test_score': array([0.7309409 , 0.73172492, 0.73209486, 0.73301072, 0.73289327]),\n",
       " 'mean_train_score': array([0.88230468, 0.88258803, 0.88287593, 0.88305084, 0.88313213]),\n",
       " 'param_n_estimators': masked_array(data=[40, 50, 70, 90, 100],\n",
       "              mask=[False, False, False, False, False],\n",
       "        fill_value='?',\n",
       "             dtype=object),\n",
       " 'params': [{'n_estimators': 40},\n",
       "  {'n_estimators': 50},\n",
       "  {'n_estimators': 70},\n",
       "  {'n_estimators': 90},\n",
       "  {'n_estimators': 100}],\n",
       " 'rank_test_score': array([5, 4, 3, 1, 2], dtype=int32),\n",
       " 'split0_test_score': array([0.68429371, 0.68555115, 0.68588649, 0.6875556 , 0.68732029]),\n",
       " 'split0_train_score': array([0.88407442, 0.8844071 , 0.88462326, 0.88482495, 0.88491263]),\n",
       " 'split1_test_score': array([0.77758809, 0.77789869, 0.77830323, 0.77846584, 0.77846626]),\n",
       " 'split1_train_score': array([0.88053495, 0.88076895, 0.8811286 , 0.88127673, 0.88135163]),\n",
       " 'std_fit_time': array([21.11780655, 12.97001302,  8.99684191,  7.05865502,  3.60856354]),\n",
       " 'std_score_time': array([0.02946341, 0.0881865 , 0.04772842, 0.05574501, 0.0270524 ]),\n",
       " 'std_test_score': array([0.04664719, 0.04617377, 0.04620837, 0.04545512, 0.04557298]),\n",
       " 'std_train_score': array([0.00176973, 0.00181908, 0.00174733, 0.00177411, 0.0017805 ])}"
      ]
     },
     "execution_count": 25,
     "metadata": {},
     "output_type": "execute_result"
    }
   ],
   "source": [
    "#40,000 \n",
    "clf3.cv_results_"
   ]
  },
  {
   "cell_type": "code",
   "execution_count": null,
   "metadata": {},
   "outputs": [],
   "source": []
  }
 ],
 "metadata": {
  "kernelspec": {
   "display_name": "Python 2",
   "language": "python",
   "name": "python2"
  },
  "language_info": {
   "codemirror_mode": {
    "name": "ipython",
    "version": 2
   },
   "file_extension": ".py",
   "mimetype": "text/x-python",
   "name": "python",
   "nbconvert_exporter": "python",
   "pygments_lexer": "ipython2",
   "version": "2.7.14"
  }
 },
 "nbformat": 4,
 "nbformat_minor": 2
}
