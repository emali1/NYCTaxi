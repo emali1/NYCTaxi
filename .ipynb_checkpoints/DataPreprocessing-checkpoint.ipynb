{
 "cells": [
  {
   "cell_type": "code",
   "execution_count": 23,
   "metadata": {},
   "outputs": [],
   "source": [
    "#load data \n",
    "\n",
    "import pandas as pd\n",
    "import pickle\n",
    "from sklearn.cluster import KMeans\n",
    "%matplotlib inline\n",
    "import matplotlib.pyplot as plt\n",
    "import numpy as np\n",
    "from scipy import stats\n",
    "\n",
    "trip_data_file = \"data/trip_data_4.csv\"\n",
    "trip_fare_file = \"data/trip_fare_4.csv\"\n",
    "\n",
    "trips = pd.read_csv(trip_data_file, nrows=100000)\n",
    "fares = pd.read_csv(trip_fare_file, nrows=100000)\n",
    "\n",
    "full_tripdata = pd.merge(left=trips,right=fares, how='left', left_on=['medallion',' hack_license',' vendor_id',' pickup_datetime'], right_on=['medallion',' hack_license',' vendor_id',' pickup_datetime'])\n",
    "full_tripdata = full_tripdata.drop_duplicates()"
   ]
  },
  {
   "cell_type": "code",
   "execution_count": 24,
   "metadata": {},
   "outputs": [],
   "source": [
    "# Drop some un-wanted columns\n",
    "full_tripdata = full_tripdata.drop(columns=['medallion',' hack_license',' vendor_id',' rate_code',' store_and_fwd_flag'])"
   ]
  },
  {
   "cell_type": "code",
   "execution_count": 25,
   "metadata": {},
   "outputs": [],
   "source": [
    "#prepare time related column , weekday and hourofday\n",
    "full_tripdata[\" pickup_datetime\"] = pd.to_datetime(full_tripdata[\" pickup_datetime\"])\n",
    "full_tripdata[\" dropoff_datetime\"] = pd.to_datetime(full_tripdata[\" dropoff_datetime\"])\n",
    "\n",
    "full_tripdata[\"weekday\"] = full_tripdata[\" pickup_datetime\"].dt.dayofweek\n",
    "full_tripdata[\"hourofday\"] = full_tripdata[\" pickup_datetime\"].dt.hour\n"
   ]
  },
  {
   "cell_type": "code",
   "execution_count": null,
   "metadata": {},
   "outputs": [],
   "source": [
    "full_tripdata.describe()"
   ]
  },
  {
   "cell_type": "code",
   "execution_count": 26,
   "metadata": {},
   "outputs": [],
   "source": [
    "#remove outliers\n",
    "measuredata = pd.concat([full_tripdata[' trip_time_in_secs'], \n",
    "                         full_tripdata[' pickup_longitude'],\n",
    "                         full_tripdata[' pickup_latitude'],\n",
    "                         full_tripdata[' dropoff_longitude'],\n",
    "                         full_tripdata[' fare_amount'],\n",
    "                         full_tripdata[' tip_amount'],\n",
    "                        ],axis=1)\n",
    "\n",
    "#remove data out of two standard deviation\n",
    "full_tripdata = full_tripdata[(np.abs(stats.zscore(measuredata)) < 2).all(axis=1)]\n",
    "\n",
    "#full_tripdata = full_tripdata.loc[((full_tripdata[' pickup_longitude'] < -72.0) & (full_tripdata[' pickup_latitude'] > 30.0)) \n",
    "                                  # | ((full_tripdata[' dropoff_latitude'] < -72.0) & (full_tripdata[' dropoff_latitude'] > 30.0))]"
   ]
  },
  {
   "cell_type": "code",
   "execution_count": 21,
   "metadata": {},
   "outputs": [
    {
     "data": {
      "text/plain": [
       "Index([u' pickup_datetime', u' dropoff_datetime', u' passenger_count',\n",
       "       u' trip_time_in_secs', u' trip_distance', u' pickup_longitude',\n",
       "       u' pickup_latitude', u' dropoff_longitude', u' dropoff_latitude',\n",
       "       u' payment_type', u' fare_amount', u' surcharge', u' mta_tax',\n",
       "       u' tip_amount', u' tolls_amount', u' total_amount', u'weekday',\n",
       "       u'hourofday', u'pickupLoc', u'dropoffLoc'],\n",
       "      dtype='object')"
      ]
     },
     "execution_count": 21,
     "metadata": {},
     "output_type": "execute_result"
    }
   ],
   "source": [
    "full_tripdata.describe()\n",
    "full_tripdata.columns"
   ]
  },
  {
   "cell_type": "code",
   "execution_count": 27,
   "metadata": {},
   "outputs": [],
   "source": [
    "#prepare location, use pre-trained k-mean model\n",
    "model = pickle.load(open('location_cluster_kmean', 'rb'))\n",
    "pickupLocations = full_tripdata.iloc[:,5:7]\n",
    "#print pickupLocations.describe()\n",
    "full_tripdata[\"pickupLoc\"] = model.predict(pickupLocations.as_matrix())\n",
    "\n",
    "dropoffLocations = full_tripdata.iloc[:,7:9]\n",
    "full_tripdata[\"dropoffLoc\"] = model.predict(dropoffLocations.as_matrix())\n",
    "#print dropoffLocations.describe()"
   ]
  },
  {
   "cell_type": "code",
   "execution_count": 28,
   "metadata": {},
   "outputs": [
    {
     "data": {
      "text/html": [
       "<div>\n",
       "<style scoped>\n",
       "    .dataframe tbody tr th:only-of-type {\n",
       "        vertical-align: middle;\n",
       "    }\n",
       "\n",
       "    .dataframe tbody tr th {\n",
       "        vertical-align: top;\n",
       "    }\n",
       "\n",
       "    .dataframe thead th {\n",
       "        text-align: right;\n",
       "    }\n",
       "</style>\n",
       "<table border=\"1\" class=\"dataframe\">\n",
       "  <thead>\n",
       "    <tr style=\"text-align: right;\">\n",
       "      <th></th>\n",
       "      <th>fare_amount</th>\n",
       "      <th>tip_amount</th>\n",
       "      <th>weekday</th>\n",
       "      <th>hourofday</th>\n",
       "      <th>pickupLoc</th>\n",
       "      <th>dropoffLoc</th>\n",
       "    </tr>\n",
       "  </thead>\n",
       "  <tbody>\n",
       "    <tr>\n",
       "      <th>count</th>\n",
       "      <td>91196.000000</td>\n",
       "      <td>91196.000000</td>\n",
       "      <td>91196.000000</td>\n",
       "      <td>91196.000000</td>\n",
       "      <td>91196.000000</td>\n",
       "      <td>91196.000000</td>\n",
       "    </tr>\n",
       "    <tr>\n",
       "      <th>mean</th>\n",
       "      <td>10.362697</td>\n",
       "      <td>1.056253</td>\n",
       "      <td>4.625334</td>\n",
       "      <td>10.267084</td>\n",
       "      <td>23.604687</td>\n",
       "      <td>24.214055</td>\n",
       "    </tr>\n",
       "    <tr>\n",
       "      <th>std</th>\n",
       "      <td>5.385798</td>\n",
       "      <td>1.290242</td>\n",
       "      <td>0.494550</td>\n",
       "      <td>9.301890</td>\n",
       "      <td>14.062651</td>\n",
       "      <td>14.017428</td>\n",
       "    </tr>\n",
       "    <tr>\n",
       "      <th>min</th>\n",
       "      <td>2.500000</td>\n",
       "      <td>0.000000</td>\n",
       "      <td>0.000000</td>\n",
       "      <td>0.000000</td>\n",
       "      <td>0.000000</td>\n",
       "      <td>0.000000</td>\n",
       "    </tr>\n",
       "    <tr>\n",
       "      <th>25%</th>\n",
       "      <td>6.500000</td>\n",
       "      <td>0.000000</td>\n",
       "      <td>4.000000</td>\n",
       "      <td>1.000000</td>\n",
       "      <td>11.000000</td>\n",
       "      <td>12.000000</td>\n",
       "    </tr>\n",
       "    <tr>\n",
       "      <th>50%</th>\n",
       "      <td>9.000000</td>\n",
       "      <td>0.900000</td>\n",
       "      <td>5.000000</td>\n",
       "      <td>7.000000</td>\n",
       "      <td>23.000000</td>\n",
       "      <td>24.000000</td>\n",
       "    </tr>\n",
       "    <tr>\n",
       "      <th>75%</th>\n",
       "      <td>13.000000</td>\n",
       "      <td>1.900000</td>\n",
       "      <td>5.000000</td>\n",
       "      <td>22.000000</td>\n",
       "      <td>37.000000</td>\n",
       "      <td>38.000000</td>\n",
       "    </tr>\n",
       "    <tr>\n",
       "      <th>max</th>\n",
       "      <td>31.500000</td>\n",
       "      <td>5.800000</td>\n",
       "      <td>6.000000</td>\n",
       "      <td>23.000000</td>\n",
       "      <td>49.000000</td>\n",
       "      <td>49.000000</td>\n",
       "    </tr>\n",
       "  </tbody>\n",
       "</table>\n",
       "</div>"
      ],
      "text/plain": [
       "        fare_amount    tip_amount       weekday     hourofday     pickupLoc  \\\n",
       "count  91196.000000  91196.000000  91196.000000  91196.000000  91196.000000   \n",
       "mean      10.362697      1.056253      4.625334     10.267084     23.604687   \n",
       "std        5.385798      1.290242      0.494550      9.301890     14.062651   \n",
       "min        2.500000      0.000000      0.000000      0.000000      0.000000   \n",
       "25%        6.500000      0.000000      4.000000      1.000000     11.000000   \n",
       "50%        9.000000      0.900000      5.000000      7.000000     23.000000   \n",
       "75%       13.000000      1.900000      5.000000     22.000000     37.000000   \n",
       "max       31.500000      5.800000      6.000000     23.000000     49.000000   \n",
       "\n",
       "         dropoffLoc  \n",
       "count  91196.000000  \n",
       "mean      24.214055  \n",
       "std       14.017428  \n",
       "min        0.000000  \n",
       "25%       12.000000  \n",
       "50%       24.000000  \n",
       "75%       38.000000  \n",
       "max       49.000000  "
      ]
     },
     "execution_count": 28,
     "metadata": {},
     "output_type": "execute_result"
    }
   ],
   "source": [
    "#drop all un-wanted columns\n",
    "training = full_tripdata.drop(columns=[' pickup_datetime',\n",
    "                                       ' dropoff_datetime',\n",
    "                                       ' trip_time_in_secs',\n",
    "                                       ' trip_distance',\n",
    "                                       ' dropoff_longitude',\n",
    "                                       ' dropoff_latitude',\n",
    "                                       ' surcharge',\n",
    "                                       ' mta_tax',\n",
    "                                       ' tolls_amount',\n",
    "                                       ' total_amount',\n",
    "                                       ' passenger_count',\n",
    "                                       ' payment_type',\n",
    "                                       ' pickup_longitude',\n",
    "                                       ' pickup_latitude'])\n",
    "\n",
    "training.describe()"
   ]
  },
  {
   "cell_type": "code",
   "execution_count": 29,
   "metadata": {},
   "outputs": [],
   "source": [
    "#column data type change \n",
    "training['weekday'] = training['weekday'].astype('category')\n",
    "training['hourofday'] = training['hourofday'].astype('category')\n",
    "training['pickupLoc'] = training['pickupLoc'].astype('category')\n",
    "training['dropoffLoc'] = training['dropoffLoc'].astype('category')"
   ]
  },
  {
   "cell_type": "code",
   "execution_count": 30,
   "metadata": {},
   "outputs": [],
   "source": [
    "#training and result data split\n",
    "X = training.iloc[:,2:]\n",
    "Y_fare = training.iloc[:,0]\n",
    "Y_tip = training.iloc[:,1]"
   ]
  },
  {
   "cell_type": "code",
   "execution_count": 31,
   "metadata": {},
   "outputs": [],
   "source": [
    "#convert category data to one-hot embedding\n",
    "X = pd.get_dummies(X)"
   ]
  },
  {
   "cell_type": "code",
   "execution_count": 32,
   "metadata": {},
   "outputs": [],
   "source": [
    "#dump the prepaired data\n",
    "\n",
    "pickle.dump(X,open(\"X\",\"wb\"))\n",
    "pickle.dump(Y_fare,open(\"Y_fare\",\"wb\"))\n",
    "pickle.dump(X,open(\"Y_tip\",\"wb\"))"
   ]
  },
  {
   "cell_type": "code",
   "execution_count": null,
   "metadata": {},
   "outputs": [],
   "source": []
  }
 ],
 "metadata": {
  "kernelspec": {
   "display_name": "Python 2",
   "language": "python",
   "name": "python2"
  },
  "language_info": {
   "codemirror_mode": {
    "name": "ipython",
    "version": 2
   },
   "file_extension": ".py",
   "mimetype": "text/x-python",
   "name": "python",
   "nbconvert_exporter": "python",
   "pygments_lexer": "ipython2",
   "version": "2.7.14"
  }
 },
 "nbformat": 4,
 "nbformat_minor": 2
}
