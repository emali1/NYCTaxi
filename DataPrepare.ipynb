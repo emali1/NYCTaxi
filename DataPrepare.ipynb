{
 "cells": [
  {
   "cell_type": "code",
   "execution_count": 1,
   "metadata": {},
   "outputs": [],
   "source": [
    "import pandas as pd\n",
    "\n",
    "trip_data_file = \"data/trip_data_4.csv\"\n",
    "trip_fare_file = \"data/trip_fare_4.csv\"\n",
    "\n",
    "trips = pd.read_csv(trip_data_file, nrows=10000)\n",
    "fares = pd.read_csv(trip_fare_file, nrows=10000)"
   ]
  },
  {
   "cell_type": "markdown",
   "metadata": {},
   "source": [
    "Merge the Trip and Fare data together "
   ]
  },
  {
   "cell_type": "code",
   "execution_count": 2,
   "metadata": {},
   "outputs": [
    {
     "data": {
      "text/html": [
       "<div>\n",
       "<style scoped>\n",
       "    .dataframe tbody tr th:only-of-type {\n",
       "        vertical-align: middle;\n",
       "    }\n",
       "\n",
       "    .dataframe tbody tr th {\n",
       "        vertical-align: top;\n",
       "    }\n",
       "\n",
       "    .dataframe thead th {\n",
       "        text-align: right;\n",
       "    }\n",
       "</style>\n",
       "<table border=\"1\" class=\"dataframe\">\n",
       "  <thead>\n",
       "    <tr style=\"text-align: right;\">\n",
       "      <th></th>\n",
       "      <th>medallion</th>\n",
       "      <th>hack_license</th>\n",
       "      <th>vendor_id</th>\n",
       "      <th>rate_code</th>\n",
       "      <th>store_and_fwd_flag</th>\n",
       "      <th>pickup_datetime_x</th>\n",
       "      <th>dropoff_datetime</th>\n",
       "      <th>passenger_count</th>\n",
       "      <th>trip_time_in_secs</th>\n",
       "      <th>trip_distance</th>\n",
       "      <th>...</th>\n",
       "      <th>dropoff_longitude</th>\n",
       "      <th>dropoff_latitude</th>\n",
       "      <th>pickup_datetime_y</th>\n",
       "      <th>payment_type</th>\n",
       "      <th>fare_amount</th>\n",
       "      <th>surcharge</th>\n",
       "      <th>mta_tax</th>\n",
       "      <th>tip_amount</th>\n",
       "      <th>tolls_amount</th>\n",
       "      <th>total_amount</th>\n",
       "    </tr>\n",
       "  </thead>\n",
       "  <tbody>\n",
       "    <tr>\n",
       "      <th>0</th>\n",
       "      <td>91F6EB84975BBC867E32CB113C7C2CD5</td>\n",
       "      <td>AD8751110E6292079EB10EB9481FE1A6</td>\n",
       "      <td>CMT</td>\n",
       "      <td>1</td>\n",
       "      <td>N</td>\n",
       "      <td>2013-04-04 18:47:45</td>\n",
       "      <td>2013-04-04 19:00:25</td>\n",
       "      <td>1</td>\n",
       "      <td>759</td>\n",
       "      <td>2.5</td>\n",
       "      <td>...</td>\n",
       "      <td>-73.976273</td>\n",
       "      <td>40.785648</td>\n",
       "      <td>2013-04-04 18:47:45</td>\n",
       "      <td>CRD</td>\n",
       "      <td>11.0</td>\n",
       "      <td>1.0</td>\n",
       "      <td>0.5</td>\n",
       "      <td>2.5</td>\n",
       "      <td>0.0</td>\n",
       "      <td>15.0</td>\n",
       "    </tr>\n",
       "    <tr>\n",
       "      <th>1</th>\n",
       "      <td>EC34CD1B3797DFAFF3FE099BA87B6656</td>\n",
       "      <td>8FE6A4AEDF89B6B4E19D2377FD3FB7D7</td>\n",
       "      <td>CMT</td>\n",
       "      <td>1</td>\n",
       "      <td>N</td>\n",
       "      <td>2013-04-05 07:08:34</td>\n",
       "      <td>2013-04-05 07:17:34</td>\n",
       "      <td>1</td>\n",
       "      <td>540</td>\n",
       "      <td>1.6</td>\n",
       "      <td>...</td>\n",
       "      <td>0.000000</td>\n",
       "      <td>0.000000</td>\n",
       "      <td>2013-04-05 07:08:34</td>\n",
       "      <td>CRD</td>\n",
       "      <td>8.5</td>\n",
       "      <td>0.0</td>\n",
       "      <td>0.5</td>\n",
       "      <td>1.8</td>\n",
       "      <td>0.0</td>\n",
       "      <td>10.8</td>\n",
       "    </tr>\n",
       "  </tbody>\n",
       "</table>\n",
       "<p>2 rows × 22 columns</p>\n",
       "</div>"
      ],
      "text/plain": [
       "                          medallion                      hack_license  \\\n",
       "0  91F6EB84975BBC867E32CB113C7C2CD5  AD8751110E6292079EB10EB9481FE1A6   \n",
       "1  EC34CD1B3797DFAFF3FE099BA87B6656  8FE6A4AEDF89B6B4E19D2377FD3FB7D7   \n",
       "\n",
       "   vendor_id   rate_code  store_and_fwd_flag    pickup_datetime_x  \\\n",
       "0        CMT           1                   N  2013-04-04 18:47:45   \n",
       "1        CMT           1                   N  2013-04-05 07:08:34   \n",
       "\n",
       "      dropoff_datetime   passenger_count   trip_time_in_secs   trip_distance  \\\n",
       "0  2013-04-04 19:00:25                 1                 759             2.5   \n",
       "1  2013-04-05 07:17:34                 1                 540             1.6   \n",
       "\n",
       "       ...         dropoff_longitude   dropoff_latitude    pickup_datetime_y  \\\n",
       "0      ...                -73.976273          40.785648  2013-04-04 18:47:45   \n",
       "1      ...                  0.000000           0.000000  2013-04-05 07:08:34   \n",
       "\n",
       "    payment_type  fare_amount  surcharge   mta_tax   tip_amount  \\\n",
       "0            CRD         11.0        1.0       0.5          2.5   \n",
       "1            CRD          8.5        0.0       0.5          1.8   \n",
       "\n",
       "    tolls_amount   total_amount  \n",
       "0            0.0           15.0  \n",
       "1            0.0           10.8  \n",
       "\n",
       "[2 rows x 22 columns]"
      ]
     },
     "execution_count": 2,
     "metadata": {},
     "output_type": "execute_result"
    }
   ],
   "source": [
    "full_tripdata = pd.merge(left=trips,right=fares, how='left', left_on=['medallion',' hack_license',' vendor_id'], right_on=['medallion',' hack_license',' vendor_id'])\n",
    "full_tripdata.columns\n",
    "full_tripdata.head(2)"
   ]
  },
  {
   "cell_type": "markdown",
   "metadata": {},
   "source": [
    "# What is the distribution of number of passengers per trip?"
   ]
  },
  {
   "cell_type": "code",
   "execution_count": 3,
   "metadata": {},
   "outputs": [
    {
     "name": "stdout",
     "output_type": "stream",
     "text": [
      "col_0             Frequency Probability\n",
      " passenger_count                       \n",
      "1                              0.611356\n",
      "2                              0.126411\n",
      "3                              0.045247\n",
      "4                              0.022303\n",
      "5                              0.114679\n",
      "6                              0.080003\n"
     ]
    },
    {
     "data": {
      "text/plain": [
       "<matplotlib.axes._subplots.AxesSubplot at 0x98bcbe0>"
      ]
     },
     "execution_count": 3,
     "metadata": {},
     "output_type": "execute_result"
    }
   ],
   "source": [
    "passengers = pd.crosstab(index=full_tripdata[\" passenger_count\"].astype(\"category\"),columns=\"Frequency Probability\",normalize='columns')\n",
    "print passengers\n",
    "passengers.plot.bar()"
   ]
  },
  {
   "cell_type": "markdown",
   "metadata": {},
   "source": [
    "# b. What is the distribution of payment_type?"
   ]
  },
  {
   "cell_type": "code",
   "execution_count": 4,
   "metadata": {},
   "outputs": [
    {
     "name": "stdout",
     "output_type": "stream",
     "text": [
      "col_0          Frequency Probability\n",
      " payment_type                       \n",
      "CRD                         0.561704\n",
      "CSH                         0.437695\n",
      "UNK                         0.000601\n"
     ]
    },
    {
     "data": {
      "text/plain": [
       "<matplotlib.axes._subplots.AxesSubplot at 0xae2d0b8>"
      ]
     },
     "execution_count": 4,
     "metadata": {},
     "output_type": "execute_result"
    },
    {
     "data": {
      "image/png": "[encoded data removed]",
      "text/plain": [
       "<matplotlib.figure.Figure at 0xae2b9e8>"
      ]
     },
     "metadata": {},
     "output_type": "display_data"
    }
   ],
   "source": [
    "payment_types = pd.crosstab(index=full_tripdata[\" payment_type\"].astype(\"category\"),columns=\"Frequency Probability\",normalize='columns')\n",
    "print payment_types\n",
    "payment_types.plot.bar() "
   ]
  },
  {
   "cell_type": "markdown",
   "metadata": {},
   "source": [
    "# c. What is the distribution of fare amount?"
   ]
  },
  {
   "cell_type": "code",
   "execution_count": 37,
   "metadata": {},
   "outputs": [
    {
     "data": {
      "text/plain": [
       "<matplotlib.axes._subplots.AxesSubplot at 0x143b0e10>"
      ]
     },
     "execution_count": 37,
     "metadata": {},
     "output_type": "execute_result"
    },
    {
     "data": {
      "image/png": "[encoded data removed]",
      "text/plain": [
       "<matplotlib.figure.Figure at 0x14355978>"
      ]
     },
     "metadata": {},
     "output_type": "display_data"
    }
   ],
   "source": [
    "fare_amount = full_tripdata.iloc[:,16]\n",
    "fare_amount.plot.hist(bins=50,range=(0,100))"
   ]
  },
  {
   "cell_type": "markdown",
   "metadata": {},
   "source": [
    "# d. What is the distribution of tip amount?"
   ]
  },
  {
   "cell_type": "code",
   "execution_count": 6,
   "metadata": {},
   "outputs": [
    {
     "data": {
      "text/plain": [
       "<matplotlib.axes._subplots.AxesSubplot at 0xae8ad68>"
      ]
     },
     "execution_count": 6,
     "metadata": {},
     "output_type": "execute_result"
    },
    {
     "data": {
      "image/png": "[encoded data removed]",
      "text/plain": [
       "<matplotlib.figure.Figure at 0xb0cf0b8>"
      ]
     },
     "metadata": {},
     "output_type": "display_data"
    }
   ],
   "source": [
    "tips_amount = full_tripdata.iloc[:,19]\n",
    "tips_amount.plot.hist(bins=20,range=(0,10))\n"
   ]
  },
  {
   "cell_type": "code",
   "execution_count": 7,
   "metadata": {},
   "outputs": [
    {
     "data": {
      "text/plain": [
       "count    24974.000000\n",
       "mean         0.111290\n",
       "std          0.132445\n",
       "min          0.000000\n",
       "25%          0.000000\n",
       "50%          0.103448\n",
       "75%          0.212121\n",
       "max          4.800000\n",
       "dtype: float64"
      ]
     },
     "execution_count": 7,
     "metadata": {},
     "output_type": "execute_result"
    },
    {
     "data": {
      "image/png": "[encoded data removed]",
      "text/plain": [
       "<matplotlib.figure.Figure at 0xb2ee780>"
      ]
     },
     "metadata": {},
     "output_type": "display_data"
    }
   ],
   "source": [
    "generosity = tips_amount /fare_amount \n",
    "generosity.plot.hist(bins=10,range=(0,1))\n",
    "generosity.describe()"
   ]
  },
  {
   "cell_type": "markdown",
   "metadata": {},
   "source": [
    "# e. What is the distribution of total amount?"
   ]
  },
  {
   "cell_type": "code",
   "execution_count": 36,
   "metadata": {},
   "outputs": [
    {
     "data": {
      "text/plain": [
       "count    24974.000000\n",
       "mean        14.113623\n",
       "std         10.054137\n",
       "min          3.500000\n",
       "25%          8.300000\n",
       "50%         11.300000\n",
       "75%         16.100000\n",
       "max        180.000000\n",
       "Name:  total_amount, dtype: float64"
      ]
     },
     "execution_count": 36,
     "metadata": {},
     "output_type": "execute_result"
    },
    {
     "data": {
      "image/png": "[encoded data removed]",
      "text/plain": [
       "<matplotlib.figure.Figure at 0x186b9a20>"
      ]
     },
     "metadata": {},
     "output_type": "display_data"
    }
   ],
   "source": [
    "total_amounts = full_tripdata.iloc[:,21]\n",
    "total_amounts.plot.hist(bins=20,range=(0,100))\n",
    "total_amounts.describe()"
   ]
  },
  {
   "cell_type": "markdown",
   "metadata": {},
   "source": [
    "# What are top 5 busiest hours of the day?"
   ]
  },
  {
   "cell_type": "code",
   "execution_count": 9,
   "metadata": {},
   "outputs": [
    {
     "data": {
      "text/plain": [
       "Int64Index([21, 22, 20, 18, 1], dtype='int64', name=u' pickup_datetime_x')"
      ]
     },
     "execution_count": 9,
     "metadata": {},
     "output_type": "execute_result"
    }
   ],
   "source": [
    "pickupTime = pd.DataFrame(full_tripdata.iloc[:,5])\n",
    "pickupTime[\" pickup_datetime_x\"] = pd.to_datetime(pickupTime[\" pickup_datetime_x\"])\n",
    "pickupTime.index = pickupTime[\" pickup_datetime_x\"]\n",
    "\n",
    "\n",
    "frequency = pickupTime.groupby(pickupTime.index.hour).count()\n",
    "\n",
    "frequency.sort_values(by=[\" pickup_datetime_x\"],ascending=False).head(5).index\n",
    "\n"
   ]
  },
  {
   "cell_type": "markdown",
   "metadata": {},
   "source": [
    "# What are the top 10 busiest locations of the city?"
   ]
  },
  {
   "cell_type": "code",
   "execution_count": 8,
   "metadata": {},
   "outputs": [],
   "source": [
    "#join the pickup and dropoff locations together\n",
    "pickupLoc = pd.DataFrame(full_tripdata.iloc[:,10:12])\n",
    "pickupLoc = pickupLoc.rename(columns={' pickup_longitude':'longtitude', ' pickup_latitude':'latitude'})\n",
    "dropoffLoc = pd.DataFrame(full_tripdata.iloc[:,12:14],columns=[\"longtitude\",\"latitude\"])\n",
    "dropoffLoc = pickupLoc.rename(columns={' dropoff_longitude':'longtitude', ' dropoff_latitude':'latitude'})\n",
    "\n",
    "loc = pd.concat([pickupLoc,dropoffLoc],axis=0)"
   ]
  },
  {
   "cell_type": "code",
   "execution_count": 6,
   "metadata": {},
   "outputs": [
    {
     "data": {
      "text/html": [
       "<div>\n",
       "<style scoped>\n",
       "    .dataframe tbody tr th:only-of-type {\n",
       "        vertical-align: middle;\n",
       "    }\n",
       "\n",
       "    .dataframe tbody tr th {\n",
       "        vertical-align: top;\n",
       "    }\n",
       "\n",
       "    .dataframe thead th {\n",
       "        text-align: right;\n",
       "    }\n",
       "</style>\n",
       "<table border=\"1\" class=\"dataframe\">\n",
       "  <thead>\n",
       "    <tr style=\"text-align: right;\">\n",
       "      <th></th>\n",
       "      <th>OBJECTID</th>\n",
       "      <th>ZONEDIST</th>\n",
       "      <th>Shape__Area</th>\n",
       "      <th>Shape__Length</th>\n",
       "      <th>geometry</th>\n",
       "    </tr>\n",
       "  </thead>\n",
       "  <tbody>\n",
       "    <tr>\n",
       "      <th>0</th>\n",
       "      <td>1</td>\n",
       "      <td>R7A</td>\n",
       "      <td>1.967391e-05</td>\n",
       "      <td>0.060831</td>\n",
       "      <td>POLYGON ((-73.8703878685556 40.676946034689, -...</td>\n",
       "    </tr>\n",
       "    <tr>\n",
       "      <th>1</th>\n",
       "      <td>2</td>\n",
       "      <td>R4-1</td>\n",
       "      <td>3.680841e-06</td>\n",
       "      <td>0.008242</td>\n",
       "      <td>POLYGON ((-74.00753446543671 40.6277304963559,...</td>\n",
       "    </tr>\n",
       "    <tr>\n",
       "      <th>2</th>\n",
       "      <td>3</td>\n",
       "      <td>PARK</td>\n",
       "      <td>1.590950e-07</td>\n",
       "      <td>0.001752</td>\n",
       "      <td>POLYGON ((-73.9560353386063 40.7092946244083, ...</td>\n",
       "    </tr>\n",
       "    <tr>\n",
       "      <th>3</th>\n",
       "      <td>4</td>\n",
       "      <td>PARK</td>\n",
       "      <td>2.007586e-07</td>\n",
       "      <td>0.002280</td>\n",
       "      <td>POLYGON ((-73.9860420079775 40.6600898705016, ...</td>\n",
       "    </tr>\n",
       "    <tr>\n",
       "      <th>4</th>\n",
       "      <td>5</td>\n",
       "      <td>M1-1</td>\n",
       "      <td>2.033781e-06</td>\n",
       "      <td>0.008256</td>\n",
       "      <td>POLYGON ((-73.99187308014091 40.6769546288224,...</td>\n",
       "    </tr>\n",
       "  </tbody>\n",
       "</table>\n",
       "</div>"
      ],
      "text/plain": [
       "   OBJECTID ZONEDIST   Shape__Area  Shape__Length  \\\n",
       "0         1      R7A  1.967391e-05       0.060831   \n",
       "1         2     R4-1  3.680841e-06       0.008242   \n",
       "2         3     PARK  1.590950e-07       0.001752   \n",
       "3         4     PARK  2.007586e-07       0.002280   \n",
       "4         5     M1-1  2.033781e-06       0.008256   \n",
       "\n",
       "                                            geometry  \n",
       "0  POLYGON ((-73.8703878685556 40.676946034689, -...  \n",
       "1  POLYGON ((-74.00753446543671 40.6277304963559,...  \n",
       "2  POLYGON ((-73.9560353386063 40.7092946244083, ...  \n",
       "3  POLYGON ((-73.9860420079775 40.6600898705016, ...  \n",
       "4  POLYGON ((-73.99187308014091 40.6769546288224,...  "
      ]
     },
     "execution_count": 6,
     "metadata": {},
     "output_type": "execute_result"
    }
   ],
   "source": [
    "import geopandas as gpd\n",
    "nyc = gpd.read_file('data/NYC Zoning.geojson')\n",
    "\n",
    "nyc.head()"
   ]
  },
  {
   "cell_type": "code",
   "execution_count": 9,
   "metadata": {},
   "outputs": [],
   "source": [
    "from geopandas import GeoDataFrame\n",
    "from shapely.geometry import Point\n",
    "geometry = [Point(xy) for xy in zip(loc.longtitude, loc.latitude)]\n"
   ]
  },
  {
   "cell_type": "code",
   "execution_count": 10,
   "metadata": {},
   "outputs": [],
   "source": [
    "#loc = loc.drop(['longtitude', 'latitude'], axis=1)\n",
    "crs = {'init': 'epsg:4326'}\n",
    "gloc = GeoDataFrame(loc, crs=crs, geometry=geometry)"
   ]
  },
  {
   "cell_type": "code",
   "execution_count": 11,
   "metadata": {},
   "outputs": [
    {
     "data": {
      "text/html": [
       "<div>\n",
       "<style scoped>\n",
       "    .dataframe tbody tr th:only-of-type {\n",
       "        vertical-align: middle;\n",
       "    }\n",
       "\n",
       "    .dataframe tbody tr th {\n",
       "        vertical-align: top;\n",
       "    }\n",
       "\n",
       "    .dataframe thead th {\n",
       "        text-align: right;\n",
       "    }\n",
       "</style>\n",
       "<table border=\"1\" class=\"dataframe\">\n",
       "  <thead>\n",
       "    <tr style=\"text-align: right;\">\n",
       "      <th></th>\n",
       "      <th>longtitude</th>\n",
       "      <th>latitude</th>\n",
       "      <th>geometry</th>\n",
       "      <th>index_right</th>\n",
       "      <th>OBJECTID</th>\n",
       "      <th>ZONEDIST</th>\n",
       "      <th>Shape__Area</th>\n",
       "      <th>Shape__Length</th>\n",
       "    </tr>\n",
       "  </thead>\n",
       "  <tbody>\n",
       "    <tr>\n",
       "      <th>3</th>\n",
       "      <td>-73.978119</td>\n",
       "      <td>40.763451</td>\n",
       "      <td>POINT (-73.97811899999999 40.763451)</td>\n",
       "      <td>1984</td>\n",
       "      <td>1985</td>\n",
       "      <td>C6-6</td>\n",
       "      <td>0.000004</td>\n",
       "      <td>0.008605</td>\n",
       "    </tr>\n",
       "    <tr>\n",
       "      <th>41</th>\n",
       "      <td>-73.977287</td>\n",
       "      <td>40.763737</td>\n",
       "      <td>POINT (-73.977287 40.763737)</td>\n",
       "      <td>1984</td>\n",
       "      <td>1985</td>\n",
       "      <td>C6-6</td>\n",
       "      <td>0.000004</td>\n",
       "      <td>0.008605</td>\n",
       "    </tr>\n",
       "    <tr>\n",
       "      <th>94</th>\n",
       "      <td>-73.978119</td>\n",
       "      <td>40.762280</td>\n",
       "      <td>POINT (-73.97811899999999 40.76228)</td>\n",
       "      <td>1984</td>\n",
       "      <td>1985</td>\n",
       "      <td>C6-6</td>\n",
       "      <td>0.000004</td>\n",
       "      <td>0.008605</td>\n",
       "    </tr>\n",
       "    <tr>\n",
       "      <th>113</th>\n",
       "      <td>-73.978401</td>\n",
       "      <td>40.762333</td>\n",
       "      <td>POINT (-73.97840100000001 40.762333)</td>\n",
       "      <td>1984</td>\n",
       "      <td>1985</td>\n",
       "      <td>C6-6</td>\n",
       "      <td>0.000004</td>\n",
       "      <td>0.008605</td>\n",
       "    </tr>\n",
       "    <tr>\n",
       "      <th>414</th>\n",
       "      <td>-73.978195</td>\n",
       "      <td>40.762993</td>\n",
       "      <td>POINT (-73.978195 40.762993)</td>\n",
       "      <td>1984</td>\n",
       "      <td>1985</td>\n",
       "      <td>C6-6</td>\n",
       "      <td>0.000004</td>\n",
       "      <td>0.008605</td>\n",
       "    </tr>\n",
       "  </tbody>\n",
       "</table>\n",
       "</div>"
      ],
      "text/plain": [
       "     longtitude   latitude                              geometry  index_right  \\\n",
       "3    -73.978119  40.763451  POINT (-73.97811899999999 40.763451)         1984   \n",
       "41   -73.977287  40.763737          POINT (-73.977287 40.763737)         1984   \n",
       "94   -73.978119  40.762280   POINT (-73.97811899999999 40.76228)         1984   \n",
       "113  -73.978401  40.762333  POINT (-73.97840100000001 40.762333)         1984   \n",
       "414  -73.978195  40.762993          POINT (-73.978195 40.762993)         1984   \n",
       "\n",
       "     OBJECTID ZONEDIST  Shape__Area  Shape__Length  \n",
       "3        1985     C6-6     0.000004       0.008605  \n",
       "41       1985     C6-6     0.000004       0.008605  \n",
       "94       1985     C6-6     0.000004       0.008605  \n",
       "113      1985     C6-6     0.000004       0.008605  \n",
       "414      1985     C6-6     0.000004       0.008605  "
      ]
     },
     "execution_count": 11,
     "metadata": {},
     "output_type": "execute_result"
    }
   ],
   "source": [
    "locs_in_NYC = gpd.sjoin(gloc,nyc, how=\"inner\", op=\"intersects\")\n",
    "locs_in_NYC.head()"
   ]
  },
  {
   "cell_type": "code",
   "execution_count": 12,
   "metadata": {},
   "outputs": [
    {
     "data": {
      "text/plain": [
       "Index([u'C6-1', u'M1-6', u'R6', u'R6B', u'M1-5A'], dtype='object', name=u'ZONEDIST')"
      ]
     },
     "execution_count": 12,
     "metadata": {},
     "output_type": "execute_result"
    }
   ],
   "source": [
    "locs_frequency = locs_in_NYC.groupby(by=['ZONEDIST']).count()\n",
    "locs_frequency.sort_values(by=['geometry'],ascending=False).head(5).index"
   ]
  },
  {
   "cell_type": "markdown",
   "metadata": {},
   "source": [
    "# h. Which trip has the highest standard deviation of travel time?"
   ]
  },
  {
   "cell_type": "code",
   "execution_count": 35,
   "metadata": {},
   "outputs": [
    {
     "data": {
      "text/plain": [
       "count    24974.000000\n",
       "mean        11.748257\n",
       "std          8.189754\n",
       "min          0.001000\n",
       "25%          6.001000\n",
       "50%         10.001000\n",
       "75%         15.001000\n",
       "max        125.001000\n",
       "Name: duration, dtype: float64"
      ]
     },
     "execution_count": 35,
     "metadata": {},
     "output_type": "execute_result"
    },
    {
     "data": {
      "image/png": "[encoded data removed]",
      "text/plain": [
       "<matplotlib.figure.Figure at 0x1854b748>"
      ]
     },
     "metadata": {},
     "output_type": "display_data"
    }
   ],
   "source": [
    "#caculate the duration for each trip\n",
    "\n",
    "trip_duration= full_tripdata.iloc[:,0:7] \n",
    "trip_duration[\" pickup_datetime_x\"] = pd.to_datetime(trip_duration[\" pickup_datetime_x\"])\n",
    "trip_duration[\" dropoff_datetime\"] = pd.to_datetime(trip_duration[\" dropoff_datetime\"])\n",
    "\n",
    "trip_duration[\"duration\"] = (trip_duration[' dropoff_datetime']- trip_duration[' pickup_datetime_x']).astype('timedelta64[m]') + 0.001\n",
    "#trip_duration[\"duration\"] = trip_duration.apply(lambda x: if not np.isnan(x['mangoes price']) else x['diff'], axis=1)\n",
    "\n",
    "#trip_duration[\"duration\"].plot.hist(bins=50)\n",
    "trip_duration[\"duration\"].plot.kde()\n",
    "\n",
    "trip_duration[\"duration\"].describe()\n",
    "#trip_duration[\"STD\"] = pd.rolling_std(trip_duration[\"duration\"])\n",
    "\n",
    "#trip_duration.head()"
   ]
  },
  {
   "cell_type": "code",
   "execution_count": 41,
   "metadata": {},
   "outputs": [
    {
     "data": {
      "text/plain": [
       "count    24974.000000\n",
       "mean         2.214166\n",
       "std          0.875056\n",
       "min         -6.907755\n",
       "25%          1.791926\n",
       "50%          2.302685\n",
       "75%          2.708117\n",
       "max          4.828322\n",
       "Name: logduration, dtype: float64"
      ]
     },
     "execution_count": 41,
     "metadata": {},
     "output_type": "execute_result"
    },
    {
     "data": {
      "image/png": "[encoded data removed]",
      "text/plain": [
       "<matplotlib.figure.Figure at 0x14839320>"
      ]
     },
     "metadata": {},
     "output_type": "display_data"
    }
   ],
   "source": [
    "#the above caculated trip duration are not exactly followoing the normal distribution,\n",
    "#so, I applyed the natural logarithm to transfrom the data to normal distribution \n",
    "# https://datascience.stackexchange.com/questions/14216/transform-a-skewed-distribution-into-a-gaussian-distribution\n",
    "\n",
    "\n",
    "#import until\n",
    "import numpy as np\n",
    "\n",
    "trip_duration[\"logduration\"] = np.log(trip_duration['duration'])\n",
    "\n",
    "#trip_duration[\"logduration\"].plot.hist(bins=50)\n",
    "trip_duration[\"logduration\"].plot.kde()\n",
    "\n",
    "\n",
    "trip_duration[\"logduration\"].describe()"
   ]
  },
  {
   "cell_type": "code",
   "execution_count": 51,
   "metadata": {},
   "outputs": [
    {
     "name": "stdout",
     "output_type": "stream",
     "text": [
      "                             medallion                      hack_license  \\\n",
      "62    69D959302A72045B426E936BB0BB2723  5EE1CD0A797F45CA403AD5D4AB224ED1   \n",
      "748   1431E056A35F588107E3BC378BB6B350  1BF3CE47ECE4C2B61C36990EDAEE7CC2   \n",
      "749   1431E056A35F588107E3BC378BB6B350  1BF3CE47ECE4C2B61C36990EDAEE7CC2   \n",
      "2622  CDC40A1F194AA8D4CA9EF331A266E1FA  266352E176E098D2E05B75758896E874   \n",
      "2714  9B375E774BDAA8CC45CE6F3BF072C1E2  5D4D3F068DD946BBA080CCE7F72D34DA   \n",
      "\n",
      "      vendor_id   rate_code  store_and_fwd_flag   pickup_datetime_x  \\\n",
      "62          CMT           1                   N 2013-04-05 06:21:22   \n",
      "748         VTS           5                 NaN 2013-04-12 20:16:00   \n",
      "749         VTS           5                 NaN 2013-04-12 20:16:00   \n",
      "2622        VTS           1                 NaN 2013-04-12 23:31:00   \n",
      "2714        VTS           1                 NaN 2013-04-12 21:29:00   \n",
      "\n",
      "        dropoff_datetime  duration  logduration  \n",
      "62   2013-04-05 06:21:23     0.001    -6.907755  \n",
      "748  2013-04-12 20:16:00     0.001    -6.907755  \n",
      "749  2013-04-12 20:16:00     0.001    -6.907755  \n",
      "2622 2013-04-12 23:31:00     0.001    -6.907755  \n",
      "2714 2013-04-12 21:29:00     0.001    -6.907755  \n"
     ]
    },
    {
     "data": {
      "text/html": [
       "<div>\n",
       "<style scoped>\n",
       "    .dataframe tbody tr th:only-of-type {\n",
       "        vertical-align: middle;\n",
       "    }\n",
       "\n",
       "    .dataframe tbody tr th {\n",
       "        vertical-align: top;\n",
       "    }\n",
       "\n",
       "    .dataframe thead th {\n",
       "        text-align: right;\n",
       "    }\n",
       "</style>\n",
       "<table border=\"1\" class=\"dataframe\">\n",
       "  <thead>\n",
       "    <tr style=\"text-align: right;\">\n",
       "      <th></th>\n",
       "      <th>rate_code</th>\n",
       "      <th>duration</th>\n",
       "      <th>logduration</th>\n",
       "    </tr>\n",
       "  </thead>\n",
       "  <tbody>\n",
       "    <tr>\n",
       "      <th>count</th>\n",
       "      <td>86.000000</td>\n",
       "      <td>8.600000e+01</td>\n",
       "      <td>8.600000e+01</td>\n",
       "    </tr>\n",
       "    <tr>\n",
       "      <th>mean</th>\n",
       "      <td>2.790698</td>\n",
       "      <td>1.000000e-03</td>\n",
       "      <td>-6.907755e+00</td>\n",
       "    </tr>\n",
       "    <tr>\n",
       "      <th>std</th>\n",
       "      <td>1.947042</td>\n",
       "      <td>6.543367e-19</td>\n",
       "      <td>1.518759e-14</td>\n",
       "    </tr>\n",
       "    <tr>\n",
       "      <th>min</th>\n",
       "      <td>1.000000</td>\n",
       "      <td>1.000000e-03</td>\n",
       "      <td>-6.907755e+00</td>\n",
       "    </tr>\n",
       "    <tr>\n",
       "      <th>25%</th>\n",
       "      <td>1.000000</td>\n",
       "      <td>1.000000e-03</td>\n",
       "      <td>-6.907755e+00</td>\n",
       "    </tr>\n",
       "    <tr>\n",
       "      <th>50%</th>\n",
       "      <td>1.500000</td>\n",
       "      <td>1.000000e-03</td>\n",
       "      <td>-6.907755e+00</td>\n",
       "    </tr>\n",
       "    <tr>\n",
       "      <th>75%</th>\n",
       "      <td>5.000000</td>\n",
       "      <td>1.000000e-03</td>\n",
       "      <td>-6.907755e+00</td>\n",
       "    </tr>\n",
       "    <tr>\n",
       "      <th>max</th>\n",
       "      <td>5.000000</td>\n",
       "      <td>1.000000e-03</td>\n",
       "      <td>-6.907755e+00</td>\n",
       "    </tr>\n",
       "  </tbody>\n",
       "</table>\n",
       "</div>"
      ],
      "text/plain": [
       "        rate_code      duration   logduration\n",
       "count   86.000000  8.600000e+01  8.600000e+01\n",
       "mean     2.790698  1.000000e-03 -6.907755e+00\n",
       "std      1.947042  6.543367e-19  1.518759e-14\n",
       "min      1.000000  1.000000e-03 -6.907755e+00\n",
       "25%      1.000000  1.000000e-03 -6.907755e+00\n",
       "50%      1.500000  1.000000e-03 -6.907755e+00\n",
       "75%      5.000000  1.000000e-03 -6.907755e+00\n",
       "max      5.000000  1.000000e-03 -6.907755e+00"
      ]
     },
     "execution_count": 51,
     "metadata": {},
     "output_type": "execute_result"
    }
   ],
   "source": [
    "# the highest stardard deviation trip are those data away from the mean by 3 STD\n",
    "# http://libweb.surrey.ac.uk/library/skills/Number%20Skills%20Leicester/page_17.htm\n",
    "trip_duration[\"logduration\"].describe()\n",
    "mean = trip_duration[\"logduration\"].mean()\n",
    "std = trip_duration[\"logduration\"].std()\n",
    "\n",
    "lowerbound = mean - 3 * std\n",
    "upperbound = mean + 3 * std\n",
    "\n",
    "#print lowerbound,upperbound\n",
    "\n",
    "trip_duration.describe()\n",
    "\n",
    "out3STDTrips = trip_duration.copy()\n",
    "out3STDTrips = out3STDTrips.loc[(out3STDTrips['logduration'] < lowerbound) | (out3STDTrips['logduration'] > upperbound)]\n",
    "\n",
    "print out3STDTrips.head()\n",
    "out3STDTrips.describe()\n"
   ]
  },
  {
   "cell_type": "code",
   "execution_count": 14,
   "metadata": {},
   "outputs": [
    {
     "data": {
      "text/plain": [
       "u'http://geojson.io/#data=data:application/json,%7B%22type%22%3A%20%22FeatureCollection%22%2C%20%22features%22%3A%20%5B%7B%22geometry%22%3A%20%7B%22type%22%3A%20%22FeatureCollection%22%2C%20%22features%22%3A%20%5B%7B%22geometry%22%3A%20%7B%22type%22%3A%20%22Point%22%2C%20%22coordinates%22%3A%20%5B-73.97811899999999%2C%2040.763451%5D%7D%2C%20%22type%22%3A%20%22Feature%22%2C%20%22id%22%3A%20%223%22%2C%20%22bbox%22%3A%20%5B-73.97811899999999%2C%2040.763451%2C%20-73.97811899999999%2C%2040.763451%5D%2C%20%22properties%22%3A%20%7B%22index_right%22%3A%201984%2C%20%22Shape__Length%22%3A%200.00860540470068698%2C%20%22OBJECTID%22%3A%201985%2C%20%22ZONEDIST%22%3A%20%22C6-6%22%2C%20%22longtitude%22%3A%20-73.97811899999999%2C%20%22Shape__Area%22%3A%204.10842657307098e-06%2C%20%22latitude%22%3A%2040.763451%7D%7D%5D%2C%20%22bbox%22%3A%20%5B-73.97811899999999%2C%2040.763451%2C%20-73.97811899999999%2C%2040.763451%5D%7D%2C%20%22type%22%3A%20%22Feature%22%7D%5D%7D'"
      ]
     },
     "execution_count": 14,
     "metadata": {},
     "output_type": "execute_result"
    }
   ],
   "source": [
    "import geojsonio\n",
    "geojsonio.display(locs_in_NYC.head(1))"
   ]
  },
  {
   "cell_type": "code",
   "execution_count": 15,
   "metadata": {},
   "outputs": [
    {
     "ename": "SyntaxError",
     "evalue": "invalid syntax (<ipython-input-15-5e00db64f69e>, line 1)",
     "output_type": "error",
     "traceback": [
      "\u001b[1;36m  File \u001b[1;32m\"<ipython-input-15-5e00db64f69e>\"\u001b[1;36m, line \u001b[1;32m1\u001b[0m\n\u001b[1;33m    pickupLocations = full_tripdata.iloc[]\u001b[0m\n\u001b[1;37m                                         ^\u001b[0m\n\u001b[1;31mSyntaxError\u001b[0m\u001b[1;31m:\u001b[0m invalid syntax\n"
     ]
    }
   ],
   "source": [
    "pickupLocations = full_tripdata.iloc[]"
   ]
  },
  {
   "cell_type": "code",
   "execution_count": null,
   "metadata": {},
   "outputs": [],
   "source": [
    "from scipy.stats import norm\n",
    "print norm.cdf(numberofpassanagers,mean,std)"
   ]
  },
  {
   "cell_type": "code",
   "execution_count": null,
   "metadata": {},
   "outputs": [],
   "source": [
    "numberofpassanagers.plot.density()"
   ]
  },
  {
   "cell_type": "code",
   "execution_count": null,
   "metadata": {},
   "outputs": [],
   "source": [
    "payment_types = fares.iloc[:,4]\n",
    "\n",
    "payment_types.hist()"
   ]
  },
  {
   "cell_type": "code",
   "execution_count": null,
   "metadata": {},
   "outputs": [],
   "source": [
    "payment_types.sum()"
   ]
  },
  {
   "cell_type": "code",
   "execution_count": null,
   "metadata": {},
   "outputs": [],
   "source": [
    "print payment_types"
   ]
  }
 ],
 "metadata": {
  "kernelspec": {
   "display_name": "Python 2",
   "language": "python",
   "name": "python2"
  },
  "language_info": {
   "codemirror_mode": {
    "name": "ipython",
    "version": 2
   },
   "file_extension": ".py",
   "mimetype": "text/x-python",
   "name": "python",
   "nbconvert_exporter": "python",
   "pygments_lexer": "ipython2",
   "version": "2.7.14"
  }
 },
 "nbformat": 4,
 "nbformat_minor": 2
}
