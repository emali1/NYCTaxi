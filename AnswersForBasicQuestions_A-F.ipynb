{
 "cells": [
  {
   "cell_type": "code",
   "execution_count": 1,
   "metadata": {},
   "outputs": [],
   "source": [
    "%matplotlib inline\n",
    "import matplotlib.pyplot as plt\n",
    "import seaborn as sns\n",
    "import numpy as np"
   ]
  },
  {
   "cell_type": "code",
   "execution_count": 2,
   "metadata": {},
   "outputs": [
    {
     "name": "stderr",
     "output_type": "stream",
     "text": [
      "/home/ma_emali/anaconda2/envs/tensorflow/lib/python2.7/site-packages/IPython/core/interactiveshell.py:2718: DtypeWarning: Columns (4) have mixed types. Specify dtype option on import or set low_memory=False.\n",
      "  interactivity=interactivity, compiler=compiler, result=result)\n"
     ]
    }
   ],
   "source": [
    "# read data\n",
    "import pandas as pd\n",
    "\n",
    "trip_data_file = \"data/trip_data_4.csv\"\n",
    "trip_fare_file = \"data/trip_fare_4.csv\"\n",
    "\n",
    "trips = pd.read_csv(trip_data_file)\n",
    "fares = pd.read_csv(trip_fare_file)"
   ]
  },
  {
   "cell_type": "markdown",
   "metadata": {},
   "source": [
    "# Merge the Trip and Fare data together "
   ]
  },
  {
   "cell_type": "code",
   "execution_count": 3,
   "metadata": {},
   "outputs": [],
   "source": [
    "full_tripdata = pd.merge(left=trips,right=fares, how='left', left_on=['medallion',' hack_license',' vendor_id',' pickup_datetime'], right_on=['medallion',' hack_license',' vendor_id',' pickup_datetime'])\n",
    "full_tripdata = full_tripdata.drop_duplicates()"
   ]
  },
  {
   "cell_type": "code",
   "execution_count": 4,
   "metadata": {},
   "outputs": [
    {
     "data": {
      "text/html": [
       "<div>\n",
       "<style scoped>\n",
       "    .dataframe tbody tr th:only-of-type {\n",
       "        vertical-align: middle;\n",
       "    }\n",
       "\n",
       "    .dataframe tbody tr th {\n",
       "        vertical-align: top;\n",
       "    }\n",
       "\n",
       "    .dataframe thead th {\n",
       "        text-align: right;\n",
       "    }\n",
       "</style>\n",
       "<table border=\"1\" class=\"dataframe\">\n",
       "  <thead>\n",
       "    <tr style=\"text-align: right;\">\n",
       "      <th></th>\n",
       "      <th>rate_code</th>\n",
       "      <th>passenger_count</th>\n",
       "      <th>trip_time_in_secs</th>\n",
       "      <th>trip_distance</th>\n",
       "      <th>pickup_longitude</th>\n",
       "      <th>pickup_latitude</th>\n",
       "      <th>dropoff_longitude</th>\n",
       "      <th>dropoff_latitude</th>\n",
       "      <th>fare_amount</th>\n",
       "      <th>surcharge</th>\n",
       "      <th>mta_tax</th>\n",
       "      <th>tip_amount</th>\n",
       "      <th>tolls_amount</th>\n",
       "      <th>total_amount</th>\n",
       "    </tr>\n",
       "  </thead>\n",
       "  <tbody>\n",
       "    <tr>\n",
       "      <th>count</th>\n",
       "      <td>1.510165e+07</td>\n",
       "      <td>1.510165e+07</td>\n",
       "      <td>1.510165e+07</td>\n",
       "      <td>1.510165e+07</td>\n",
       "      <td>1.510165e+07</td>\n",
       "      <td>1.510165e+07</td>\n",
       "      <td>1.510150e+07</td>\n",
       "      <td>1.510150e+07</td>\n",
       "      <td>1.510165e+07</td>\n",
       "      <td>1.510165e+07</td>\n",
       "      <td>1.510165e+07</td>\n",
       "      <td>1.510165e+07</td>\n",
       "      <td>1.510165e+07</td>\n",
       "      <td>1.510165e+07</td>\n",
       "    </tr>\n",
       "    <tr>\n",
       "      <th>mean</th>\n",
       "      <td>1.033286e+00</td>\n",
       "      <td>1.709036e+00</td>\n",
       "      <td>7.466120e+02</td>\n",
       "      <td>2.863119e+00</td>\n",
       "      <td>-7.273268e+01</td>\n",
       "      <td>4.006773e+01</td>\n",
       "      <td>-7.269042e+01</td>\n",
       "      <td>4.004676e+01</td>\n",
       "      <td>1.227533e+01</td>\n",
       "      <td>3.266793e-01</td>\n",
       "      <td>4.983180e-01</td>\n",
       "      <td>1.345724e+00</td>\n",
       "      <td>2.447328e-01</td>\n",
       "      <td>1.469078e+01</td>\n",
       "    </tr>\n",
       "    <tr>\n",
       "      <th>std</th>\n",
       "      <td>3.452104e-01</td>\n",
       "      <td>1.385628e+00</td>\n",
       "      <td>5.505049e+02</td>\n",
       "      <td>3.344897e+00</td>\n",
       "      <td>9.737401e+00</td>\n",
       "      <td>6.959056e+00</td>\n",
       "      <td>9.866365e+00</td>\n",
       "      <td>6.980866e+00</td>\n",
       "      <td>9.962090e+00</td>\n",
       "      <td>3.673142e-01</td>\n",
       "      <td>2.895120e-02</td>\n",
       "      <td>2.132233e+00</td>\n",
       "      <td>1.186223e+00</td>\n",
       "      <td>1.194376e+01</td>\n",
       "    </tr>\n",
       "    <tr>\n",
       "      <th>min</th>\n",
       "      <td>0.000000e+00</td>\n",
       "      <td>0.000000e+00</td>\n",
       "      <td>0.000000e+00</td>\n",
       "      <td>0.000000e+00</td>\n",
       "      <td>-2.323420e+03</td>\n",
       "      <td>-3.481141e+03</td>\n",
       "      <td>-2.771290e+03</td>\n",
       "      <td>-3.547898e+03</td>\n",
       "      <td>2.500000e+00</td>\n",
       "      <td>0.000000e+00</td>\n",
       "      <td>0.000000e+00</td>\n",
       "      <td>0.000000e+00</td>\n",
       "      <td>0.000000e+00</td>\n",
       "      <td>2.500000e+00</td>\n",
       "    </tr>\n",
       "    <tr>\n",
       "      <th>25%</th>\n",
       "      <td>1.000000e+00</td>\n",
       "      <td>1.000000e+00</td>\n",
       "      <td>3.600000e+02</td>\n",
       "      <td>1.040000e+00</td>\n",
       "      <td>-7.399213e+01</td>\n",
       "      <td>4.073512e+01</td>\n",
       "      <td>-7.399143e+01</td>\n",
       "      <td>4.073417e+01</td>\n",
       "      <td>6.500000e+00</td>\n",
       "      <td>0.000000e+00</td>\n",
       "      <td>5.000000e-01</td>\n",
       "      <td>0.000000e+00</td>\n",
       "      <td>0.000000e+00</td>\n",
       "      <td>8.000000e+00</td>\n",
       "    </tr>\n",
       "    <tr>\n",
       "      <th>50%</th>\n",
       "      <td>1.000000e+00</td>\n",
       "      <td>1.000000e+00</td>\n",
       "      <td>6.000000e+02</td>\n",
       "      <td>1.780000e+00</td>\n",
       "      <td>-7.398172e+01</td>\n",
       "      <td>4.075281e+01</td>\n",
       "      <td>-7.398006e+01</td>\n",
       "      <td>4.075333e+01</td>\n",
       "      <td>9.500000e+00</td>\n",
       "      <td>0.000000e+00</td>\n",
       "      <td>5.000000e-01</td>\n",
       "      <td>1.000000e+00</td>\n",
       "      <td>0.000000e+00</td>\n",
       "      <td>1.100000e+01</td>\n",
       "    </tr>\n",
       "    <tr>\n",
       "      <th>75%</th>\n",
       "      <td>1.000000e+00</td>\n",
       "      <td>2.000000e+00</td>\n",
       "      <td>9.600000e+02</td>\n",
       "      <td>3.200000e+00</td>\n",
       "      <td>-7.396676e+01</td>\n",
       "      <td>4.076754e+01</td>\n",
       "      <td>-7.396362e+01</td>\n",
       "      <td>4.076832e+01</td>\n",
       "      <td>1.400000e+01</td>\n",
       "      <td>5.000000e-01</td>\n",
       "      <td>5.000000e-01</td>\n",
       "      <td>2.000000e+00</td>\n",
       "      <td>0.000000e+00</td>\n",
       "      <td>1.650000e+01</td>\n",
       "    </tr>\n",
       "    <tr>\n",
       "      <th>max</th>\n",
       "      <td>2.100000e+02</td>\n",
       "      <td>9.000000e+00</td>\n",
       "      <td>1.080000e+04</td>\n",
       "      <td>1.000000e+02</td>\n",
       "      <td>2.228722e+03</td>\n",
       "      <td>3.210393e+03</td>\n",
       "      <td>2.228746e+03</td>\n",
       "      <td>3.577126e+03</td>\n",
       "      <td>5.000000e+02</td>\n",
       "      <td>1.500000e+01</td>\n",
       "      <td>5.000000e-01</td>\n",
       "      <td>2.000000e+02</td>\n",
       "      <td>2.000000e+01</td>\n",
       "      <td>6.281000e+02</td>\n",
       "    </tr>\n",
       "  </tbody>\n",
       "</table>\n",
       "</div>"
      ],
      "text/plain": [
       "          rate_code   passenger_count   trip_time_in_secs   trip_distance  \\\n",
       "count  1.510165e+07      1.510165e+07        1.510165e+07    1.510165e+07   \n",
       "mean   1.033286e+00      1.709036e+00        7.466120e+02    2.863119e+00   \n",
       "std    3.452104e-01      1.385628e+00        5.505049e+02    3.344897e+00   \n",
       "min    0.000000e+00      0.000000e+00        0.000000e+00    0.000000e+00   \n",
       "25%    1.000000e+00      1.000000e+00        3.600000e+02    1.040000e+00   \n",
       "50%    1.000000e+00      1.000000e+00        6.000000e+02    1.780000e+00   \n",
       "75%    1.000000e+00      2.000000e+00        9.600000e+02    3.200000e+00   \n",
       "max    2.100000e+02      9.000000e+00        1.080000e+04    1.000000e+02   \n",
       "\n",
       "        pickup_longitude   pickup_latitude   dropoff_longitude  \\\n",
       "count       1.510165e+07      1.510165e+07        1.510150e+07   \n",
       "mean       -7.273268e+01      4.006773e+01       -7.269042e+01   \n",
       "std         9.737401e+00      6.959056e+00        9.866365e+00   \n",
       "min        -2.323420e+03     -3.481141e+03       -2.771290e+03   \n",
       "25%        -7.399213e+01      4.073512e+01       -7.399143e+01   \n",
       "50%        -7.398172e+01      4.075281e+01       -7.398006e+01   \n",
       "75%        -7.396676e+01      4.076754e+01       -7.396362e+01   \n",
       "max         2.228722e+03      3.210393e+03        2.228746e+03   \n",
       "\n",
       "        dropoff_latitude   fare_amount     surcharge       mta_tax  \\\n",
       "count       1.510150e+07  1.510165e+07  1.510165e+07  1.510165e+07   \n",
       "mean        4.004676e+01  1.227533e+01  3.266793e-01  4.983180e-01   \n",
       "std         6.980866e+00  9.962090e+00  3.673142e-01  2.895120e-02   \n",
       "min        -3.547898e+03  2.500000e+00  0.000000e+00  0.000000e+00   \n",
       "25%         4.073417e+01  6.500000e+00  0.000000e+00  5.000000e-01   \n",
       "50%         4.075333e+01  9.500000e+00  0.000000e+00  5.000000e-01   \n",
       "75%         4.076832e+01  1.400000e+01  5.000000e-01  5.000000e-01   \n",
       "max         3.577126e+03  5.000000e+02  1.500000e+01  5.000000e-01   \n",
       "\n",
       "         tip_amount   tolls_amount   total_amount  \n",
       "count  1.510165e+07   1.510165e+07   1.510165e+07  \n",
       "mean   1.345724e+00   2.447328e-01   1.469078e+01  \n",
       "std    2.132233e+00   1.186223e+00   1.194376e+01  \n",
       "min    0.000000e+00   0.000000e+00   2.500000e+00  \n",
       "25%    0.000000e+00   0.000000e+00   8.000000e+00  \n",
       "50%    1.000000e+00   0.000000e+00   1.100000e+01  \n",
       "75%    2.000000e+00   0.000000e+00   1.650000e+01  \n",
       "max    2.000000e+02   2.000000e+01   6.281000e+02  "
      ]
     },
     "execution_count": 4,
     "metadata": {},
     "output_type": "execute_result"
    }
   ],
   "source": [
    "full_tripdata.describe()"
   ]
  },
  {
   "cell_type": "markdown",
   "metadata": {},
   "source": [
    "# What is the distribution of number of passengers per trip?"
   ]
  },
  {
   "cell_type": "code",
   "execution_count": 5,
   "metadata": {},
   "outputs": [
    {
     "data": {
      "text/plain": [
       "<matplotlib.axes._subplots.AxesSubplot at 0x7f12c85ac250>"
      ]
     },
     "execution_count": 5,
     "metadata": {},
     "output_type": "execute_result"
    },
    {
     "data": {
      "image/png": "[encoded data removed]",
      "text/plain": [
       "<Figure size 432x288 with 1 Axes>"
      ]
     },
     "metadata": {},
     "output_type": "display_data"
    }
   ],
   "source": [
    "passengers = pd.crosstab(index=full_tripdata[\" passenger_count\"].astype(\"category\"),columns=\"Frequency Probability\",normalize='columns')\n",
    "passengers.plot.bar()"
   ]
  },
  {
   "cell_type": "markdown",
   "metadata": {},
   "source": [
    "# b. What is the distribution of payment_type?"
   ]
  },
  {
   "cell_type": "code",
   "execution_count": 6,
   "metadata": {},
   "outputs": [
    {
     "data": {
      "text/plain": [
       "<matplotlib.axes._subplots.AxesSubplot at 0x7f12b2aff190>"
      ]
     },
     "execution_count": 6,
     "metadata": {},
     "output_type": "execute_result"
    },
    {
     "data": {
      "image/png": "[encoded data removed]",
      "text/plain": [
       "<Figure size 432x288 with 1 Axes>"
      ]
     },
     "metadata": {},
     "output_type": "display_data"
    }
   ],
   "source": [
    "payment_types = pd.crosstab(index=full_tripdata[\" payment_type\"].astype(\"category\"),columns=\"Frequency Probability\",normalize='columns')\n",
    "payment_types.plot.bar() "
   ]
  },
  {
   "cell_type": "markdown",
   "metadata": {},
   "source": [
    "# c. What is the distribution of fare amount?"
   ]
  },
  {
   "cell_type": "code",
   "execution_count": 7,
   "metadata": {},
   "outputs": [
    {
     "data": {
      "text/html": [
       "<div>\n",
       "<style scoped>\n",
       "    .dataframe tbody tr th:only-of-type {\n",
       "        vertical-align: middle;\n",
       "    }\n",
       "\n",
       "    .dataframe tbody tr th {\n",
       "        vertical-align: top;\n",
       "    }\n",
       "\n",
       "    .dataframe thead th {\n",
       "        text-align: right;\n",
       "    }\n",
       "</style>\n",
       "<table border=\"1\" class=\"dataframe\">\n",
       "  <thead>\n",
       "    <tr style=\"text-align: right;\">\n",
       "      <th></th>\n",
       "      <th>fare_amount</th>\n",
       "    </tr>\n",
       "  </thead>\n",
       "  <tbody>\n",
       "    <tr>\n",
       "      <th>count</th>\n",
       "      <td>1.510165e+07</td>\n",
       "    </tr>\n",
       "    <tr>\n",
       "      <th>mean</th>\n",
       "      <td>1.227533e+01</td>\n",
       "    </tr>\n",
       "    <tr>\n",
       "      <th>std</th>\n",
       "      <td>9.962090e+00</td>\n",
       "    </tr>\n",
       "    <tr>\n",
       "      <th>min</th>\n",
       "      <td>2.500000e+00</td>\n",
       "    </tr>\n",
       "    <tr>\n",
       "      <th>25%</th>\n",
       "      <td>6.500000e+00</td>\n",
       "    </tr>\n",
       "    <tr>\n",
       "      <th>50%</th>\n",
       "      <td>9.500000e+00</td>\n",
       "    </tr>\n",
       "    <tr>\n",
       "      <th>75%</th>\n",
       "      <td>1.400000e+01</td>\n",
       "    </tr>\n",
       "    <tr>\n",
       "      <th>max</th>\n",
       "      <td>5.000000e+02</td>\n",
       "    </tr>\n",
       "  </tbody>\n",
       "</table>\n",
       "</div>"
      ],
      "text/plain": [
       "        fare_amount\n",
       "count  1.510165e+07\n",
       "mean   1.227533e+01\n",
       "std    9.962090e+00\n",
       "min    2.500000e+00\n",
       "25%    6.500000e+00\n",
       "50%    9.500000e+00\n",
       "75%    1.400000e+01\n",
       "max    5.000000e+02"
      ]
     },
     "execution_count": 7,
     "metadata": {},
     "output_type": "execute_result"
    }
   ],
   "source": [
    "full_tripdata[[\" fare_amount\"]].describe()"
   ]
  },
  {
   "cell_type": "code",
   "execution_count": 8,
   "metadata": {},
   "outputs": [
    {
     "data": {
      "text/plain": [
       "<matplotlib.axes._subplots.AxesSubplot at 0x7f12b2a85150>"
      ]
     },
     "execution_count": 8,
     "metadata": {},
     "output_type": "execute_result"
    },
    {
     "data": {
      "image/png": "[encoded data removed]",
      "text/plain": [
       "<Figure size 432x288 with 1 Axes>"
      ]
     },
     "metadata": {},
     "output_type": "display_data"
    }
   ],
   "source": [
    "fare_amount = full_tripdata.iloc[:,15]\n",
    "fare_amount.plot.hist(bins=50,range=(0,100))"
   ]
  },
  {
   "cell_type": "code",
   "execution_count": 9,
   "metadata": {},
   "outputs": [
    {
     "name": "stderr",
     "output_type": "stream",
     "text": [
      "/home/ma_emali/anaconda2/envs/tensorflow/lib/python2.7/site-packages/matplotlib/axes/_axes.py:6462: UserWarning: The 'normed' kwarg is deprecated, and has been replaced by the 'density' kwarg.\n",
      "  warnings.warn(\"The 'normed' kwarg is deprecated, and has been \"\n"
     ]
    },
    {
     "data": {
      "text/plain": [
       "<matplotlib.axes._subplots.AxesSubplot at 0x7f12b295b850>"
      ]
     },
     "execution_count": 9,
     "metadata": {},
     "output_type": "execute_result"
    },
    {
     "data": {
      "image/png": "[encoded data removed]",
      "text/plain": [
       "<Figure size 432x288 with 1 Axes>"
      ]
     },
     "metadata": {},
     "output_type": "display_data"
    }
   ],
   "source": [
    "sns.distplot(full_tripdata[[\" fare_amount\"]],axlabel=\"Fare Amount\")"
   ]
  },
  {
   "cell_type": "markdown",
   "metadata": {},
   "source": [
    "# d. What is the distribution of tip amount?"
   ]
  },
  {
   "cell_type": "code",
   "execution_count": 10,
   "metadata": {},
   "outputs": [
    {
     "data": {
      "text/plain": [
       "<matplotlib.axes._subplots.AxesSubplot at 0x7f12f752cc10>"
      ]
     },
     "execution_count": 10,
     "metadata": {},
     "output_type": "execute_result"
    },
    {
     "data": {
      "image/png": "[encoded data removed]",
      "text/plain": [
       "<Figure size 432x288 with 1 Axes>"
      ]
     },
     "metadata": {},
     "output_type": "display_data"
    }
   ],
   "source": [
    "tips_amount = full_tripdata.iloc[:,18]\n",
    "tips_amount.plot.hist(bins=20,range=(0,10))\n"
   ]
  },
  {
   "cell_type": "code",
   "execution_count": 11,
   "metadata": {},
   "outputs": [
    {
     "data": {
      "text/html": [
       "<div>\n",
       "<style scoped>\n",
       "    .dataframe tbody tr th:only-of-type {\n",
       "        vertical-align: middle;\n",
       "    }\n",
       "\n",
       "    .dataframe tbody tr th {\n",
       "        vertical-align: top;\n",
       "    }\n",
       "\n",
       "    .dataframe thead th {\n",
       "        text-align: right;\n",
       "    }\n",
       "</style>\n",
       "<table border=\"1\" class=\"dataframe\">\n",
       "  <thead>\n",
       "    <tr style=\"text-align: right;\">\n",
       "      <th></th>\n",
       "      <th>tip_amount</th>\n",
       "    </tr>\n",
       "  </thead>\n",
       "  <tbody>\n",
       "    <tr>\n",
       "      <th>count</th>\n",
       "      <td>1.510165e+07</td>\n",
       "    </tr>\n",
       "    <tr>\n",
       "      <th>mean</th>\n",
       "      <td>1.345724e+00</td>\n",
       "    </tr>\n",
       "    <tr>\n",
       "      <th>std</th>\n",
       "      <td>2.132233e+00</td>\n",
       "    </tr>\n",
       "    <tr>\n",
       "      <th>min</th>\n",
       "      <td>0.000000e+00</td>\n",
       "    </tr>\n",
       "    <tr>\n",
       "      <th>25%</th>\n",
       "      <td>0.000000e+00</td>\n",
       "    </tr>\n",
       "    <tr>\n",
       "      <th>50%</th>\n",
       "      <td>1.000000e+00</td>\n",
       "    </tr>\n",
       "    <tr>\n",
       "      <th>75%</th>\n",
       "      <td>2.000000e+00</td>\n",
       "    </tr>\n",
       "    <tr>\n",
       "      <th>max</th>\n",
       "      <td>2.000000e+02</td>\n",
       "    </tr>\n",
       "  </tbody>\n",
       "</table>\n",
       "</div>"
      ],
      "text/plain": [
       "         tip_amount\n",
       "count  1.510165e+07\n",
       "mean   1.345724e+00\n",
       "std    2.132233e+00\n",
       "min    0.000000e+00\n",
       "25%    0.000000e+00\n",
       "50%    1.000000e+00\n",
       "75%    2.000000e+00\n",
       "max    2.000000e+02"
      ]
     },
     "execution_count": 11,
     "metadata": {},
     "output_type": "execute_result"
    }
   ],
   "source": [
    "full_tripdata[[\" tip_amount\"]].describe()"
   ]
  },
  {
   "cell_type": "code",
   "execution_count": 12,
   "metadata": {},
   "outputs": [
    {
     "data": {
      "text/plain": [
       "52.18520492793834"
      ]
     },
     "execution_count": 12,
     "metadata": {},
     "output_type": "execute_result"
    }
   ],
   "source": [
    "#Caculate the percentage of trips without tip\n",
    "notip = tips_amount.loc[(tips_amount == 0)].count()\n",
    "notip\n",
    "(float(len(tips_amount)-notip)) / len(tips_amount) * 100"
   ]
  },
  {
   "cell_type": "code",
   "execution_count": 13,
   "metadata": {},
   "outputs": [
    {
     "name": "stdout",
     "output_type": "stream",
     "text": [
      "count    7.880827e+06\n",
      "mean     2.578746e+00\n",
      "std      2.352112e+00\n",
      "min      1.000000e-02\n",
      "25%      1.250000e+00\n",
      "50%      2.000000e+00\n",
      "75%      3.000000e+00\n",
      "max      2.000000e+02\n",
      "Name:  tip_amount, dtype: float64\n"
     ]
    },
    {
     "data": {
      "text/plain": [
       "<matplotlib.axes._subplots.AxesSubplot at 0x7f12b270b050>"
      ]
     },
     "execution_count": 13,
     "metadata": {},
     "output_type": "execute_result"
    },
    {
     "data": {
      "image/png": "[encoded data removed]",
      "text/plain": [
       "<Figure size 432x288 with 1 Axes>"
      ]
     },
     "metadata": {},
     "output_type": "display_data"
    }
   ],
   "source": [
    "# plot the distribution after the zero tip trips removed \n",
    "withtip = tips_amount.loc[(tips_amount != 0)]\n",
    "print withtip.describe()\n",
    "sns.distplot(withtip.loc[(tips_amount != 0)],axlabel=\"Tip Amount\")"
   ]
  },
  {
   "cell_type": "code",
   "execution_count": 14,
   "metadata": {},
   "outputs": [
    {
     "data": {
      "text/plain": [
       "count    7.880827e+06\n",
       "mean     2.059656e+01\n",
       "std      1.655893e+01\n",
       "min      5.319149e-03\n",
       "25%      1.666667e+01\n",
       "50%      2.080000e+01\n",
       "75%      2.307692e+01\n",
       "max      6.360000e+03\n",
       "dtype: float64"
      ]
     },
     "execution_count": 14,
     "metadata": {},
     "output_type": "execute_result"
    },
    {
     "data": {
      "image/png": "[encoded data removed]",
      "text/plain": [
       "<Figure size 432x288 with 1 Axes>"
      ]
     },
     "metadata": {},
     "output_type": "display_data"
    }
   ],
   "source": [
    "#caculate the percentage as tip as of trip fare\n",
    "generosity = tips_amount /fare_amount * 100\n",
    "generosity = generosity.loc[(generosity != 0)]\n",
    "generosity.plot.hist(bins=40,range=(0,100))\n",
    "generosity.describe()"
   ]
  },
  {
   "cell_type": "markdown",
   "metadata": {},
   "source": [
    "# e. What is the distribution of total amount?"
   ]
  },
  {
   "cell_type": "code",
   "execution_count": 15,
   "metadata": {},
   "outputs": [
    {
     "data": {
      "text/plain": [
       "count    1.510165e+07\n",
       "mean     1.469078e+01\n",
       "std      1.194376e+01\n",
       "min      2.500000e+00\n",
       "25%      8.000000e+00\n",
       "50%      1.100000e+01\n",
       "75%      1.650000e+01\n",
       "max      6.281000e+02\n",
       "Name:  total_amount, dtype: float64"
      ]
     },
     "execution_count": 15,
     "metadata": {},
     "output_type": "execute_result"
    },
    {
     "data": {
      "image/png": "[encoded data removed]",
      "text/plain": [
       "<Figure size 432x288 with 1 Axes>"
      ]
     },
     "metadata": {},
     "output_type": "display_data"
    }
   ],
   "source": [
    "total_amounts = full_tripdata.iloc[:,20]\n",
    "total_amounts.plot.hist(bins=50,range=(0,100))\n",
    "total_amounts.describe()"
   ]
  },
  {
   "cell_type": "markdown",
   "metadata": {},
   "source": [
    "# What are top 5 busiest hours of the day?"
   ]
  },
  {
   "cell_type": "code",
   "execution_count": 16,
   "metadata": {},
   "outputs": [
    {
     "data": {
      "text/plain": [
       "Int64Index([19, 18, 20, 21, 22], dtype='int64', name=u' pickup_datetime')"
      ]
     },
     "execution_count": 16,
     "metadata": {},
     "output_type": "execute_result"
    }
   ],
   "source": [
    "# set pickup time as index in dataframe, \n",
    "pickupTime = pd.DataFrame(full_tripdata.iloc[:,5])\n",
    "pickupTime[\" pickup_datetime\"] = pd.to_datetime(pickupTime[\" pickup_datetime\"])\n",
    "pickupTime.index = pickupTime[\" pickup_datetime\"]\n",
    "\n",
    "#group by hour to list top 5 hours by count\n",
    "frequency = pickupTime.groupby(pickupTime.index.hour).count()\n",
    "\n",
    "frequency.sort_values(by=[\" pickup_datetime\"],ascending=False).head(5).index\n",
    "\n"
   ]
  },
  {
   "cell_type": "code",
   "execution_count": 20,
   "metadata": {},
   "outputs": [
    {
     "data": {
      "text/plain": [
       "<matplotlib.axes._subplots.AxesSubplot at 0xd111278>"
      ]
     },
     "execution_count": 20,
     "metadata": {},
     "output_type": "execute_result"
    },
    {
     "data": {
      "image/png": "[encoded data removed]",
      "text/plain": [
       "<matplotlib.figure.Figure at 0xd8fdf60>"
      ]
     },
     "metadata": {},
     "output_type": "display_data"
    }
   ],
   "source": [
    "# reorder the index to form the near normal distribution bar chat\n",
    "index = [10,11,12,13,14,15,16,17,18,19,20,21,22,23,0,1,2,3,4,5,6,7,8,9]\n",
    "frequency[\"new index\"] = index\n",
    "frequency =  frequency.sort_values([\"new index\"])\n",
    "frequency = frequency.drop([\"new index\"],axis=1)\n",
    "frequency.plot.bar()"
   ]
  }
 ],
 "metadata": {
  "kernelspec": {
   "display_name": "Python 2",
   "language": "python",
   "name": "python2"
  },
  "language_info": {
   "codemirror_mode": {
    "name": "ipython",
    "version": 2
   },
   "file_extension": ".py",
   "mimetype": "text/x-python",
   "name": "python",
   "nbconvert_exporter": "python",
   "pygments_lexer": "ipython2",
   "version": "2.7.14"
  }
 },
 "nbformat": 4,
 "nbformat_minor": 2
}
