{
 "cells": [
  {
   "cell_type": "markdown",
   "metadata": {},
   "source": [
    "# Preprocessing data from Kaggle New York Taxi Trip Duration competition "
   ]
  },
  {
   "cell_type": "code",
   "execution_count": 1,
   "metadata": {},
   "outputs": [],
   "source": [
    "#load data \n",
    "\n",
    "import pandas as pd\n",
    "import pickle\n",
    "from sklearn.cluster import KMeans\n",
    "%matplotlib inline\n",
    "import matplotlib.pyplot as plt\n",
    "import numpy as np\n",
    "from scipy import stats\n",
    "\n",
    "trip_data_file = \"data/train.csv\"\n",
    "\n",
    "full_tripdata = pd.read_csv(trip_data_file)"
   ]
  },
  {
   "cell_type": "code",
   "execution_count": 2,
   "metadata": {},
   "outputs": [
    {
     "name": "stdout",
     "output_type": "stream",
     "text": [
      "Index([u'id', u'vendor_id', u'pickup_datetime', u'dropoff_datetime',\n",
      "       u'passenger_count', u'pickup_longitude', u'pickup_latitude',\n",
      "       u'dropoff_longitude', u'dropoff_latitude', u'store_and_fwd_flag',\n",
      "       u'trip_duration'],\n",
      "      dtype='object')\n",
      "Index([u'pickup_datetime', u'dropoff_datetime', u'passenger_count',\n",
      "       u'pickup_longitude', u'pickup_latitude', u'dropoff_longitude',\n",
      "       u'dropoff_latitude', u'store_and_fwd_flag', u'trip_duration'],\n",
      "      dtype='object')\n"
     ]
    }
   ],
   "source": [
    "# Drop some un-wanted columns\n",
    "print full_tripdata.columns\n",
    "full_tripdata = full_tripdata.drop(columns=['id','vendor_id'])\n",
    "print full_tripdata.columns"
   ]
  },
  {
   "cell_type": "code",
   "execution_count": 3,
   "metadata": {},
   "outputs": [],
   "source": [
    "#prepare time related column , weekday and hourofday\n",
    "full_tripdata[\"pickup_datetime\"] = pd.to_datetime(full_tripdata[\"pickup_datetime\"])\n",
    "full_tripdata[\"dropoff_datetime\"] = pd.to_datetime(full_tripdata[\"dropoff_datetime\"])\n",
    "\n",
    "full_tripdata[\"weekday\"] = full_tripdata[\"pickup_datetime\"].dt.dayofweek\n",
    "full_tripdata[\"hourofday\"] = full_tripdata[\"pickup_datetime\"].dt.hour\n"
   ]
  },
  {
   "cell_type": "code",
   "execution_count": 4,
   "metadata": {},
   "outputs": [
    {
     "data": {
      "text/plain": [
       "Index([u'pickup_datetime', u'dropoff_datetime', u'passenger_count',\n",
       "       u'pickup_longitude', u'pickup_latitude', u'dropoff_longitude',\n",
       "       u'dropoff_latitude', u'store_and_fwd_flag', u'trip_duration',\n",
       "       u'weekday', u'hourofday'],\n",
       "      dtype='object')"
      ]
     },
     "execution_count": 4,
     "metadata": {},
     "output_type": "execute_result"
    }
   ],
   "source": [
    "full_tripdata.describe()\n",
    "full_tripdata.columns"
   ]
  },
  {
   "cell_type": "code",
   "execution_count": 5,
   "metadata": {},
   "outputs": [
    {
     "name": "stdout",
     "output_type": "stream",
     "text": [
      "       pickup_longitude  pickup_latitude\n",
      "count      1.458644e+06     1.458644e+06\n",
      "mean      -7.397349e+01     4.075092e+01\n",
      "std        7.090186e-02     3.288119e-02\n",
      "min       -1.219333e+02     3.435970e+01\n",
      "25%       -7.399187e+01     4.073735e+01\n",
      "50%       -7.398174e+01     4.075410e+01\n",
      "75%       -7.396733e+01     4.076836e+01\n",
      "max       -6.133553e+01     5.188108e+01\n",
      "       dropoff_longitude  dropoff_latitude\n",
      "count       1.458644e+06      1.458644e+06\n",
      "mean       -7.397342e+01      4.075180e+01\n",
      "std         7.064327e-02      3.589056e-02\n",
      "min        -1.219333e+02      3.218114e+01\n",
      "25%        -7.399133e+01      4.073588e+01\n",
      "50%        -7.397975e+01      4.075452e+01\n",
      "75%        -7.396301e+01      4.076981e+01\n",
      "max        -6.133553e+01      4.392103e+01\n"
     ]
    }
   ],
   "source": [
    "#prepare location, use pre-trained k-mean model\n",
    "model = pickle.load(open('location_cluster_kmean', 'rb'))\n",
    "pickupLocations = full_tripdata.iloc[:,3:5]\n",
    "#print pickupLocations.describe()\n",
    "full_tripdata[\"pickupLoc\"] = model.predict(pickupLocations.as_matrix())\n",
    "\n",
    "dropoffLocations = full_tripdata.iloc[:,5:7]\n",
    "full_tripdata[\"dropoffLoc\"] = model.predict(dropoffLocations.as_matrix())\n",
    "#print dropoffLocations.describe()"
   ]
  },
  {
   "cell_type": "code",
   "execution_count": 6,
   "metadata": {},
   "outputs": [],
   "source": [
    "#drop all un-wanted columns\n",
    "training = full_tripdata.drop(columns=['pickup_datetime',\n",
    "                                       'dropoff_datetime',\n",
    "                                       'dropoff_longitude',\n",
    "                                       'dropoff_latitude',\n",
    "                                       'pickup_longitude',\n",
    "                                       'pickup_latitude'])"
   ]
  },
  {
   "cell_type": "code",
   "execution_count": 10,
   "metadata": {},
   "outputs": [],
   "source": [
    "#column data type change \n",
    "training['weekday'] = training['weekday'].astype('category')\n",
    "training['hourofday'] = training['hourofday'].astype('category')\n",
    "training['pickupLoc'] = training['pickupLoc'].astype('category')\n",
    "training['dropoffLoc'] = training['dropoffLoc'].astype('category')\n",
    "training['store_and_fwd_flag'] = training['store_and_fwd_flag'].astype('category')"
   ]
  },
  {
   "cell_type": "code",
   "execution_count": 11,
   "metadata": {},
   "outputs": [
    {
     "data": {
      "text/plain": [
       "Index([u'passenger_count', u'store_and_fwd_flag', u'trip_duration', u'weekday',\n",
       "       u'hourofday', u'pickupLoc', u'dropoffLoc'],\n",
       "      dtype='object')"
      ]
     },
     "execution_count": 11,
     "metadata": {},
     "output_type": "execute_result"
    }
   ],
   "source": [
    "training.columns"
   ]
  },
  {
   "cell_type": "code",
   "execution_count": 12,
   "metadata": {},
   "outputs": [],
   "source": [
    "#training and result data split\n",
    "X = training.drop([\"trip_duration\"],axis=1)\n",
    "Y_triptime = training[\"trip_duration\"]\n",
    "\n",
    "#print X.columns\n",
    "#print Y_triptime"
   ]
  },
  {
   "cell_type": "code",
   "execution_count": 13,
   "metadata": {},
   "outputs": [],
   "source": [
    "#convert category data to one-hot embedding\n",
    "X = pd.get_dummies(X)"
   ]
  },
  {
   "cell_type": "code",
   "execution_count": 14,
   "metadata": {},
   "outputs": [],
   "source": [
    "#dump the prepaired data\n",
    "\n",
    "pickle.dump(X,open(\"X_Kaggle\",\"wb\"))\n",
    "pickle.dump(Y_triptime,open(\"Y_Kaggle_triptime\",\"wb\"))"
   ]
  },
  {
   "cell_type": "code",
   "execution_count": null,
   "metadata": {},
   "outputs": [],
   "source": []
  }
 ],
 "metadata": {
  "kernelspec": {
   "display_name": "Python 2",
   "language": "python",
   "name": "python2"
  },
  "language_info": {
   "codemirror_mode": {
    "name": "ipython",
    "version": 2
   },
   "file_extension": ".py",
   "mimetype": "text/x-python",
   "name": "python",
   "nbconvert_exporter": "python",
   "pygments_lexer": "ipython2",
   "version": "2.7.14"
  }
 },
 "nbformat": 4,
 "nbformat_minor": 2
}
