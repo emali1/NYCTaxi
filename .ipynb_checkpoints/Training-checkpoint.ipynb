{
 "cells": [
  {
   "cell_type": "code",
   "execution_count": 17,
   "metadata": {},
   "outputs": [],
   "source": [
    "#load data \n",
    "\n",
    "import pandas as pd\n",
    "import pickle\n",
    "import numpy as np\n",
    "from sklearn.svm import SVR\n",
    "from sklearn.model_selection import cross_val_score\n",
    "from sklearn.neural_network import MLPRegressor\n",
    "from sklearn.model_selection import GridSearchCV\n",
    "\n",
    "X_total = pickle.load(open('X', 'rb'))\n",
    "Y_fare_total = pickle.load(open('Y_fare', 'rb'))\n",
    "Y_tip_total = pickle.load(open('Y_tip', 'rb'))\n",
    "Y_triptime = pickle.load(open('Y_triptime', 'rb'))"
   ]
  },
  {
   "cell_type": "code",
   "execution_count": 23,
   "metadata": {},
   "outputs": [
    {
     "name": "stdout",
     "output_type": "stream",
     "text": [
      "50000\n",
      "50000\n"
     ]
    }
   ],
   "source": [
    "traingRecordNumber = 50000\n",
    "X = X_total.as_matrix()[0:traingRecordNumber,:]\n",
    "print str(len(X))\n",
    "\n",
    "\n",
    "y = np.log(Y_fare_total.tolist()[0:traingRecordNumber])\n",
    "print str(len(y))"
   ]
  },
  {
   "cell_type": "markdown",
   "metadata": {},
   "source": [
    "# Training"
   ]
  },
  {
   "cell_type": "code",
   "execution_count": null,
   "metadata": {},
   "outputs": [],
   "source": [
    "from sklearn.neighbors import KNeighborsRegressor\n",
    "model = KNeighborsRegressor()\n",
    "scores3 = cross_val_score(model, X2, y, cv=4,scoring='neg_mean_squared_error',n_jobs=-1)"
   ]
  },
  {
   "cell_type": "code",
   "execution_count": null,
   "metadata": {},
   "outputs": [],
   "source": [
    "scores3"
   ]
  },
  {
   "cell_type": "code",
   "execution_count": 24,
   "metadata": {
    "scrolled": true
   },
   "outputs": [
    {
     "data": {
      "text/plain": [
       "{'mean_fit_time': array([ 7.0660001 , 12.62600005, 16.28549993, 15.18699992, 11.70749998]),\n",
       " 'mean_score_time': array([0.04649997, 0.0309999 , 0.11150014, 0.12600005, 0.05500007]),\n",
       " 'mean_test_score': array([-0.06406653, -0.06915287, -0.06461499, -0.06424179, -0.06809226]),\n",
       " 'mean_train_score': array([-0.05464449, -0.05928849, -0.05278705, -0.05198372, -0.05775374]),\n",
       " 'param_hidden_layer_sizes': masked_array(data=[(30, 20), (10, 10, 10), (100, 30), (100, 100),\n",
       "                    (10, 10, 100)],\n",
       "              mask=[False, False, False, False, False],\n",
       "        fill_value='?',\n",
       "             dtype=object),\n",
       " 'params': [{'hidden_layer_sizes': (30, 20)},\n",
       "  {'hidden_layer_sizes': (10, 10, 10)},\n",
       "  {'hidden_layer_sizes': (100, 30)},\n",
       "  {'hidden_layer_sizes': (100, 100)},\n",
       "  {'hidden_layer_sizes': (10, 10, 100)}],\n",
       " 'rank_test_score': array([1, 5, 3, 2, 4]),\n",
       " 'split0_test_score': array([-0.06214621, -0.06883679, -0.06324322, -0.06359008, -0.06404691]),\n",
       " 'split0_train_score': array([-0.05266885, -0.06026214, -0.052446  , -0.05176325, -0.05626748]),\n",
       " 'split1_test_score': array([-0.06598686, -0.06946895, -0.06598676, -0.0648935 , -0.07213761]),\n",
       " 'split1_train_score': array([-0.05662013, -0.05831484, -0.05312809, -0.05220419, -0.05924   ]),\n",
       " 'std_fit_time': array([0.58700001, 3.62300003, 9.56849992, 3.46599996, 5.79850006]),\n",
       " 'std_score_time': array([0.00049996, 0.        , 0.00249994, 0.00100005, 0.00800014]),\n",
       " 'std_test_score': array([0.00192032, 0.00031608, 0.00137177, 0.00065171, 0.00404535]),\n",
       " 'std_train_score': array([0.00197564, 0.00097365, 0.00034105, 0.00022047, 0.00148626])}"
      ]
     },
     "execution_count": 24,
     "metadata": {},
     "output_type": "execute_result"
    }
   ],
   "source": [
    "model = MLPRegressor(early_stopping=True,alpha=0.1)\n",
    "#scores4 = cross_val_score(model, X2, y, cv=4,scoring='neg_mean_squared_error',n_jobs=-1)\n",
    "\n",
    "param_grid = [\n",
    " {'hidden_layer_sizes': [(30,20),(10,10,10),(100,30),(100,100),(10,10,100)]},\n",
    " ]\n",
    "\n",
    "clf2 = GridSearchCV(model, param_grid, cv=2,scoring='neg_mean_squared_error',\n",
    "                       n_jobs=-1)\n",
    "\n",
    "clf2.fit(X,y)\n",
    "\n",
    "clf2.cv_results_"
   ]
  },
  {
   "cell_type": "code",
   "execution_count": 10,
   "metadata": {},
   "outputs": [
    {
     "data": {
      "text/html": [
       "<div>\n",
       "<style scoped>\n",
       "    .dataframe tbody tr th:only-of-type {\n",
       "        vertical-align: middle;\n",
       "    }\n",
       "\n",
       "    .dataframe tbody tr th {\n",
       "        vertical-align: top;\n",
       "    }\n",
       "\n",
       "    .dataframe thead th {\n",
       "        text-align: right;\n",
       "    }\n",
       "</style>\n",
       "<table border=\"1\" class=\"dataframe\">\n",
       "  <thead>\n",
       "    <tr style=\"text-align: right;\">\n",
       "      <th></th>\n",
       "      <th>0</th>\n",
       "      <th>1</th>\n",
       "      <th>2</th>\n",
       "      <th>3</th>\n",
       "      <th>4</th>\n",
       "      <th>5</th>\n",
       "      <th>6</th>\n",
       "      <th>7</th>\n",
       "      <th>8</th>\n",
       "      <th>9</th>\n",
       "      <th>...</th>\n",
       "      <th>121</th>\n",
       "      <th>122</th>\n",
       "      <th>123</th>\n",
       "      <th>124</th>\n",
       "      <th>125</th>\n",
       "      <th>126</th>\n",
       "      <th>127</th>\n",
       "      <th>128</th>\n",
       "      <th>129</th>\n",
       "      <th>130</th>\n",
       "    </tr>\n",
       "  </thead>\n",
       "  <tbody>\n",
       "    <tr>\n",
       "      <th>count</th>\n",
       "      <td>50000.000000</td>\n",
       "      <td>50000.000000</td>\n",
       "      <td>50000.000000</td>\n",
       "      <td>50000.000000</td>\n",
       "      <td>50000.000000</td>\n",
       "      <td>50000.00000</td>\n",
       "      <td>50000.000000</td>\n",
       "      <td>50000.00000</td>\n",
       "      <td>50000.000000</td>\n",
       "      <td>50000.000000</td>\n",
       "      <td>...</td>\n",
       "      <td>50000.000000</td>\n",
       "      <td>50000.000000</td>\n",
       "      <td>50000.000000</td>\n",
       "      <td>50000.000000</td>\n",
       "      <td>50000.00000</td>\n",
       "      <td>50000.000000</td>\n",
       "      <td>50000.000000</td>\n",
       "      <td>50000.000000</td>\n",
       "      <td>50000.000000</td>\n",
       "      <td>50000.000000</td>\n",
       "    </tr>\n",
       "    <tr>\n",
       "      <th>mean</th>\n",
       "      <td>0.000060</td>\n",
       "      <td>0.000020</td>\n",
       "      <td>0.001200</td>\n",
       "      <td>0.001300</td>\n",
       "      <td>0.516560</td>\n",
       "      <td>0.48038</td>\n",
       "      <td>0.000480</td>\n",
       "      <td>0.18988</td>\n",
       "      <td>0.105040</td>\n",
       "      <td>0.079800</td>\n",
       "      <td>...</td>\n",
       "      <td>0.022960</td>\n",
       "      <td>0.038580</td>\n",
       "      <td>0.011980</td>\n",
       "      <td>0.012760</td>\n",
       "      <td>0.02084</td>\n",
       "      <td>0.012900</td>\n",
       "      <td>0.024080</td>\n",
       "      <td>0.016220</td>\n",
       "      <td>0.017860</td>\n",
       "      <td>0.001820</td>\n",
       "    </tr>\n",
       "    <tr>\n",
       "      <th>std</th>\n",
       "      <td>0.007746</td>\n",
       "      <td>0.004472</td>\n",
       "      <td>0.034621</td>\n",
       "      <td>0.036032</td>\n",
       "      <td>0.499731</td>\n",
       "      <td>0.49962</td>\n",
       "      <td>0.021904</td>\n",
       "      <td>0.39221</td>\n",
       "      <td>0.306608</td>\n",
       "      <td>0.270986</td>\n",
       "      <td>...</td>\n",
       "      <td>0.149777</td>\n",
       "      <td>0.192594</td>\n",
       "      <td>0.108797</td>\n",
       "      <td>0.112238</td>\n",
       "      <td>0.14285</td>\n",
       "      <td>0.112844</td>\n",
       "      <td>0.153299</td>\n",
       "      <td>0.126322</td>\n",
       "      <td>0.132444</td>\n",
       "      <td>0.042623</td>\n",
       "    </tr>\n",
       "    <tr>\n",
       "      <th>min</th>\n",
       "      <td>0.000000</td>\n",
       "      <td>0.000000</td>\n",
       "      <td>0.000000</td>\n",
       "      <td>0.000000</td>\n",
       "      <td>0.000000</td>\n",
       "      <td>0.00000</td>\n",
       "      <td>0.000000</td>\n",
       "      <td>0.00000</td>\n",
       "      <td>0.000000</td>\n",
       "      <td>0.000000</td>\n",
       "      <td>...</td>\n",
       "      <td>0.000000</td>\n",
       "      <td>0.000000</td>\n",
       "      <td>0.000000</td>\n",
       "      <td>0.000000</td>\n",
       "      <td>0.00000</td>\n",
       "      <td>0.000000</td>\n",
       "      <td>0.000000</td>\n",
       "      <td>0.000000</td>\n",
       "      <td>0.000000</td>\n",
       "      <td>0.000000</td>\n",
       "    </tr>\n",
       "    <tr>\n",
       "      <th>25%</th>\n",
       "      <td>0.000000</td>\n",
       "      <td>0.000000</td>\n",
       "      <td>0.000000</td>\n",
       "      <td>0.000000</td>\n",
       "      <td>0.000000</td>\n",
       "      <td>0.00000</td>\n",
       "      <td>0.000000</td>\n",
       "      <td>0.00000</td>\n",
       "      <td>0.000000</td>\n",
       "      <td>0.000000</td>\n",
       "      <td>...</td>\n",
       "      <td>0.000000</td>\n",
       "      <td>0.000000</td>\n",
       "      <td>0.000000</td>\n",
       "      <td>0.000000</td>\n",
       "      <td>0.00000</td>\n",
       "      <td>0.000000</td>\n",
       "      <td>0.000000</td>\n",
       "      <td>0.000000</td>\n",
       "      <td>0.000000</td>\n",
       "      <td>0.000000</td>\n",
       "    </tr>\n",
       "    <tr>\n",
       "      <th>50%</th>\n",
       "      <td>0.000000</td>\n",
       "      <td>0.000000</td>\n",
       "      <td>0.000000</td>\n",
       "      <td>0.000000</td>\n",
       "      <td>1.000000</td>\n",
       "      <td>0.00000</td>\n",
       "      <td>0.000000</td>\n",
       "      <td>0.00000</td>\n",
       "      <td>0.000000</td>\n",
       "      <td>0.000000</td>\n",
       "      <td>...</td>\n",
       "      <td>0.000000</td>\n",
       "      <td>0.000000</td>\n",
       "      <td>0.000000</td>\n",
       "      <td>0.000000</td>\n",
       "      <td>0.00000</td>\n",
       "      <td>0.000000</td>\n",
       "      <td>0.000000</td>\n",
       "      <td>0.000000</td>\n",
       "      <td>0.000000</td>\n",
       "      <td>0.000000</td>\n",
       "    </tr>\n",
       "    <tr>\n",
       "      <th>75%</th>\n",
       "      <td>0.000000</td>\n",
       "      <td>0.000000</td>\n",
       "      <td>0.000000</td>\n",
       "      <td>0.000000</td>\n",
       "      <td>1.000000</td>\n",
       "      <td>1.00000</td>\n",
       "      <td>0.000000</td>\n",
       "      <td>0.00000</td>\n",
       "      <td>0.000000</td>\n",
       "      <td>0.000000</td>\n",
       "      <td>...</td>\n",
       "      <td>0.000000</td>\n",
       "      <td>0.000000</td>\n",
       "      <td>0.000000</td>\n",
       "      <td>0.000000</td>\n",
       "      <td>0.00000</td>\n",
       "      <td>0.000000</td>\n",
       "      <td>0.000000</td>\n",
       "      <td>0.000000</td>\n",
       "      <td>0.000000</td>\n",
       "      <td>0.000000</td>\n",
       "    </tr>\n",
       "    <tr>\n",
       "      <th>max</th>\n",
       "      <td>1.000000</td>\n",
       "      <td>1.000000</td>\n",
       "      <td>1.000000</td>\n",
       "      <td>1.000000</td>\n",
       "      <td>1.000000</td>\n",
       "      <td>1.00000</td>\n",
       "      <td>1.000000</td>\n",
       "      <td>1.00000</td>\n",
       "      <td>1.000000</td>\n",
       "      <td>1.000000</td>\n",
       "      <td>...</td>\n",
       "      <td>1.000000</td>\n",
       "      <td>1.000000</td>\n",
       "      <td>1.000000</td>\n",
       "      <td>1.000000</td>\n",
       "      <td>1.00000</td>\n",
       "      <td>1.000000</td>\n",
       "      <td>1.000000</td>\n",
       "      <td>1.000000</td>\n",
       "      <td>1.000000</td>\n",
       "      <td>1.000000</td>\n",
       "    </tr>\n",
       "  </tbody>\n",
       "</table>\n",
       "<p>8 rows × 131 columns</p>\n",
       "</div>"
      ],
      "text/plain": [
       "                0             1             2             3             4    \\\n",
       "count  50000.000000  50000.000000  50000.000000  50000.000000  50000.000000   \n",
       "mean       0.000060      0.000020      0.001200      0.001300      0.516560   \n",
       "std        0.007746      0.004472      0.034621      0.036032      0.499731   \n",
       "min        0.000000      0.000000      0.000000      0.000000      0.000000   \n",
       "25%        0.000000      0.000000      0.000000      0.000000      0.000000   \n",
       "50%        0.000000      0.000000      0.000000      0.000000      1.000000   \n",
       "75%        0.000000      0.000000      0.000000      0.000000      1.000000   \n",
       "max        1.000000      1.000000      1.000000      1.000000      1.000000   \n",
       "\n",
       "               5             6            7             8             9    \\\n",
       "count  50000.00000  50000.000000  50000.00000  50000.000000  50000.000000   \n",
       "mean       0.48038      0.000480      0.18988      0.105040      0.079800   \n",
       "std        0.49962      0.021904      0.39221      0.306608      0.270986   \n",
       "min        0.00000      0.000000      0.00000      0.000000      0.000000   \n",
       "25%        0.00000      0.000000      0.00000      0.000000      0.000000   \n",
       "50%        0.00000      0.000000      0.00000      0.000000      0.000000   \n",
       "75%        1.00000      0.000000      0.00000      0.000000      0.000000   \n",
       "max        1.00000      1.000000      1.00000      1.000000      1.000000   \n",
       "\n",
       "           ...                121           122           123           124  \\\n",
       "count      ...       50000.000000  50000.000000  50000.000000  50000.000000   \n",
       "mean       ...           0.022960      0.038580      0.011980      0.012760   \n",
       "std        ...           0.149777      0.192594      0.108797      0.112238   \n",
       "min        ...           0.000000      0.000000      0.000000      0.000000   \n",
       "25%        ...           0.000000      0.000000      0.000000      0.000000   \n",
       "50%        ...           0.000000      0.000000      0.000000      0.000000   \n",
       "75%        ...           0.000000      0.000000      0.000000      0.000000   \n",
       "max        ...           1.000000      1.000000      1.000000      1.000000   \n",
       "\n",
       "               125           126           127           128           129  \\\n",
       "count  50000.00000  50000.000000  50000.000000  50000.000000  50000.000000   \n",
       "mean       0.02084      0.012900      0.024080      0.016220      0.017860   \n",
       "std        0.14285      0.112844      0.153299      0.126322      0.132444   \n",
       "min        0.00000      0.000000      0.000000      0.000000      0.000000   \n",
       "25%        0.00000      0.000000      0.000000      0.000000      0.000000   \n",
       "50%        0.00000      0.000000      0.000000      0.000000      0.000000   \n",
       "75%        0.00000      0.000000      0.000000      0.000000      0.000000   \n",
       "max        1.00000      1.000000      1.000000      1.000000      1.000000   \n",
       "\n",
       "                130  \n",
       "count  50000.000000  \n",
       "mean       0.001820  \n",
       "std        0.042623  \n",
       "min        0.000000  \n",
       "25%        0.000000  \n",
       "50%        0.000000  \n",
       "75%        0.000000  \n",
       "max        1.000000  \n",
       "\n",
       "[8 rows x 131 columns]"
      ]
     },
     "execution_count": 10,
     "metadata": {},
     "output_type": "execute_result"
    }
   ],
   "source": [
    "pd.DataFrame(X).describe()"
   ]
  },
  {
   "cell_type": "code",
   "execution_count": 13,
   "metadata": {},
   "outputs": [
    {
     "data": {
      "text/html": [
       "<div>\n",
       "<style scoped>\n",
       "    .dataframe tbody tr th:only-of-type {\n",
       "        vertical-align: middle;\n",
       "    }\n",
       "\n",
       "    .dataframe tbody tr th {\n",
       "        vertical-align: top;\n",
       "    }\n",
       "\n",
       "    .dataframe thead th {\n",
       "        text-align: right;\n",
       "    }\n",
       "</style>\n",
       "<table border=\"1\" class=\"dataframe\">\n",
       "  <thead>\n",
       "    <tr style=\"text-align: right;\">\n",
       "      <th></th>\n",
       "      <th>0</th>\n",
       "    </tr>\n",
       "  </thead>\n",
       "  <tbody>\n",
       "    <tr>\n",
       "      <th>count</th>\n",
       "      <td>50000.00000</td>\n",
       "    </tr>\n",
       "    <tr>\n",
       "      <th>mean</th>\n",
       "      <td>654.64968</td>\n",
       "    </tr>\n",
       "    <tr>\n",
       "      <th>std</th>\n",
       "      <td>378.63303</td>\n",
       "    </tr>\n",
       "    <tr>\n",
       "      <th>min</th>\n",
       "      <td>100.00000</td>\n",
       "    </tr>\n",
       "    <tr>\n",
       "      <th>25%</th>\n",
       "      <td>360.00000</td>\n",
       "    </tr>\n",
       "    <tr>\n",
       "      <th>50%</th>\n",
       "      <td>600.00000</td>\n",
       "    </tr>\n",
       "    <tr>\n",
       "      <th>75%</th>\n",
       "      <td>840.00000</td>\n",
       "    </tr>\n",
       "    <tr>\n",
       "      <th>max</th>\n",
       "      <td>2760.00000</td>\n",
       "    </tr>\n",
       "  </tbody>\n",
       "</table>\n",
       "</div>"
      ],
      "text/plain": [
       "                 0\n",
       "count  50000.00000\n",
       "mean     654.64968\n",
       "std      378.63303\n",
       "min      100.00000\n",
       "25%      360.00000\n",
       "50%      600.00000\n",
       "75%      840.00000\n",
       "max     2760.00000"
      ]
     },
     "execution_count": 13,
     "metadata": {},
     "output_type": "execute_result"
    }
   ],
   "source": [
    "pd.DataFrame(y).describe()"
   ]
  },
  {
   "cell_type": "code",
   "execution_count": null,
   "metadata": {},
   "outputs": [],
   "source": [
    "clf2.best_params_"
   ]
  },
  {
   "cell_type": "code",
   "execution_count": null,
   "metadata": {},
   "outputs": [],
   "source": [
    "clf2.best_score_"
   ]
  },
  {
   "cell_type": "code",
   "execution_count": null,
   "metadata": {},
   "outputs": [],
   "source": [
    "from sklearn.tree import DecisionTreeRegressor \n",
    "\n",
    "model = DecisionTreeRegressor()\n",
    "\n",
    "scores5 = cross_val_score(model, X, y, cv=2,n_jobs=-1)"
   ]
  },
  {
   "cell_type": "code",
   "execution_count": null,
   "metadata": {},
   "outputs": [],
   "source": [
    "scores5"
   ]
  },
  {
   "cell_type": "code",
   "execution_count": 11,
   "metadata": {},
   "outputs": [
    {
     "name": "stderr",
     "output_type": "stream",
     "text": [
      "C:\\Users\\IBM_ADMIN\\Anaconda2\\lib\\site-packages\\sklearn\\model_selection\\_search.py:761: DeprecationWarning: The grid_scores_ attribute was deprecated in version 0.18 in favor of the more elaborate cv_results_ attribute. The grid_scores_ attribute will not be available from 0.20\n",
      "  DeprecationWarning)\n"
     ]
    },
    {
     "data": {
      "text/plain": [
       "[mean: -0.19956, std: 0.02552, params: {'n_estimators': 40},\n",
       " mean: -0.20053, std: 0.02170, params: {'n_estimators': 50},\n",
       " mean: -0.19920, std: 0.02161, params: {'n_estimators': 70},\n",
       " mean: -0.19799, std: 0.02300, params: {'n_estimators': 90},\n",
       " mean: -0.19872, std: 0.02225, params: {'n_estimators': 100}]"
      ]
     },
     "execution_count": 11,
     "metadata": {},
     "output_type": "execute_result"
    }
   ],
   "source": [
    "from sklearn.ensemble import RandomForestRegressor\n",
    "\n",
    "model = RandomForestRegressor()\n",
    "#scores4 = cross_val_score(model, X2, y, cv=4,scoring='neg_mean_squared_error',n_jobs=-1)\n",
    "\n",
    "param_grid = [\n",
    " {'n_estimators': [40,50,70,90,100]},\n",
    " ]\n",
    "\n",
    "clf3 = GridSearchCV(model, param_grid, cv=2,scoring='neg_mean_squared_log_error',\n",
    "                       n_jobs=-1)\n",
    "\n",
    "clf3.fit(X,y)\n",
    "\n",
    "clf3.grid_scores_"
   ]
  },
  {
   "cell_type": "code",
   "execution_count": null,
   "metadata": {},
   "outputs": [],
   "source": [
    "clf3.best_score_"
   ]
  },
  {
   "cell_type": "code",
   "execution_count": null,
   "metadata": {},
   "outputs": [],
   "source": [
    "clf3.grid_scores_"
   ]
  },
  {
   "cell_type": "code",
   "execution_count": null,
   "metadata": {},
   "outputs": [],
   "source": [
    "#5,000 training record\n",
    "clf3.grid_scores_"
   ]
  },
  {
   "cell_type": "code",
   "execution_count": null,
   "metadata": {},
   "outputs": [],
   "source": [
    "#10,000 training records \n",
    "clf3.grid_scores_"
   ]
  },
  {
   "cell_type": "code",
   "execution_count": null,
   "metadata": {},
   "outputs": [],
   "source": [
    "#20,000 \n",
    "clf3.cv_results_"
   ]
  },
  {
   "cell_type": "code",
   "execution_count": null,
   "metadata": {},
   "outputs": [],
   "source": [
    "#40,000 \n",
    "clf3.cv_results_"
   ]
  },
  {
   "cell_type": "markdown",
   "metadata": {},
   "source": [
    "# Trained with XGB"
   ]
  },
  {
   "cell_type": "code",
   "execution_count": 30,
   "metadata": {},
   "outputs": [],
   "source": [
    "import xgboost as xgb\n",
    "\n",
    "from sklearn.model_selection import train_test_split\n",
    "\n",
    "#%% split training set to validation set\n",
    "Xtrain, Xval, Ztrain, Zval = train_test_split(X_total, np.log(Y_fare_total), test_size=0.2, random_state=0)\n",
    "Xcv,Xv,Zcv,Zv = train_test_split(Xval, Zval, test_size=0.5, random_state=1)\n",
    "data_tr  = xgb.DMatrix(Xtrain, label=Ztrain)\n",
    "data_cv  = xgb.DMatrix(Xcv   , label=Zcv)\n",
    "evallist = [(data_tr, 'train'), (data_cv, 'valid')]"
   ]
  },
  {
   "cell_type": "code",
   "execution_count": null,
   "metadata": {},
   "outputs": [
    {
     "name": "stdout",
     "output_type": "stream",
     "text": [
      "[0]\ttrain-rmse:8.95518\tvalid-rmse:8.81351\n",
      "Multiple eval metrics have been passed: 'valid-rmse' will be used for early stopping.\n",
      "\n",
      "Will train until valid-rmse hasn't improved in 30 rounds.\n",
      "[100]\ttrain-rmse:2.98125\tvalid-rmse:3.05373\n",
      "[200]\ttrain-rmse:2.73572\tvalid-rmse:2.85329\n",
      "[300]\ttrain-rmse:2.62845\tvalid-rmse:2.76188\n",
      "[400]\ttrain-rmse:2.56514\tvalid-rmse:2.71457\n",
      "[500]\ttrain-rmse:2.52507\tvalid-rmse:2.68923\n",
      "[600]\ttrain-rmse:2.49464\tvalid-rmse:2.66806\n"
     ]
    }
   ],
   "source": [
    "parms = {'max_depth':8, #maximum depth of a tree\n",
    "         'objective':'reg:linear',\n",
    "         'eta'      :0.3,\n",
    "         'subsample':0.8,#SGD will use this percentage of data\n",
    "         'lambda '  :4, #L2 regularization term,>1 more conservative \n",
    "         'colsample_bytree ':0.9,\n",
    "         'colsample_bylevel':1,\n",
    "         'min_child_weight': 10,\n",
    "         'nthread'  :3}  #number of cpu core to use\n",
    "\n",
    "model = xgb.train(parms, data_tr, num_boost_round=1000, evals = evallist,\n",
    "                  early_stopping_rounds=30, maximize=False, \n",
    "                  verbose_eval=100)\n",
    "\n",
    "print('score = %1.5f, n_boost_round =%d.'%(model.best_score,model.best_iteration))"
   ]
  },
  {
   "cell_type": "code",
   "execution_count": null,
   "metadata": {},
   "outputs": [],
   "source": [
    "import matplotlib.pyplot as plt\n",
    "import matplotlib\n",
    "%matplotlib inline\n",
    "\n",
    "fig =  plt.figure(figsize = (15,15))\n",
    "axes = fig.add_subplot(111)\n",
    "xgb.plot_importance(model,ax = axes,height =0.5)\n",
    "plt.show();plt.close()"
   ]
  },
  {
   "cell_type": "code",
   "execution_count": null,
   "metadata": {},
   "outputs": [],
   "source": []
  }
 ],
 "metadata": {
  "kernelspec": {
   "display_name": "Python 2",
   "language": "python",
   "name": "python2"
  },
  "language_info": {
   "codemirror_mode": {
    "name": "ipython",
    "version": 2
   },
   "file_extension": ".py",
   "mimetype": "text/x-python",
   "name": "python",
   "nbconvert_exporter": "python",
   "pygments_lexer": "ipython2",
   "version": "2.7.14"
  }
 },
 "nbformat": 4,
 "nbformat_minor": 2
}
